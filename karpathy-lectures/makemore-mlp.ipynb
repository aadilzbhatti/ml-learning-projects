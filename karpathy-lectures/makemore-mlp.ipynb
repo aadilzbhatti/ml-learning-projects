{
 "cells": [
  {
   "cell_type": "code",
   "execution_count": 1,
   "id": "9065d131-b8e7-417d-ac2c-56b0c2d1e76a",
   "metadata": {},
   "outputs": [],
   "source": [
    "import torch\n",
    "import torch.nn.functional as F\n",
    "import matplotlib.pyplot as plt\n",
    "%matplotlib inline"
   ]
  },
  {
   "cell_type": "code",
   "execution_count": 3,
   "id": "8352ff99-6bb5-4a2e-af3c-929da48d566b",
   "metadata": {},
   "outputs": [
    {
     "data": {
      "text/plain": [
       "['emma', 'olivia', 'ava', 'isabella', 'sophia', 'charlotte', 'mia', 'amelia']"
      ]
     },
     "execution_count": 3,
     "metadata": {},
     "output_type": "execute_result"
    }
   ],
   "source": [
    "# read in all the words\n",
    "words = open('makemore/names.txt', 'r').read().splitlines()\n",
    "words[:8]"
   ]
  },
  {
   "cell_type": "code",
   "execution_count": 4,
   "id": "41beb2af-7cbb-4305-9a68-768b86dfc4b5",
   "metadata": {},
   "outputs": [
    {
     "data": {
      "text/plain": [
       "32033"
      ]
     },
     "execution_count": 4,
     "metadata": {},
     "output_type": "execute_result"
    }
   ],
   "source": [
    "len(words)"
   ]
  },
  {
   "cell_type": "code",
   "execution_count": 5,
   "id": "b2d1fcca-08d4-4ddb-810b-9b16574447cb",
   "metadata": {},
   "outputs": [
    {
     "name": "stdout",
     "output_type": "stream",
     "text": [
      "{1: 'a', 2: 'b', 3: 'c', 4: 'd', 5: 'e', 6: 'f', 7: 'g', 8: 'h', 9: 'i', 10: 'j', 11: 'k', 12: 'l', 13: 'm', 14: 'n', 15: 'o', 16: 'p', 17: 'q', 18: 'r', 19: 's', 20: 't', 21: 'u', 22: 'v', 23: 'w', 24: 'x', 25: 'y', 26: 'z', 0: '.'}\n"
     ]
    }
   ],
   "source": [
    "# build the vocabulary of characters and mappings to/from integers\n",
    "chars = sorted(list(set(''.join(words))))\n",
    "stoi = {s:i + 1 for i, s in enumerate(chars)}\n",
    "stoi['.'] = 0\n",
    "itos = {i:s for s, i in stoi.items()}\n",
    "print(itos)"
   ]
  },
  {
   "cell_type": "code",
   "execution_count": 133,
   "id": "8b7b7adc-95a5-43fa-aeb1-ed66d5d3663a",
   "metadata": {},
   "outputs": [],
   "source": [
    "# build the dataset\n",
    "\n",
    "block_size = 3 # context length: how many characters do we take to predict the next one?\n",
    "# num_words_to_train_on = 5\n",
    "num_words_to_train_on = len(words)\n",
    "X, Y = [], []\n",
    "for w in words[:num_words_to_train_on]:\n",
    "\n",
    "    # print(w)\n",
    "    context = [0] * block_size\n",
    "    for ch in w + '.':\n",
    "        ix = stoi[ch]\n",
    "        X.append(context)\n",
    "        Y.append(ix)\n",
    "        # print(''.join(itos[i] for i in context), '--->', itos[ix])\n",
    "        context = context[1:] + [ix] # crop and append\n",
    "\n",
    "X = torch.tensor(X)\n",
    "Y = torch.tensor(Y)"
   ]
  },
  {
   "cell_type": "code",
   "execution_count": 134,
   "id": "e71ff92a-2e17-49ed-a8e0-3deb2c805a7b",
   "metadata": {},
   "outputs": [
    {
     "data": {
      "text/plain": [
       "(tensor([[ 0,  0,  0],\n",
       "         [ 0,  0,  5],\n",
       "         [ 0,  5, 13],\n",
       "         ...,\n",
       "         [26, 26, 25],\n",
       "         [26, 25, 26],\n",
       "         [25, 26, 24]]),\n",
       " torch.Size([228146, 3]),\n",
       " torch.int64)"
      ]
     },
     "execution_count": 134,
     "metadata": {},
     "output_type": "execute_result"
    }
   ],
   "source": [
    "X, X.shape, X.dtype"
   ]
  },
  {
   "cell_type": "code",
   "execution_count": 21,
   "id": "212e38d5-9e5d-40f8-b266-b446b2ba6314",
   "metadata": {},
   "outputs": [
    {
     "data": {
      "text/plain": [
       "(tensor([ 5, 13, 13,  1,  0, 15, 12,  9, 22,  9,  1,  0,  1, 22,  1,  0,  9, 19,\n",
       "          1,  2,  5, 12, 12,  1,  0, 19, 15, 16,  8,  9,  1,  0]),\n",
       " torch.Size([32]),\n",
       " torch.int64)"
      ]
     },
     "execution_count": 21,
     "metadata": {},
     "output_type": "execute_result"
    }
   ],
   "source": [
    "Y, Y.shape, Y.dtype"
   ]
  },
  {
   "cell_type": "code",
   "execution_count": 22,
   "id": "d81e5cb0-8262-4642-aee1-1d213307f6cb",
   "metadata": {},
   "outputs": [],
   "source": [
    "C = torch.randn((27, 2))"
   ]
  },
  {
   "cell_type": "code",
   "execution_count": 36,
   "id": "37e838c1-ac82-4a7a-9178-502e024f3b2e",
   "metadata": {},
   "outputs": [
    {
     "data": {
      "text/plain": [
       "tensor([0., 0., 0., 0., 0., 1., 0., 0., 0., 0., 0., 0., 0., 0., 0., 0., 0., 0.,\n",
       "        0., 0., 0., 0., 0., 0., 0., 0., 0.])"
      ]
     },
     "execution_count": 36,
     "metadata": {},
     "output_type": "execute_result"
    }
   ],
   "source": [
    "F.one_hot(torch.tensor(5), num_classes=27).float()"
   ]
  },
  {
   "cell_type": "code",
   "execution_count": 29,
   "id": "6436ddaf-1711-4bc9-89e7-e1a762e3c53e",
   "metadata": {},
   "outputs": [
    {
     "data": {
      "text/plain": [
       "tensor([-1.2760, -0.7069])"
      ]
     },
     "execution_count": 29,
     "metadata": {},
     "output_type": "execute_result"
    }
   ],
   "source": [
    "F.one_hot(torch.tensor(5), num_classes=27).float() @ C"
   ]
  },
  {
   "cell_type": "code",
   "execution_count": 38,
   "id": "5cb5e830-600f-49a9-9060-d564b7dfce81",
   "metadata": {},
   "outputs": [
    {
     "data": {
      "text/plain": [
       "tensor([-1.2760, -0.7069])"
      ]
     },
     "execution_count": 38,
     "metadata": {},
     "output_type": "execute_result"
    }
   ],
   "source": [
    "C[5]"
   ]
  },
  {
   "cell_type": "code",
   "execution_count": 40,
   "id": "12f679dc-0ab2-4544-9d18-0bb86c6895d8",
   "metadata": {},
   "outputs": [
    {
     "data": {
      "text/plain": [
       "tensor([[ 1.9611e+00, -1.0995e+00],\n",
       "        [ 2.7967e-01,  4.5368e-01],\n",
       "        [-3.5362e-01,  1.1076e+00],\n",
       "        [-2.2520e-03, -2.2764e-01],\n",
       "        [-1.9669e-01, -9.8899e-01],\n",
       "        [-1.2760e+00, -7.0686e-01],\n",
       "        [ 4.2441e-02, -1.4156e-01],\n",
       "        [ 1.0835e+00, -1.4262e+00],\n",
       "        [-2.6500e-01, -5.6620e-01],\n",
       "        [ 4.5375e-01,  7.9916e-01],\n",
       "        [-8.9608e-01,  7.0776e-01],\n",
       "        [ 1.1521e+00,  1.9807e+00],\n",
       "        [ 7.4913e-01,  1.3312e+00],\n",
       "        [-1.7405e+00,  9.3072e-02],\n",
       "        [ 1.2648e+00, -6.8516e-01],\n",
       "        [ 1.5088e-01,  7.2055e-01],\n",
       "        [-2.7819e-01,  4.3826e-01],\n",
       "        [ 3.9997e-01, -5.2894e-01],\n",
       "        [-3.8118e-01,  2.1561e+00],\n",
       "        [-2.9894e-01, -2.0249e+00],\n",
       "        [ 1.2458e+00,  4.4103e-01],\n",
       "        [-5.7928e-01, -9.9984e-01],\n",
       "        [-1.0429e+00,  4.5969e-01],\n",
       "        [-8.9585e-01, -3.8178e-01],\n",
       "        [ 2.4165e+00, -5.7713e-01],\n",
       "        [-1.8270e-01,  1.3015e+00],\n",
       "        [-5.7877e-01, -1.3279e+00]])"
      ]
     },
     "execution_count": 40,
     "metadata": {},
     "output_type": "execute_result"
    }
   ],
   "source": [
    "C\n",
    "# the one-hot vector with element n set to 1 multiplied by the matrix C pulls out the nth row of C\n",
    "# so it's equivalent to indexing directly into the matrix i.e. C[n]"
   ]
  },
  {
   "cell_type": "code",
   "execution_count": 45,
   "id": "3ecb1b85-1066-4f77-948c-de502bf2aae3",
   "metadata": {},
   "outputs": [
    {
     "data": {
      "text/plain": [
       "tensor([[-1.2760, -0.7069],\n",
       "        [ 0.0424, -0.1416],\n",
       "        [ 1.0835, -1.4262]])"
      ]
     },
     "execution_count": 45,
     "metadata": {},
     "output_type": "execute_result"
    }
   ],
   "source": [
    "C[[5, 6, 7]] # can index tensors with a list, which pulls out 5th, 6th, and 7th rows"
   ]
  },
  {
   "cell_type": "code",
   "execution_count": 49,
   "id": "255518e1-b411-44ad-92b0-74bfdd94f448",
   "metadata": {},
   "outputs": [
    {
     "data": {
      "text/plain": [
       "tensor([[[ 1.9611, -1.0995],\n",
       "         [ 1.9611, -1.0995],\n",
       "         [ 1.9611, -1.0995]],\n",
       "\n",
       "        [[ 1.9611, -1.0995],\n",
       "         [ 1.9611, -1.0995],\n",
       "         [-1.2760, -0.7069]],\n",
       "\n",
       "        [[ 1.9611, -1.0995],\n",
       "         [-1.2760, -0.7069],\n",
       "         [-1.7405,  0.0931]],\n",
       "\n",
       "        [[-1.2760, -0.7069],\n",
       "         [-1.7405,  0.0931],\n",
       "         [-1.7405,  0.0931]],\n",
       "\n",
       "        [[-1.7405,  0.0931],\n",
       "         [-1.7405,  0.0931],\n",
       "         [ 0.2797,  0.4537]],\n",
       "\n",
       "        [[ 1.9611, -1.0995],\n",
       "         [ 1.9611, -1.0995],\n",
       "         [ 1.9611, -1.0995]],\n",
       "\n",
       "        [[ 1.9611, -1.0995],\n",
       "         [ 1.9611, -1.0995],\n",
       "         [ 0.1509,  0.7205]],\n",
       "\n",
       "        [[ 1.9611, -1.0995],\n",
       "         [ 0.1509,  0.7205],\n",
       "         [ 0.7491,  1.3312]],\n",
       "\n",
       "        [[ 0.1509,  0.7205],\n",
       "         [ 0.7491,  1.3312],\n",
       "         [ 0.4537,  0.7992]],\n",
       "\n",
       "        [[ 0.7491,  1.3312],\n",
       "         [ 0.4537,  0.7992],\n",
       "         [-1.0429,  0.4597]],\n",
       "\n",
       "        [[ 0.4537,  0.7992],\n",
       "         [-1.0429,  0.4597],\n",
       "         [ 0.4537,  0.7992]],\n",
       "\n",
       "        [[-1.0429,  0.4597],\n",
       "         [ 0.4537,  0.7992],\n",
       "         [ 0.2797,  0.4537]],\n",
       "\n",
       "        [[ 1.9611, -1.0995],\n",
       "         [ 1.9611, -1.0995],\n",
       "         [ 1.9611, -1.0995]],\n",
       "\n",
       "        [[ 1.9611, -1.0995],\n",
       "         [ 1.9611, -1.0995],\n",
       "         [ 0.2797,  0.4537]],\n",
       "\n",
       "        [[ 1.9611, -1.0995],\n",
       "         [ 0.2797,  0.4537],\n",
       "         [-1.0429,  0.4597]],\n",
       "\n",
       "        [[ 0.2797,  0.4537],\n",
       "         [-1.0429,  0.4597],\n",
       "         [ 0.2797,  0.4537]],\n",
       "\n",
       "        [[ 1.9611, -1.0995],\n",
       "         [ 1.9611, -1.0995],\n",
       "         [ 1.9611, -1.0995]],\n",
       "\n",
       "        [[ 1.9611, -1.0995],\n",
       "         [ 1.9611, -1.0995],\n",
       "         [ 0.4537,  0.7992]],\n",
       "\n",
       "        [[ 1.9611, -1.0995],\n",
       "         [ 0.4537,  0.7992],\n",
       "         [-0.2989, -2.0249]],\n",
       "\n",
       "        [[ 0.4537,  0.7992],\n",
       "         [-0.2989, -2.0249],\n",
       "         [ 0.2797,  0.4537]],\n",
       "\n",
       "        [[-0.2989, -2.0249],\n",
       "         [ 0.2797,  0.4537],\n",
       "         [-0.3536,  1.1076]],\n",
       "\n",
       "        [[ 0.2797,  0.4537],\n",
       "         [-0.3536,  1.1076],\n",
       "         [-1.2760, -0.7069]],\n",
       "\n",
       "        [[-0.3536,  1.1076],\n",
       "         [-1.2760, -0.7069],\n",
       "         [ 0.7491,  1.3312]],\n",
       "\n",
       "        [[-1.2760, -0.7069],\n",
       "         [ 0.7491,  1.3312],\n",
       "         [ 0.7491,  1.3312]],\n",
       "\n",
       "        [[ 0.7491,  1.3312],\n",
       "         [ 0.7491,  1.3312],\n",
       "         [ 0.2797,  0.4537]],\n",
       "\n",
       "        [[ 1.9611, -1.0995],\n",
       "         [ 1.9611, -1.0995],\n",
       "         [ 1.9611, -1.0995]],\n",
       "\n",
       "        [[ 1.9611, -1.0995],\n",
       "         [ 1.9611, -1.0995],\n",
       "         [-0.2989, -2.0249]],\n",
       "\n",
       "        [[ 1.9611, -1.0995],\n",
       "         [-0.2989, -2.0249],\n",
       "         [ 0.1509,  0.7205]],\n",
       "\n",
       "        [[-0.2989, -2.0249],\n",
       "         [ 0.1509,  0.7205],\n",
       "         [-0.2782,  0.4383]],\n",
       "\n",
       "        [[ 0.1509,  0.7205],\n",
       "         [-0.2782,  0.4383],\n",
       "         [-0.2650, -0.5662]],\n",
       "\n",
       "        [[-0.2782,  0.4383],\n",
       "         [-0.2650, -0.5662],\n",
       "         [ 0.4537,  0.7992]],\n",
       "\n",
       "        [[-0.2650, -0.5662],\n",
       "         [ 0.4537,  0.7992],\n",
       "         [ 0.2797,  0.4537]]])"
      ]
     },
     "execution_count": 49,
     "metadata": {},
     "output_type": "execute_result"
    }
   ],
   "source": [
    "C[X] # equivalent to calling C[row] for each row in X\n",
    "# in the 3D tensor, each context vector of size N maps to an element 2D tensor consisting of 3 rows of 2 columns,\n",
    "# with each 2D tensor mapping each character of context (i.e. each row of the 2D tensor) to its 2D embedding\n",
    "# i.e. C[[0, 5, 13]] (element 2 of X) pulls out rows 0, 5, and 13 which are the embeddings for chars 0, 5, and 13. this is repeated\n",
    "# for each row in X."
   ]
  },
  {
   "cell_type": "code",
   "execution_count": 43,
   "id": "8f3a269e-cb4b-46f3-a33a-9a0605b87ade",
   "metadata": {},
   "outputs": [
    {
     "data": {
      "text/plain": [
       "torch.Size([32, 3, 2])"
      ]
     },
     "execution_count": 43,
     "metadata": {},
     "output_type": "execute_result"
    }
   ],
   "source": [
    "C[X].shape"
   ]
  },
  {
   "cell_type": "code",
   "execution_count": 50,
   "id": "6ae8cae1-00a5-4a7d-ac0f-6342e7b5d111",
   "metadata": {},
   "outputs": [
    {
     "data": {
      "text/plain": [
       "tensor(1)"
      ]
     },
     "execution_count": 50,
     "metadata": {},
     "output_type": "execute_result"
    }
   ],
   "source": [
    "X[13, 2]"
   ]
  },
  {
   "cell_type": "code",
   "execution_count": 51,
   "id": "2fa40d64-cee5-445c-ba2b-d28f7c4ab416",
   "metadata": {},
   "outputs": [
    {
     "data": {
      "text/plain": [
       "tensor([0.2797, 0.4537])"
      ]
     },
     "execution_count": 51,
     "metadata": {},
     "output_type": "execute_result"
    }
   ],
   "source": [
    "C[X][13, 2]"
   ]
  },
  {
   "cell_type": "code",
   "execution_count": 52,
   "id": "9bc513e9-9935-4500-b1d3-56f26c74a930",
   "metadata": {},
   "outputs": [
    {
     "data": {
      "text/plain": [
       "torch.Size([32, 3, 2])"
      ]
     },
     "execution_count": 52,
     "metadata": {},
     "output_type": "execute_result"
    }
   ],
   "source": [
    "emb = C[X]\n",
    "emb.shape"
   ]
  },
  {
   "cell_type": "code",
   "execution_count": 89,
   "id": "d5e9f86e-9aa3-4bd1-a58a-5eb7fc963684",
   "metadata": {},
   "outputs": [],
   "source": [
    "W1 = torch.randn((6, 100))\n",
    "b1 = torch.randn(100)"
   ]
  },
  {
   "cell_type": "code",
   "execution_count": 90,
   "id": "4cd85b51-c6a7-4a5f-8e14-1ffdf05adabc",
   "metadata": {},
   "outputs": [
    {
     "ename": "RuntimeError",
     "evalue": "mat1 and mat2 shapes cannot be multiplied (96x2 and 6x100)",
     "output_type": "error",
     "traceback": [
      "\u001b[0;31m---------------------------------------------------------------------------\u001b[0m",
      "\u001b[0;31mRuntimeError\u001b[0m                              Traceback (most recent call last)",
      "Cell \u001b[0;32mIn[90], line 1\u001b[0m\n\u001b[0;32m----> 1\u001b[0m \u001b[43memb\u001b[49m\u001b[43m \u001b[49m\u001b[38;5;241;43m@\u001b[39;49m\u001b[43m \u001b[49m\u001b[43mW1\u001b[49m \u001b[38;5;241m+\u001b[39m b1\n",
      "\u001b[0;31mRuntimeError\u001b[0m: mat1 and mat2 shapes cannot be multiplied (96x2 and 6x100)"
     ]
    }
   ],
   "source": [
    "emb @ W1 + b1"
   ]
  },
  {
   "cell_type": "code",
   "execution_count": 57,
   "id": "8149060b-2ae9-477d-ba29-ffac6311f668",
   "metadata": {},
   "outputs": [
    {
     "data": {
      "text/plain": [
       "tensor([[ 1.9611, -1.0995],\n",
       "        [ 1.9611, -1.0995],\n",
       "        [ 1.9611, -1.0995],\n",
       "        [-1.2760, -0.7069],\n",
       "        [-1.7405,  0.0931],\n",
       "        [ 1.9611, -1.0995],\n",
       "        [ 1.9611, -1.0995],\n",
       "        [ 1.9611, -1.0995],\n",
       "        [ 0.1509,  0.7205],\n",
       "        [ 0.7491,  1.3312],\n",
       "        [ 0.4537,  0.7992],\n",
       "        [-1.0429,  0.4597],\n",
       "        [ 1.9611, -1.0995],\n",
       "        [ 1.9611, -1.0995],\n",
       "        [ 1.9611, -1.0995],\n",
       "        [ 0.2797,  0.4537],\n",
       "        [ 1.9611, -1.0995],\n",
       "        [ 1.9611, -1.0995],\n",
       "        [ 1.9611, -1.0995],\n",
       "        [ 0.4537,  0.7992],\n",
       "        [-0.2989, -2.0249],\n",
       "        [ 0.2797,  0.4537],\n",
       "        [-0.3536,  1.1076],\n",
       "        [-1.2760, -0.7069],\n",
       "        [ 0.7491,  1.3312],\n",
       "        [ 1.9611, -1.0995],\n",
       "        [ 1.9611, -1.0995],\n",
       "        [ 1.9611, -1.0995],\n",
       "        [-0.2989, -2.0249],\n",
       "        [ 0.1509,  0.7205],\n",
       "        [-0.2782,  0.4383],\n",
       "        [-0.2650, -0.5662]])"
      ]
     },
     "execution_count": 57,
     "metadata": {},
     "output_type": "execute_result"
    }
   ],
   "source": [
    "emb[:, 0, :] # gets 0th element aka the 1st row of each 2D tensor, for each 2D tensor in the list of 2D tensors"
   ]
  },
  {
   "cell_type": "code",
   "execution_count": 61,
   "id": "25f7325a-dad0-4a83-ad33-26c8f22b7516",
   "metadata": {},
   "outputs": [
    {
     "data": {
      "text/plain": [
       "tensor([[ 1.9611, -1.0995,  1.9611, -1.0995,  1.9611, -1.0995],\n",
       "        [ 1.9611, -1.0995,  1.9611, -1.0995, -1.2760, -0.7069],\n",
       "        [ 1.9611, -1.0995, -1.2760, -0.7069, -1.7405,  0.0931],\n",
       "        [-1.2760, -0.7069, -1.7405,  0.0931, -1.7405,  0.0931],\n",
       "        [-1.7405,  0.0931, -1.7405,  0.0931,  0.2797,  0.4537],\n",
       "        [ 1.9611, -1.0995,  1.9611, -1.0995,  1.9611, -1.0995],\n",
       "        [ 1.9611, -1.0995,  1.9611, -1.0995,  0.1509,  0.7205],\n",
       "        [ 1.9611, -1.0995,  0.1509,  0.7205,  0.7491,  1.3312],\n",
       "        [ 0.1509,  0.7205,  0.7491,  1.3312,  0.4537,  0.7992],\n",
       "        [ 0.7491,  1.3312,  0.4537,  0.7992, -1.0429,  0.4597],\n",
       "        [ 0.4537,  0.7992, -1.0429,  0.4597,  0.4537,  0.7992],\n",
       "        [-1.0429,  0.4597,  0.4537,  0.7992,  0.2797,  0.4537],\n",
       "        [ 1.9611, -1.0995,  1.9611, -1.0995,  1.9611, -1.0995],\n",
       "        [ 1.9611, -1.0995,  1.9611, -1.0995,  0.2797,  0.4537],\n",
       "        [ 1.9611, -1.0995,  0.2797,  0.4537, -1.0429,  0.4597],\n",
       "        [ 0.2797,  0.4537, -1.0429,  0.4597,  0.2797,  0.4537],\n",
       "        [ 1.9611, -1.0995,  1.9611, -1.0995,  1.9611, -1.0995],\n",
       "        [ 1.9611, -1.0995,  1.9611, -1.0995,  0.4537,  0.7992],\n",
       "        [ 1.9611, -1.0995,  0.4537,  0.7992, -0.2989, -2.0249],\n",
       "        [ 0.4537,  0.7992, -0.2989, -2.0249,  0.2797,  0.4537],\n",
       "        [-0.2989, -2.0249,  0.2797,  0.4537, -0.3536,  1.1076],\n",
       "        [ 0.2797,  0.4537, -0.3536,  1.1076, -1.2760, -0.7069],\n",
       "        [-0.3536,  1.1076, -1.2760, -0.7069,  0.7491,  1.3312],\n",
       "        [-1.2760, -0.7069,  0.7491,  1.3312,  0.7491,  1.3312],\n",
       "        [ 0.7491,  1.3312,  0.7491,  1.3312,  0.2797,  0.4537],\n",
       "        [ 1.9611, -1.0995,  1.9611, -1.0995,  1.9611, -1.0995],\n",
       "        [ 1.9611, -1.0995,  1.9611, -1.0995, -0.2989, -2.0249],\n",
       "        [ 1.9611, -1.0995, -0.2989, -2.0249,  0.1509,  0.7205],\n",
       "        [-0.2989, -2.0249,  0.1509,  0.7205, -0.2782,  0.4383],\n",
       "        [ 0.1509,  0.7205, -0.2782,  0.4383, -0.2650, -0.5662],\n",
       "        [-0.2782,  0.4383, -0.2650, -0.5662,  0.4537,  0.7992],\n",
       "        [-0.2650, -0.5662,  0.4537,  0.7992,  0.2797,  0.4537]])"
      ]
     },
     "execution_count": 61,
     "metadata": {},
     "output_type": "execute_result"
    }
   ],
   "source": [
    "torch.cat([emb[:, 0, :], emb[:, 1, :], emb[:, 2, :]], dim=1) # combines each row of the 2D tensor to form 1 row for each 2D tensor in the list"
   ]
  },
  {
   "cell_type": "code",
   "execution_count": 64,
   "id": "efd1eb13-4955-4618-8d58-868d77473716",
   "metadata": {},
   "outputs": [
    {
     "data": {
      "text/plain": [
       "3"
      ]
     },
     "execution_count": 64,
     "metadata": {},
     "output_type": "execute_result"
    }
   ],
   "source": [
    "len(torch.unbind(emb, 1)) # returns [emb[:, 0, :], emb[:, 1, :], emb[:, 2, :]] without needing to explicitly define it"
   ]
  },
  {
   "cell_type": "code",
   "execution_count": 65,
   "id": "a8092ebe-2283-4bf3-a09a-ba4bf7295407",
   "metadata": {},
   "outputs": [
    {
     "data": {
      "text/plain": [
       "torch.Size([32, 6])"
      ]
     },
     "execution_count": 65,
     "metadata": {},
     "output_type": "execute_result"
    }
   ],
   "source": [
    "torch.cat(torch.unbind(emb, 1), dim=1).shape"
   ]
  },
  {
   "cell_type": "code",
   "execution_count": 66,
   "id": "26f9928b-6570-449d-9985-81ed3c985e6f",
   "metadata": {},
   "outputs": [
    {
     "data": {
      "text/plain": [
       "tensor([ 0,  1,  2,  3,  4,  5,  6,  7,  8,  9, 10, 11, 12, 13, 14, 15, 16, 17])"
      ]
     },
     "execution_count": 66,
     "metadata": {},
     "output_type": "execute_result"
    }
   ],
   "source": [
    "a = torch.arange(18)\n",
    "a"
   ]
  },
  {
   "cell_type": "code",
   "execution_count": 67,
   "id": "c4ead530-44c0-4c96-9213-8ec08e0dc45a",
   "metadata": {},
   "outputs": [
    {
     "data": {
      "text/plain": [
       "torch.Size([18])"
      ]
     },
     "execution_count": 67,
     "metadata": {},
     "output_type": "execute_result"
    }
   ],
   "source": [
    "a.shape"
   ]
  },
  {
   "cell_type": "code",
   "execution_count": 71,
   "id": "e53e347c-6116-4201-bd96-b345836982b3",
   "metadata": {},
   "outputs": [
    {
     "data": {
      "text/plain": [
       "tensor([[[ 0,  1],\n",
       "         [ 2,  3],\n",
       "         [ 4,  5]],\n",
       "\n",
       "        [[ 6,  7],\n",
       "         [ 8,  9],\n",
       "         [10, 11]],\n",
       "\n",
       "        [[12, 13],\n",
       "         [14, 15],\n",
       "         [16, 17]]])"
      ]
     },
     "execution_count": 71,
     "metadata": {},
     "output_type": "execute_result"
    }
   ],
   "source": [
    "a.view(3, 3, 2) # highly efficient since not changing underlying memory structure"
   ]
  },
  {
   "cell_type": "code",
   "execution_count": 72,
   "id": "6c817f9b-cc0c-4a79-9412-56bec67903ed",
   "metadata": {},
   "outputs": [
    {
     "name": "stderr",
     "output_type": "stream",
     "text": [
      "/var/folders/8_/kl72rt_d67z2yxqnyg9_n3mw0000gn/T/ipykernel_21998/214256462.py:1: UserWarning: TypedStorage is deprecated. It will be removed in the future and UntypedStorage will be the only storage class. This should only matter to you if you are using storages directly.  To access UntypedStorage directly, use tensor.untyped_storage() instead of tensor.storage()\n",
      "  a.storage()\n"
     ]
    },
    {
     "data": {
      "text/plain": [
       " 0\n",
       " 1\n",
       " 2\n",
       " 3\n",
       " 4\n",
       " 5\n",
       " 6\n",
       " 7\n",
       " 8\n",
       " 9\n",
       " 10\n",
       " 11\n",
       " 12\n",
       " 13\n",
       " 14\n",
       " 15\n",
       " 16\n",
       " 17\n",
       "[torch.storage.TypedStorage(dtype=torch.int64, device=cpu) of size 18]"
      ]
     },
     "execution_count": 72,
     "metadata": {},
     "output_type": "execute_result"
    }
   ],
   "source": [
    "a.storage()"
   ]
  },
  {
   "cell_type": "code",
   "execution_count": 81,
   "id": "1c72ad01-7e64-490c-b78b-07b7a52e187a",
   "metadata": {},
   "outputs": [
    {
     "data": {
      "text/plain": [
       "tensor([[ 1.9611, -1.0995,  1.9611, -1.0995,  1.9611, -1.0995],\n",
       "        [ 1.9611, -1.0995,  1.9611, -1.0995, -1.2760, -0.7069],\n",
       "        [ 1.9611, -1.0995, -1.2760, -0.7069, -1.7405,  0.0931],\n",
       "        [-1.2760, -0.7069, -1.7405,  0.0931, -1.7405,  0.0931],\n",
       "        [-1.7405,  0.0931, -1.7405,  0.0931,  0.2797,  0.4537],\n",
       "        [ 1.9611, -1.0995,  1.9611, -1.0995,  1.9611, -1.0995],\n",
       "        [ 1.9611, -1.0995,  1.9611, -1.0995,  0.1509,  0.7205],\n",
       "        [ 1.9611, -1.0995,  0.1509,  0.7205,  0.7491,  1.3312],\n",
       "        [ 0.1509,  0.7205,  0.7491,  1.3312,  0.4537,  0.7992],\n",
       "        [ 0.7491,  1.3312,  0.4537,  0.7992, -1.0429,  0.4597],\n",
       "        [ 0.4537,  0.7992, -1.0429,  0.4597,  0.4537,  0.7992],\n",
       "        [-1.0429,  0.4597,  0.4537,  0.7992,  0.2797,  0.4537],\n",
       "        [ 1.9611, -1.0995,  1.9611, -1.0995,  1.9611, -1.0995],\n",
       "        [ 1.9611, -1.0995,  1.9611, -1.0995,  0.2797,  0.4537],\n",
       "        [ 1.9611, -1.0995,  0.2797,  0.4537, -1.0429,  0.4597],\n",
       "        [ 0.2797,  0.4537, -1.0429,  0.4597,  0.2797,  0.4537],\n",
       "        [ 1.9611, -1.0995,  1.9611, -1.0995,  1.9611, -1.0995],\n",
       "        [ 1.9611, -1.0995,  1.9611, -1.0995,  0.4537,  0.7992],\n",
       "        [ 1.9611, -1.0995,  0.4537,  0.7992, -0.2989, -2.0249],\n",
       "        [ 0.4537,  0.7992, -0.2989, -2.0249,  0.2797,  0.4537],\n",
       "        [-0.2989, -2.0249,  0.2797,  0.4537, -0.3536,  1.1076],\n",
       "        [ 0.2797,  0.4537, -0.3536,  1.1076, -1.2760, -0.7069],\n",
       "        [-0.3536,  1.1076, -1.2760, -0.7069,  0.7491,  1.3312],\n",
       "        [-1.2760, -0.7069,  0.7491,  1.3312,  0.7491,  1.3312],\n",
       "        [ 0.7491,  1.3312,  0.7491,  1.3312,  0.2797,  0.4537],\n",
       "        [ 1.9611, -1.0995,  1.9611, -1.0995,  1.9611, -1.0995],\n",
       "        [ 1.9611, -1.0995,  1.9611, -1.0995, -0.2989, -2.0249],\n",
       "        [ 1.9611, -1.0995, -0.2989, -2.0249,  0.1509,  0.7205],\n",
       "        [-0.2989, -2.0249,  0.1509,  0.7205, -0.2782,  0.4383],\n",
       "        [ 0.1509,  0.7205, -0.2782,  0.4383, -0.2650, -0.5662],\n",
       "        [-0.2782,  0.4383, -0.2650, -0.5662,  0.4537,  0.7992],\n",
       "        [-0.2650, -0.5662,  0.4537,  0.7992,  0.2797,  0.4537]])"
      ]
     },
     "execution_count": 81,
     "metadata": {},
     "output_type": "execute_result"
    }
   ],
   "source": [
    "emb.view(32, 6) # equivalent to the cat operation above"
   ]
  },
  {
   "cell_type": "code",
   "execution_count": 91,
   "id": "f7dccf90-c726-41dd-8f2f-00bc64311180",
   "metadata": {},
   "outputs": [],
   "source": [
    "# h = emb.view(32, 6) @ W1 + b1\n",
    "# h = emb.view(emb.shape[0], 6) @ W1 + b1\n",
    "h = emb.view(-1, 6) @ W1 + b1 # these are all equivalent"
   ]
  },
  {
   "cell_type": "code",
   "execution_count": 92,
   "id": "64b6c48d-c7f4-48f5-80a4-3f50365c46ec",
   "metadata": {},
   "outputs": [
    {
     "data": {
      "text/plain": [
       "tensor([[-0.8829,  1.8169, -4.1948,  ...,  5.9913,  0.0178, -2.3984],\n",
       "        [-8.3727,  0.0181, -0.1050,  ...,  0.7233, -1.5377, -3.3940],\n",
       "        [-3.8959,  0.2063,  2.1168,  ..., -2.4446,  4.6737, -0.4232],\n",
       "        ...,\n",
       "        [ 0.1045, -0.2324,  0.4988,  ...,  1.0673, -0.8765, -1.4761],\n",
       "        [ 0.0973,  1.8939,  1.0253,  ...,  1.5906,  1.4566,  0.1921],\n",
       "        [-1.5278,  0.4760,  1.3027,  ..., -0.3246, -0.2434, -1.3538]])"
      ]
     },
     "execution_count": 92,
     "metadata": {},
     "output_type": "execute_result"
    }
   ],
   "source": [
    "h"
   ]
  },
  {
   "cell_type": "code",
   "execution_count": 78,
   "id": "e842c310-b240-4b1b-879d-418a2c12e6c4",
   "metadata": {},
   "outputs": [
    {
     "data": {
      "text/plain": [
       "torch.Size([32, 100])"
      ]
     },
     "execution_count": 78,
     "metadata": {},
     "output_type": "execute_result"
    }
   ],
   "source": [
    "h.shape"
   ]
  },
  {
   "cell_type": "code",
   "execution_count": 93,
   "id": "773401bd-6945-4dc7-b41c-b8065d1130d2",
   "metadata": {},
   "outputs": [],
   "source": [
    "h = torch.tanh(emb.view(-1, 6) @ W1 + b1)"
   ]
  },
  {
   "cell_type": "code",
   "execution_count": 94,
   "id": "438c2e87-142d-47a4-8de5-e243ceb808a9",
   "metadata": {},
   "outputs": [
    {
     "data": {
      "text/plain": [
       "tensor([[-0.7079,  0.9485, -0.9995,  ...,  1.0000,  0.0178, -0.9836],\n",
       "        [-1.0000,  0.0181, -0.1046,  ...,  0.6190, -0.9117, -0.9977],\n",
       "        [-0.9992,  0.2035,  0.9714,  ..., -0.9851,  0.9998, -0.3997],\n",
       "        ...,\n",
       "        [ 0.1042, -0.2283,  0.4612,  ...,  0.7884, -0.7046, -0.9007],\n",
       "        [ 0.0970,  0.9557,  0.7720,  ...,  0.9202,  0.8970,  0.1898],\n",
       "        [-0.9101,  0.4430,  0.8624,  ..., -0.3137, -0.2387, -0.8750]])"
      ]
     },
     "execution_count": 94,
     "metadata": {},
     "output_type": "execute_result"
    }
   ],
   "source": [
    "h"
   ]
  },
  {
   "cell_type": "code",
   "execution_count": 84,
   "id": "3fd46f59-1407-4aeb-ae91-642ff7f62700",
   "metadata": {},
   "outputs": [
    {
     "data": {
      "text/plain": [
       "torch.Size([32, 100])"
      ]
     },
     "execution_count": 84,
     "metadata": {},
     "output_type": "execute_result"
    }
   ],
   "source": [
    "(emb.view(-1, 6) @ W1).shape"
   ]
  },
  {
   "cell_type": "code",
   "execution_count": 85,
   "id": "19336398-744e-4d64-abaa-ae125a60dd4c",
   "metadata": {},
   "outputs": [
    {
     "data": {
      "text/plain": [
       "torch.Size([100])"
      ]
     },
     "execution_count": 85,
     "metadata": {},
     "output_type": "execute_result"
    }
   ],
   "source": [
    "b1.shape"
   ]
  },
  {
   "cell_type": "code",
   "execution_count": 86,
   "id": "eb43b682-b919-4fa8-8ffc-906c35a23123",
   "metadata": {},
   "outputs": [],
   "source": [
    "# 32, 100\n",
    "#  1, 100 -> leads to bias vector being added to each row of W1 (which is what we want)"
   ]
  },
  {
   "cell_type": "code",
   "execution_count": 95,
   "id": "226119cf-e8ca-4a10-b773-3fb462c37c1c",
   "metadata": {},
   "outputs": [],
   "source": [
    "# output layer\n",
    "W2 = torch.randn((100, 27))\n",
    "b2 = torch.randn(27)"
   ]
  },
  {
   "cell_type": "code",
   "execution_count": 96,
   "id": "a5fd7fea-1aa0-4e7a-96bd-80c714363765",
   "metadata": {},
   "outputs": [],
   "source": [
    "logits = h @ W2 + b2"
   ]
  },
  {
   "cell_type": "code",
   "execution_count": 98,
   "id": "a6b01d1a-f0fe-48e5-8926-3f11d1285cbf",
   "metadata": {},
   "outputs": [],
   "source": [
    "counts = logits.exp()"
   ]
  },
  {
   "cell_type": "code",
   "execution_count": 99,
   "id": "8bf4e761-6d16-4758-b058-49d76f911915",
   "metadata": {},
   "outputs": [],
   "source": [
    "prob = counts / counts.sum(1, keepdims=True)"
   ]
  },
  {
   "cell_type": "code",
   "execution_count": 101,
   "id": "2bd16345-ff5b-4010-b275-5cadd199d8ef",
   "metadata": {},
   "outputs": [
    {
     "data": {
      "text/plain": [
       "torch.Size([32, 27])"
      ]
     },
     "execution_count": 101,
     "metadata": {},
     "output_type": "execute_result"
    }
   ],
   "source": [
    "prob.shape"
   ]
  },
  {
   "cell_type": "code",
   "execution_count": 102,
   "id": "a790b0f3-889b-4311-b159-775bc54d4105",
   "metadata": {},
   "outputs": [
    {
     "data": {
      "text/plain": [
       "tensor([ 5, 13, 13,  1,  0, 15, 12,  9, 22,  9,  1,  0,  1, 22,  1,  0,  9, 19,\n",
       "         1,  2,  5, 12, 12,  1,  0, 19, 15, 16,  8,  9,  1,  0])"
      ]
     },
     "execution_count": 102,
     "metadata": {},
     "output_type": "execute_result"
    }
   ],
   "source": [
    "Y"
   ]
  },
  {
   "cell_type": "code",
   "execution_count": 103,
   "id": "e75ef3ce-a36b-429e-b298-bf2f6b0ffeb0",
   "metadata": {},
   "outputs": [
    {
     "data": {
      "text/plain": [
       "tensor([ 0,  1,  2,  3,  4,  5,  6,  7,  8,  9, 10, 11, 12, 13, 14, 15, 16, 17,\n",
       "        18, 19, 20, 21, 22, 23, 24, 25, 26, 27, 28, 29, 30, 31])"
      ]
     },
     "execution_count": 103,
     "metadata": {},
     "output_type": "execute_result"
    }
   ],
   "source": [
    "torch.arange(32)"
   ]
  },
  {
   "cell_type": "code",
   "execution_count": 104,
   "id": "f6966b8e-7e2e-4400-85bb-e2183622f2c5",
   "metadata": {},
   "outputs": [
    {
     "data": {
      "text/plain": [
       "tensor([2.2659e-12, 4.7597e-05, 2.5637e-08, 2.0485e-02, 9.3551e-13, 2.5677e-06,\n",
       "        3.4227e-05, 5.0204e-12, 3.2950e-08, 8.3984e-15, 1.0887e-09, 6.8532e-11,\n",
       "        9.9701e-13, 1.7114e-08, 2.4729e-12, 7.5168e-10, 2.5174e-10, 1.1020e-04,\n",
       "        1.5718e-12, 9.1184e-01, 7.2797e-08, 1.0436e-01, 1.3653e-01, 1.2207e-14,\n",
       "        7.7116e-11, 1.0587e-05, 3.2476e-04, 7.6964e-10, 6.0792e-10, 1.9777e-11,\n",
       "        1.2145e-10, 3.0688e-10])"
      ]
     },
     "execution_count": 104,
     "metadata": {},
     "output_type": "execute_result"
    }
   ],
   "source": [
    "prob[torch.arange(32), Y] # gets i, jth probability where i is a row of prob and j is a row in prob coming from Y\n",
    "# e.g. we will get a zip of torch.arange(32) and Y, and get the element in prob corresponding to each zipped element"
   ]
  },
  {
   "cell_type": "code",
   "execution_count": 105,
   "id": "c5163fe8-ad90-4959-8d21-ac7f29265071",
   "metadata": {},
   "outputs": [
    {
     "data": {
      "text/plain": [
       "tensor(18.3597)"
      ]
     },
     "execution_count": 105,
     "metadata": {},
     "output_type": "execute_result"
    }
   ],
   "source": [
    "loss = -prob[torch.arange(32), Y].log().mean()\n",
    "loss"
   ]
  },
  {
   "cell_type": "code",
   "execution_count": 106,
   "id": "449b292a-9885-4ed3-87b2-f952d3af30dc",
   "metadata": {},
   "outputs": [],
   "source": [
    "# clean it up"
   ]
  },
  {
   "cell_type": "code",
   "execution_count": 135,
   "id": "3e1eb0e5-0a63-4ead-9994-b5d9d4591c5a",
   "metadata": {},
   "outputs": [
    {
     "data": {
      "text/plain": [
       "(torch.Size([228146, 3]), torch.Size([228146]))"
      ]
     },
     "execution_count": 135,
     "metadata": {},
     "output_type": "execute_result"
    }
   ],
   "source": [
    "X.shape, Y.shape # dataset"
   ]
  },
  {
   "cell_type": "code",
   "execution_count": 209,
   "id": "fa6b3809-8923-417a-8240-3d735859251c",
   "metadata": {},
   "outputs": [],
   "source": [
    "g = torch.Generator().manual_seed(2147483647) # for reproducibility\n",
    "C = torch.randn((27, 2), generator=g)\n",
    "W1 = torch.randn((6, 100), generator=g)\n",
    "b1 = torch.randn(100, generator=g)\n",
    "W2 = torch.randn((100, 27), generator=g)\n",
    "b2 = torch.randn(27, generator=g)\n",
    "parameters = [C, W1, b1, W2, b2]"
   ]
  },
  {
   "cell_type": "code",
   "execution_count": 210,
   "id": "73a862bf-b88d-4e3d-ba38-32cf6582d696",
   "metadata": {},
   "outputs": [
    {
     "data": {
      "text/plain": [
       "3481"
      ]
     },
     "execution_count": 210,
     "metadata": {},
     "output_type": "execute_result"
    }
   ],
   "source": [
    "sum(p.nelement() for p in parameters) # number of parameters in total"
   ]
  },
  {
   "cell_type": "code",
   "execution_count": 211,
   "id": "7a5bcd8d-e811-421f-b9b4-3b807801c7d7",
   "metadata": {},
   "outputs": [],
   "source": [
    "for p in parameters:\n",
    "    p.requires_grad = True"
   ]
  },
  {
   "cell_type": "code",
   "execution_count": 212,
   "id": "8b29b13f-dd57-4437-8321-245c1344ee02",
   "metadata": {},
   "outputs": [],
   "source": [
    "lre = torch.linspace(-3, 0, 1000)\n",
    "lrs = 10**lre"
   ]
  },
  {
   "cell_type": "code",
   "execution_count": 222,
   "id": "6517933c-ecde-4a2c-9b65-4aaf4a1572d6",
   "metadata": {},
   "outputs": [
    {
     "data": {
      "text/plain": [
       "2.688178539276123"
      ]
     },
     "execution_count": 222,
     "metadata": {},
     "output_type": "execute_result"
    }
   ],
   "source": [
    "steps = 10000\n",
    "lri = []\n",
    "lossi = []\n",
    "\n",
    "for i in range(steps):\n",
    "\n",
    "    # minibatch construct\n",
    "    ix = torch.randint(0, X.shape[0], (32,))\n",
    "    \n",
    "    # forward pass\n",
    "    emb = C[X[ix]] # (32, 3, 2)\n",
    "    h = torch.tanh(emb.view(-1, 6) @ W1 + b1) # (32, 100)\n",
    "    logits = h @ W2 + b2 # (32, 27)\n",
    "    # counts = logits.exp()\n",
    "    # prob = counts / counts.sum(1, keepdims=True)\n",
    "    # loss = -prob[torch.arange(32), Y].log().mean()\n",
    "    loss = F.cross_entropy(logits, Y[ix]) # equivalent to above, but more efficient\n",
    "    # print(loss.item())\n",
    "    \n",
    "    # backward pass\n",
    "    for p in parameters:\n",
    "        p.grad = None\n",
    "    loss.backward()\n",
    "    \n",
    "    # update\n",
    "    # lr = lrs[i]\n",
    "    lr = 0.01\n",
    "    for p in parameters:\n",
    "        p.data += -lr * p.grad\n",
    "\n",
    "    # track stats\n",
    "    # lri.append(lre[i])\n",
    "    # lossi.append(loss.item())\n",
    "loss.item()"
   ]
  },
  {
   "cell_type": "code",
   "execution_count": 188,
   "id": "5caf4dc5-a6c3-4e7d-8aec-cec3a4692525",
   "metadata": {},
   "outputs": [
    {
     "data": {
      "text/plain": [
       "tensor([  1459, 203080, 187951,  68627, 176446, 170849, 118462, 213029,  83251,\n",
       "         86758, 214014,  67023, 203299,  88437, 105959, 142718, 123193, 159290,\n",
       "         40203, 187818,  79655, 203764,  33520, 112202,  85382, 136977, 223176,\n",
       "        128350, 200115, 193421,  77769,  11108])"
      ]
     },
     "execution_count": 188,
     "metadata": {},
     "output_type": "execute_result"
    }
   ],
   "source": [
    "# training takes a long time, so let's do forward-backward-update on batches of the training data\n",
    "\n",
    "torch.randint(0, X.shape[0], (32,))"
   ]
  },
  {
   "cell_type": "code",
   "execution_count": 223,
   "id": "9338a3ae-ef2d-46f0-abda-fa8bb1e72d06",
   "metadata": {},
   "outputs": [
    {
     "data": {
      "text/plain": [
       "tensor(2.2212, grad_fn=<NllLossBackward0>)"
      ]
     },
     "execution_count": 223,
     "metadata": {},
     "output_type": "execute_result"
    }
   ],
   "source": [
    "emb = C[X] # (32, 3, 2)\n",
    "h = torch.tanh(emb.view(-1, 6) @ W1 + b1) # (32, 100)\n",
    "logits = h @ W2 + b2 # (32, 27)\n",
    "loss = F.cross_entropy(logits, Y)\n",
    "loss"
   ]
  },
  {
   "cell_type": "code",
   "execution_count": 202,
   "id": "41b4be96-9546-4b82-b365-192911c74d73",
   "metadata": {},
   "outputs": [
    {
     "data": {
      "text/plain": [
       "[<matplotlib.lines.Line2D at 0x110623890>]"
      ]
     },
     "execution_count": 202,
     "metadata": {},
     "output_type": "execute_result"
    },
    {
     "data": {
      "image/png": "[encoded data removed]",
      "text/plain": [
       "<Figure size 640x480 with 1 Axes>"
      ]
     },
     "metadata": {},
     "output_type": "display_data"
    }
   ],
   "source": [
    "plt.plot(lri, lossi)"
   ]
  },
  {
   "cell_type": "code",
   "execution_count": 203,
   "id": "189b3e0e-b858-4cfe-8a02-db291b1e8b35",
   "metadata": {},
   "outputs": [
    {
     "data": {
      "text/plain": [
       "tensor(-0.8348)"
      ]
     },
     "execution_count": 203,
     "metadata": {},
     "output_type": "execute_result"
    }
   ],
   "source": [
    "_, idx = torch.min(torch.tensor(lossi), dim=0)\n",
    "idx\n",
    "lri[idx]"
   ]
  },
  {
   "cell_type": "code",
   "execution_count": 224,
   "id": "5d369e5e-f5a5-493d-9c55-95ffb45182a7",
   "metadata": {},
   "outputs": [],
   "source": [
    "# training split (param training), dev/validation split (hyperparam training), test split\n",
    "# 80%, 10%, 10%"
   ]
  },
  {
   "cell_type": "code",
   "execution_count": 320,
   "id": "ddd6dfaf-b5b8-4f69-bcda-da9949d09bd2",
   "metadata": {},
   "outputs": [
    {
     "data": {
      "image/png": "[encoded data removed]",
      "text/plain": [
       "<Figure size 800x800 with 1 Axes>"
      ]
     },
     "metadata": {},
     "output_type": "display_data"
    }
   ],
   "source": [
    "# only makes sense when embedding_dims = 2\n",
    "plt.figure(figsize=(8, 8))\n",
    "plt.scatter(C[:, 0].data, C[:, 1].data, s=200)\n",
    "for i in range(C.shape[0]):\n",
    "    plt.text(C[i, 0].item(), C[i, 1].item(), itos[i], ha=\"center\", va=\"center\", color='white')\n",
    "plt.grid('minor')"
   ]
  },
  {
   "cell_type": "code",
   "execution_count": 342,
   "id": "a16263cb-6a30-4cc3-999a-d354a3c9a0c2",
   "metadata": {},
   "outputs": [
    {
     "name": "stdout",
     "output_type": "stream",
     "text": [
      "torch.Size([182441, 6]) torch.Size([182441])\n",
      "torch.Size([22902, 6]) torch.Size([22902])\n",
      "torch.Size([22803, 6]) torch.Size([22803])\n"
     ]
    }
   ],
   "source": [
    "# build the dataset\n",
    "\n",
    "block_size = 6 # context length: how many characters do we take to predict the next one?\n",
    "\n",
    "def build_dataset(words, block_size):\n",
    "    X, Y = [], []\n",
    "    for w in words:\n",
    "    \n",
    "        # print(w)\n",
    "        context = [0] * block_size\n",
    "        for ch in w + '.':\n",
    "            ix = stoi[ch]\n",
    "            X.append(context)\n",
    "            Y.append(ix)\n",
    "            # print(''.join(itos[i] for i in context), '--->', itos[ix])\n",
    "            context = context[1:] + [ix] # crop and append\n",
    "            \n",
    "    X = torch.tensor(X)\n",
    "    Y = torch.tensor(Y)\n",
    "    print(X.shape, Y.shape)\n",
    "    return X, Y\n",
    "\n",
    "import random\n",
    "random.seed(42)\n",
    "random.shuffle(words)\n",
    "n1 = int(0.8*len(words))\n",
    "n2 = int(0.9*len(words))\n",
    "\n",
    "Xtr, Ytr = build_dataset(words[:n1], block_size)\n",
    "Xdev, Ydev = build_dataset(words[n1:n2], block_size)\n",
    "Xte, Yte = build_dataset(words[n2:], block_size)\n"
   ]
  },
  {
   "cell_type": "code",
   "execution_count": 343,
   "id": "8601b9b6-1cc2-4eb1-8346-f3eb69e26bc9",
   "metadata": {},
   "outputs": [
    {
     "data": {
      "text/plain": [
       "(3204, 25626, 3203)"
      ]
     },
     "execution_count": 343,
     "metadata": {},
     "output_type": "execute_result"
    }
   ],
   "source": [
    "# test set size, train set size, validation set size\n",
    "len(words) - n2, n1, n2 - n1"
   ]
  },
  {
   "cell_type": "code",
   "execution_count": 344,
   "id": "ec5c33cd-e6bd-4ab1-b470-64d1c4d93bc3",
   "metadata": {},
   "outputs": [
    {
     "data": {
      "text/plain": [
       "(torch.Size([182441, 6]), torch.Size([182441]))"
      ]
     },
     "execution_count": 344,
     "metadata": {},
     "output_type": "execute_result"
    }
   ],
   "source": [
    "Xtr.shape, Ytr.shape"
   ]
  },
  {
   "cell_type": "code",
   "execution_count": 345,
   "id": "34c7b29b-c1c0-4514-b1d3-02cff1cf5663",
   "metadata": {},
   "outputs": [],
   "source": [
    "lre = torch.linspace(-3, 0, 1000)\n",
    "lrs = 10**lre"
   ]
  },
  {
   "cell_type": "code",
   "execution_count": 346,
   "id": "34fdbb08-6a1c-462e-9bf8-fd577b06533f",
   "metadata": {},
   "outputs": [
    {
     "data": {
      "text/plain": [
       "17897"
      ]
     },
     "execution_count": 346,
     "metadata": {},
     "output_type": "execute_result"
    }
   ],
   "source": [
    "embedding_dims = 10\n",
    "l1_num_inputs = embedding_dims * block_size\n",
    "l2_num_neurons = 200\n",
    "\n",
    "g = torch.Generator().manual_seed(2147483647) # for reproducibility\n",
    "C = torch.randn((27, embedding_dims), generator=g)\n",
    "W1 = torch.randn((l1_num_inputs, l2_num_neurons), generator=g)\n",
    "b1 = torch.randn(l2_num_neurons, generator=g)\n",
    "W2 = torch.randn((l2_num_neurons, 27), generator=g)\n",
    "b2 = torch.randn(27, generator=g)\n",
    "parameters = [C, W1, b1, W2, b2]\n",
    "sum(p.nelement() for p in parameters) # number of parameters in total"
   ]
  },
  {
   "cell_type": "code",
   "execution_count": 347,
   "id": "7e2c551a-29db-43e7-8e3e-83c73ab91cd2",
   "metadata": {},
   "outputs": [],
   "source": [
    "lri = []\n",
    "lossi = []\n",
    "stepi = []"
   ]
  },
  {
   "cell_type": "code",
   "execution_count": 363,
   "id": "b2aba75e-b412-4973-a98b-c7727a295741",
   "metadata": {},
   "outputs": [
    {
     "ename": "RuntimeError",
     "evalue": "shape '[-1, 30]' is invalid for input of size 1152",
     "output_type": "error",
     "traceback": [
      "\u001b[0;31m---------------------------------------------------------------------------\u001b[0m",
      "\u001b[0;31mRuntimeError\u001b[0m                              Traceback (most recent call last)",
      "Cell \u001b[0;32mIn[363], line 31\u001b[0m\n\u001b[1;32m     28\u001b[0m         stepi\u001b[38;5;241m.\u001b[39mappend(i)\n\u001b[1;32m     29\u001b[0m         lossi\u001b[38;5;241m.\u001b[39mappend(loss\u001b[38;5;241m.\u001b[39mlog10()\u001b[38;5;241m.\u001b[39mitem())\n\u001b[0;32m---> 31\u001b[0m \u001b[43mtrain_model\u001b[49m\u001b[43m(\u001b[49m\u001b[38;5;241;43m200000\u001b[39;49m\u001b[43m,\u001b[49m\u001b[43m \u001b[49m\u001b[38;5;241;43m32\u001b[39;49m\u001b[43m,\u001b[49m\u001b[43m \u001b[49m\u001b[38;5;241;43m0.01\u001b[39;49m\u001b[43m,\u001b[49m\u001b[43m \u001b[49m\u001b[43ml1_num_inputs\u001b[49m\u001b[43m,\u001b[49m\u001b[43m \u001b[49m\u001b[43mXtr\u001b[49m\u001b[43m,\u001b[49m\u001b[43m \u001b[49m\u001b[43mYtr\u001b[49m\u001b[43m,\u001b[49m\u001b[43m \u001b[49m\u001b[43mstepi\u001b[49m\u001b[43m,\u001b[49m\u001b[43m \u001b[49m\u001b[43mlossi\u001b[49m\u001b[43m)\u001b[49m\n\u001b[1;32m     32\u001b[0m plt\u001b[38;5;241m.\u001b[39mplot(stepi, lossi)\n",
      "Cell \u001b[0;32mIn[363], line 12\u001b[0m, in \u001b[0;36mtrain_model\u001b[0;34m(steps, batch_size, learning_rate, l1_num_inputs, x, y, stepi, lossi)\u001b[0m\n\u001b[1;32m     10\u001b[0m \u001b[38;5;66;03m# forward pass\u001b[39;00m\n\u001b[1;32m     11\u001b[0m emb \u001b[38;5;241m=\u001b[39m C[x[ix]] \u001b[38;5;66;03m# (batch_size, block_size, l1_num_inputs)\u001b[39;00m\n\u001b[0;32m---> 12\u001b[0m h \u001b[38;5;241m=\u001b[39m torch\u001b[38;5;241m.\u001b[39mtanh(\u001b[43memb\u001b[49m\u001b[38;5;241;43m.\u001b[39;49m\u001b[43mview\u001b[49m\u001b[43m(\u001b[49m\u001b[38;5;241;43m-\u001b[39;49m\u001b[38;5;241;43m1\u001b[39;49m\u001b[43m,\u001b[49m\u001b[43m \u001b[49m\u001b[43ml1_num_inputs\u001b[49m\u001b[43m)\u001b[49m \u001b[38;5;241m@\u001b[39m W1 \u001b[38;5;241m+\u001b[39m b1) \u001b[38;5;66;03m# (batch_size, l2_num_neurons)\u001b[39;00m\n\u001b[1;32m     13\u001b[0m logits \u001b[38;5;241m=\u001b[39m h \u001b[38;5;241m@\u001b[39m W2 \u001b[38;5;241m+\u001b[39m b2 \u001b[38;5;66;03m# (batch_size, 27)\u001b[39;00m\n\u001b[1;32m     14\u001b[0m loss \u001b[38;5;241m=\u001b[39m F\u001b[38;5;241m.\u001b[39mcross_entropy(logits, y[ix]) \u001b[38;5;66;03m# equivalent to above, but more efficient\u001b[39;00m\n",
      "\u001b[0;31mRuntimeError\u001b[0m: shape '[-1, 30]' is invalid for input of size 1152"
     ]
    }
   ],
   "source": [
    "def train_model(steps, batch_size, learning_rate, l1_num_inputs, x, y, stepi, lossi):\n",
    "    for p in parameters:\n",
    "        p.requires_grad = True\n",
    "    \n",
    "    for i in range(steps):\n",
    "    \n",
    "        # minibatch construct\n",
    "        ix = torch.randint(0, x.shape[0], (batch_size,))\n",
    "        \n",
    "        # forward pass\n",
    "        emb = C[x[ix]] # (batch_size, block_size, l1_num_inputs)\n",
    "        h = torch.tanh(emb.view(-1, l1_num_inputs) @ W1 + b1) # (batch_size, l2_num_neurons)\n",
    "        logits = h @ W2 + b2 # (batch_size, 27)\n",
    "        loss = F.cross_entropy(logits, y[ix]) # equivalent to above, but more efficient\n",
    "        # print(loss.item())\n",
    "        \n",
    "        # backward pass\n",
    "        for p in parameters:\n",
    "            p.grad = None\n",
    "        loss.backward()\n",
    "\n",
    "        lr = 0.1 if i < 100000 else 0.01\n",
    "        for p in parameters:\n",
    "            p.data += -lr * p.grad\n",
    "\n",
    "        # track stats\n",
    "        # lri.append(lre[i])\n",
    "        stepi.append(i)\n",
    "        lossi.append(loss.log10().item())\n",
    "\n",
    "train_model(200000, 32, 0.01, l1_num_inputs, Xtr, Ytr, stepi, lossi)\n",
    "plt.plot(stepi, lossi)"
   ]
  },
  {
   "cell_type": "code",
   "execution_count": 352,
   "id": "0997b2b6-360e-403b-8051-a5a168f667bc",
   "metadata": {},
   "outputs": [
    {
     "name": "stdout",
     "output_type": "stream",
     "text": [
      "training loss: 2.162112236022949\n",
      "dev loss: 2.1920700073242188\n"
     ]
    }
   ],
   "source": [
    "print(\"training loss:\", total_loss(Xtr, Ytr, l1_num_inputs))\n",
    "print(\"dev loss:\", total_loss(Xdev, Ydev, l1_num_inputs))"
   ]
  },
  {
   "cell_type": "code",
   "execution_count": 353,
   "id": "ba7bb01e-da32-4b54-bfbb-2ea00e077da2",
   "metadata": {},
   "outputs": [
    {
     "name": "stdout",
     "output_type": "stream",
     "text": [
      "carmah.\n",
      "amille.\n",
      "khiimre.\n",
      "reaty.\n",
      "hacan.\n",
      "kejaron.\n",
      "nammery.\n",
      "caigeni.\n",
      "nelani.\n",
      "tamaiia.\n",
      "kaleigh.\n",
      "hama.\n",
      "dinderinn.\n",
      "shoin.\n",
      "alian.\n",
      "quintero.\n",
      "dearynn.\n",
      "jaceelins.\n",
      "bred.\n",
      "ediia.\n"
     ]
    }
   ],
   "source": [
    "def get_samples(num_samples):\n",
    "    # sample from the model\n",
    "    g = torch.Generator().manual_seed(2147483647 + 10)\n",
    "    \n",
    "    for _ in range(20):\n",
    "    \n",
    "        out = []\n",
    "        context = [0] * block_size # initialize with all ...\n",
    "        while True:\n",
    "            emb = C[torch.tensor([context])] # (1, block_size, d)\n",
    "            h = torch.tanh(emb.view(1, -1) @ W1 + b1)\n",
    "            logits = h @ W2 + b2\n",
    "            probs = F.softmax(logits, dim=1)\n",
    "            ix = torch.multinomial(probs, num_samples=1, generator=g).item()\n",
    "            context = context[1:] + [ix]\n",
    "            out.append(ix)\n",
    "            if ix == 0:\n",
    "                break\n",
    "    \n",
    "        print(''.join(itos[i] for i in out))"
   ]
  },
  {
   "cell_type": "code",
   "execution_count": 340,
   "id": "04207fb3-39fd-4fee-9112-1aa1f8684974",
   "metadata": {},
   "outputs": [
    {
     "name": "stdout",
     "output_type": "stream",
     "text": [
      "Collecting optuna\n",
      "  Downloading optuna-4.2.1-py3-none-any.whl.metadata (17 kB)\n",
      "Collecting alembic>=1.5.0 (from optuna)\n",
      "  Downloading alembic-1.14.1-py3-none-any.whl.metadata (7.4 kB)\n",
      "Collecting colorlog (from optuna)\n",
      "  Downloading colorlog-6.9.0-py3-none-any.whl.metadata (10 kB)\n",
      "Requirement already satisfied: numpy in /opt/homebrew/Cellar/jupyterlab/4.3.5/libexec/lib/python3.13/site-packages (from optuna) (2.2.3)\n",
      "Requirement already satisfied: packaging>=20.0 in /opt/homebrew/Cellar/jupyterlab/4.3.5/libexec/lib/python3.13/site-packages (from optuna) (24.2)\n",
      "Collecting sqlalchemy>=1.4.2 (from optuna)\n",
      "  Downloading SQLAlchemy-2.0.38-cp313-cp313-macosx_11_0_arm64.whl.metadata (9.6 kB)\n",
      "Collecting tqdm (from optuna)\n",
      "  Downloading tqdm-4.67.1-py3-none-any.whl.metadata (57 kB)\n",
      "Requirement already satisfied: PyYAML in /opt/homebrew/Cellar/jupyterlab/4.3.5/libexec/lib/python3.13/site-packages (from optuna) (6.0.2)\n",
      "Collecting Mako (from alembic>=1.5.0->optuna)\n",
      "  Downloading Mako-1.3.9-py3-none-any.whl.metadata (2.9 kB)\n",
      "Requirement already satisfied: typing-extensions>=4 in /opt/homebrew/Cellar/jupyterlab/4.3.5/libexec/lib/python3.13/site-packages (from alembic>=1.5.0->optuna) (4.12.2)\n",
      "Requirement already satisfied: MarkupSafe>=0.9.2 in /opt/homebrew/Cellar/jupyterlab/4.3.5/libexec/lib/python3.13/site-packages (from Mako->alembic>=1.5.0->optuna) (3.0.2)\n",
      "Downloading optuna-4.2.1-py3-none-any.whl (383 kB)\n",
      "Downloading alembic-1.14.1-py3-none-any.whl (233 kB)\n",
      "Downloading SQLAlchemy-2.0.38-cp313-cp313-macosx_11_0_arm64.whl (2.1 MB)\n",
      "\u001b[2K   \u001b[38;2;114;156;31m━━━━━━━━━━━━━━━━━━━━━━━━━━━━━━━━━━━━━━━━\u001b[0m \u001b[32m2.1/2.1 MB\u001b[0m \u001b[31m17.8 MB/s\u001b[0m eta \u001b[36m0:00:00\u001b[0m\n",
      "Downloading colorlog-6.9.0-py3-none-any.whl (11 kB)\n",
      "Downloading tqdm-4.67.1-py3-none-any.whl (78 kB)\n",
      "Downloading Mako-1.3.9-py3-none-any.whl (78 kB)\n",
      "Installing collected packages: tqdm, sqlalchemy, Mako, colorlog, alembic, optuna\n",
      "Successfully installed Mako-1.3.9 alembic-1.14.1 colorlog-6.9.0 optuna-4.2.1 sqlalchemy-2.0.38 tqdm-4.67.1\n",
      "\n",
      "\u001b[1m[\u001b[0m\u001b[34;49mnotice\u001b[0m\u001b[1;39;49m]\u001b[0m\u001b[39;49m A new release of pip is available: \u001b[0m\u001b[31;49m25.0\u001b[0m\u001b[39;49m -> \u001b[0m\u001b[32;49m25.0.1\u001b[0m\n",
      "\u001b[1m[\u001b[0m\u001b[34;49mnotice\u001b[0m\u001b[1;39;49m]\u001b[0m\u001b[39;49m To update, run: \u001b[0m\u001b[32;49mpython -m pip install --upgrade pip\u001b[0m\n",
      "Note: you may need to restart the kernel to use updated packages.\n"
     ]
    }
   ],
   "source": [
    "%pip install optuna"
   ]
  },
  {
   "cell_type": "code",
   "execution_count": 384,
   "id": "8378f0b3-a9ec-41e3-85ee-8d240bd83df0",
   "metadata": {},
   "outputs": [
    {
     "name": "stdout",
     "output_type": "stream",
     "text": [
      "Collecting ipywidgets\n",
      "  Downloading ipywidgets-8.1.5-py3-none-any.whl.metadata (2.3 kB)\n",
      "Requirement already satisfied: comm>=0.1.3 in /opt/homebrew/Cellar/jupyterlab/4.3.5/libexec/lib/python3.13/site-packages (from ipywidgets) (0.2.2)\n",
      "Requirement already satisfied: ipython>=6.1.0 in /opt/homebrew/Cellar/jupyterlab/4.3.5/libexec/lib/python3.13/site-packages (from ipywidgets) (8.31.0)\n",
      "Requirement already satisfied: traitlets>=4.3.1 in /opt/homebrew/Cellar/jupyterlab/4.3.5/libexec/lib/python3.13/site-packages (from ipywidgets) (5.14.3)\n",
      "Collecting widgetsnbextension~=4.0.12 (from ipywidgets)\n",
      "  Downloading widgetsnbextension-4.0.13-py3-none-any.whl.metadata (1.6 kB)\n",
      "Collecting jupyterlab-widgets~=3.0.12 (from ipywidgets)\n",
      "  Downloading jupyterlab_widgets-3.0.13-py3-none-any.whl.metadata (4.1 kB)\n",
      "Requirement already satisfied: decorator in /opt/homebrew/Cellar/jupyterlab/4.3.5/libexec/lib/python3.13/site-packages (from ipython>=6.1.0->ipywidgets) (5.1.1)\n",
      "Requirement already satisfied: jedi>=0.16 in /opt/homebrew/Cellar/jupyterlab/4.3.5/libexec/lib/python3.13/site-packages (from ipython>=6.1.0->ipywidgets) (0.19.2)\n",
      "Requirement already satisfied: matplotlib-inline in /opt/homebrew/Cellar/jupyterlab/4.3.5/libexec/lib/python3.13/site-packages (from ipython>=6.1.0->ipywidgets) (0.1.7)\n",
      "Requirement already satisfied: pexpect>4.3 in /opt/homebrew/Cellar/jupyterlab/4.3.5/libexec/lib/python3.13/site-packages (from ipython>=6.1.0->ipywidgets) (4.9.0)\n",
      "Requirement already satisfied: prompt_toolkit<3.1.0,>=3.0.41 in /opt/homebrew/Cellar/jupyterlab/4.3.5/libexec/lib/python3.13/site-packages (from ipython>=6.1.0->ipywidgets) (3.0.50)\n",
      "Requirement already satisfied: pygments>=2.4.0 in /opt/homebrew/Cellar/jupyterlab/4.3.5/libexec/lib/python3.13/site-packages (from ipython>=6.1.0->ipywidgets) (2.19.1)\n",
      "Requirement already satisfied: stack_data in /opt/homebrew/Cellar/jupyterlab/4.3.5/libexec/lib/python3.13/site-packages (from ipython>=6.1.0->ipywidgets) (0.6.3)\n",
      "Requirement already satisfied: parso<0.9.0,>=0.8.4 in /opt/homebrew/Cellar/jupyterlab/4.3.5/libexec/lib/python3.13/site-packages (from jedi>=0.16->ipython>=6.1.0->ipywidgets) (0.8.4)\n",
      "Requirement already satisfied: ptyprocess>=0.5 in /opt/homebrew/Cellar/jupyterlab/4.3.5/libexec/lib/python3.13/site-packages (from pexpect>4.3->ipython>=6.1.0->ipywidgets) (0.7.0)\n",
      "Requirement already satisfied: wcwidth in /opt/homebrew/Cellar/jupyterlab/4.3.5/libexec/lib/python3.13/site-packages (from prompt_toolkit<3.1.0,>=3.0.41->ipython>=6.1.0->ipywidgets) (0.2.13)\n",
      "Requirement already satisfied: executing>=1.2.0 in /opt/homebrew/Cellar/jupyterlab/4.3.5/libexec/lib/python3.13/site-packages (from stack_data->ipython>=6.1.0->ipywidgets) (2.2.0)\n",
      "Requirement already satisfied: asttokens>=2.1.0 in /opt/homebrew/Cellar/jupyterlab/4.3.5/libexec/lib/python3.13/site-packages (from stack_data->ipython>=6.1.0->ipywidgets) (3.0.0)\n",
      "Requirement already satisfied: pure_eval in /opt/homebrew/Cellar/jupyterlab/4.3.5/libexec/lib/python3.13/site-packages (from stack_data->ipython>=6.1.0->ipywidgets) (0.2.3)\n",
      "Downloading ipywidgets-8.1.5-py3-none-any.whl (139 kB)\n",
      "Downloading jupyterlab_widgets-3.0.13-py3-none-any.whl (214 kB)\n",
      "Downloading widgetsnbextension-4.0.13-py3-none-any.whl (2.3 MB)\n",
      "\u001b[2K   \u001b[38;2;114;156;31m━━━━━━━━━━━━━━━━━━━━━━━━━━━━━━━━━━━━━━━━\u001b[0m \u001b[32m2.3/2.3 MB\u001b[0m \u001b[31m16.6 MB/s\u001b[0m eta \u001b[36m0:00:00\u001b[0m\n",
      "Installing collected packages: widgetsnbextension, jupyterlab-widgets, ipywidgets\n",
      "Successfully installed ipywidgets-8.1.5 jupyterlab-widgets-3.0.13 widgetsnbextension-4.0.13\n",
      "\n",
      "\u001b[1m[\u001b[0m\u001b[34;49mnotice\u001b[0m\u001b[1;39;49m]\u001b[0m\u001b[39;49m A new release of pip is available: \u001b[0m\u001b[31;49m25.0\u001b[0m\u001b[39;49m -> \u001b[0m\u001b[32;49m25.0.1\u001b[0m\n",
      "\u001b[1m[\u001b[0m\u001b[34;49mnotice\u001b[0m\u001b[1;39;49m]\u001b[0m\u001b[39;49m To update, run: \u001b[0m\u001b[32;49mpython -m pip install --upgrade pip\u001b[0m\n",
      "Note: you may need to restart the kernel to use updated packages.\n"
     ]
    }
   ],
   "source": [
    "%pip install ipywidgets"
   ]
  },
  {
   "cell_type": "code",
   "execution_count": 389,
   "id": "9c76700e-41e9-492a-8173-06a067288a49",
   "metadata": {},
   "outputs": [],
   "source": [
    "import torch\n",
    "import torch.nn.functional as F\n",
    "import optuna\n",
    "import matplotlib.pyplot as plt\n",
    "\n",
    "def objective(trial):\n",
    "    # Suggest hyperparameters\n",
    "    block_size = trial.suggest_int(\"block_size\", 5, 15)  # Context length\n",
    "    embedding_dims = trial.suggest_int(\"embedding_dims\", 5, 20)  # Embedding size\n",
    "    l2_num_neurons = trial.suggest_int(\"l2_num_neurons\", 50, 300)  # Hidden layer size\n",
    "    batch_size = trial.suggest_categorical(\"batch_size\", [16, 32, 64])  # Batch size\n",
    "    learning_rate = trial.suggest_loguniform(\"learning_rate\", 1e-3, 1e-1)  # Learning rate\n",
    "\n",
    "    # Build datasets with new block_size\n",
    "    Xtr, Ytr = build_dataset(words[:n1], block_size)\n",
    "    Xdev, Ydev = build_dataset(words[n1:n2], block_size)\n",
    "\n",
    "    # Define model parameters\n",
    "    l1_num_inputs = embedding_dims * block_size\n",
    "    g = torch.Generator().manual_seed(2147483647)\n",
    "    \n",
    "    global C, W1, b1, W2, b2  # Ensure variables are accessible\n",
    "    C = torch.randn((27, embedding_dims), generator=g)\n",
    "    W1 = torch.randn((l1_num_inputs, l2_num_neurons), generator=g)\n",
    "    b1 = torch.randn(l2_num_neurons, generator=g)\n",
    "    W2 = torch.randn((l2_num_neurons, 27), generator=g)\n",
    "    b2 = torch.randn(27, generator=g)\n",
    "    \n",
    "    parameters = [C, W1, b1, W2, b2]\n",
    "    for p in parameters:\n",
    "        p.requires_grad = True\n",
    "\n",
    "    # Training loop\n",
    "    for i in range(50000):  # Reduce iterations for speed\n",
    "        ix = torch.randint(0, Xtr.shape[0], (batch_size,))\n",
    "        emb = C[Xtr[ix]]\n",
    "        h = torch.tanh(emb.view(-1, l1_num_inputs) @ W1 + b1)\n",
    "        logits = h @ W2 + b2\n",
    "        loss = F.cross_entropy(logits, Ytr[ix])\n",
    "\n",
    "        # Backprop\n",
    "        for p in parameters:\n",
    "            p.grad = None\n",
    "        loss.backward()\n",
    "\n",
    "        for p in parameters:\n",
    "            p.data += -learning_rate * p.grad\n",
    "\n",
    "        stepi.append(i)\n",
    "        lossi.append(loss.log10().item())\n",
    "\n",
    "    # Compute validation loss\n",
    "    val_loss = total_loss(Xdev, Ydev)\n",
    "    \n",
    "    return val_loss  # Optuna minimizes by default"
   ]
  },
  {
   "cell_type": "code",
   "execution_count": 390,
   "id": "8a9734c3-215d-48fa-97e1-b6f66baebff6",
   "metadata": {},
   "outputs": [
    {
     "name": "stderr",
     "output_type": "stream",
     "text": [
      "[I 2025-03-01 14:17:30,604] A new study created in memory with name: no-name-00e0ad93-0e33-4895-b4a6-e9c68677cd92\n",
      "/var/folders/8_/kl72rt_d67z2yxqnyg9_n3mw0000gn/T/ipykernel_21998/2176866188.py:12: FutureWarning: suggest_loguniform has been deprecated in v3.0.0. This feature will be removed in v6.0.0. See https://github.com/optuna/optuna/releases/tag/v3.0.0. Use suggest_float(..., log=True) instead.\n",
      "  learning_rate = trial.suggest_loguniform(\"learning_rate\", 1e-3, 1e-1)  # Learning rate\n"
     ]
    },
    {
     "name": "stdout",
     "output_type": "stream",
     "text": [
      "torch.Size([182512, 12]) torch.Size([182512])\n",
      "torch.Size([22860, 12]) torch.Size([22860])\n"
     ]
    },
    {
     "name": "stderr",
     "output_type": "stream",
     "text": [
      "[W 2025-03-01 14:17:39,828] Trial 0 failed with parameters: {'block_size': 12, 'embedding_dims': 19, 'l2_num_neurons': 71, 'batch_size': 64, 'learning_rate': 0.00441675608919568} because of the following error: RuntimeError('mat1 and mat2 shapes cannot be multiplied (173736x30 and 228x71)').\n",
      "Traceback (most recent call last):\n",
      "  File \"/opt/homebrew/Cellar/jupyterlab/4.3.5/libexec/lib/python3.13/site-packages/optuna/study/_optimize.py\", line 197, in _run_trial\n",
      "    value_or_values = func(trial)\n",
      "  File \"/var/folders/8_/kl72rt_d67z2yxqnyg9_n3mw0000gn/T/ipykernel_21998/2176866188.py\", line 53, in objective\n",
      "    val_loss = total_loss(Xdev, Ydev)\n",
      "  File \"/var/folders/8_/kl72rt_d67z2yxqnyg9_n3mw0000gn/T/ipykernel_21998/3325362137.py\", line 32, in total_loss\n",
      "    h = torch.tanh(emb.view(-1, l1_num_inputs) @ W1 + b1) # (32, l2_num_neurons)\n",
      "                   ~~~~~~~~~~~~~~~~~~~~~~~~~~~~^~~~\n",
      "RuntimeError: mat1 and mat2 shapes cannot be multiplied (173736x30 and 228x71)\n",
      "[W 2025-03-01 14:17:39,828] Trial 0 failed with value None.\n"
     ]
    },
    {
     "ename": "RuntimeError",
     "evalue": "mat1 and mat2 shapes cannot be multiplied (173736x30 and 228x71)",
     "output_type": "error",
     "traceback": [
      "\u001b[0;31m---------------------------------------------------------------------------\u001b[0m",
      "\u001b[0;31mRuntimeError\u001b[0m                              Traceback (most recent call last)",
      "Cell \u001b[0;32mIn[390], line 2\u001b[0m\n\u001b[1;32m      1\u001b[0m study \u001b[38;5;241m=\u001b[39m optuna\u001b[38;5;241m.\u001b[39mcreate_study(direction\u001b[38;5;241m=\u001b[39m\u001b[38;5;124m\"\u001b[39m\u001b[38;5;124mminimize\u001b[39m\u001b[38;5;124m\"\u001b[39m)\n\u001b[0;32m----> 2\u001b[0m \u001b[43mstudy\u001b[49m\u001b[38;5;241;43m.\u001b[39;49m\u001b[43moptimize\u001b[49m\u001b[43m(\u001b[49m\u001b[43mobjective\u001b[49m\u001b[43m,\u001b[49m\u001b[43m \u001b[49m\u001b[43mn_trials\u001b[49m\u001b[38;5;241;43m=\u001b[39;49m\u001b[38;5;241;43m100\u001b[39;49m\u001b[43m)\u001b[49m  \u001b[38;5;66;03m# Try 30 different sets of hyperparameters\u001b[39;00m\n\u001b[1;32m      4\u001b[0m \u001b[38;5;28mprint\u001b[39m(\u001b[38;5;124m\"\u001b[39m\u001b[38;5;124mBest hyperparameters:\u001b[39m\u001b[38;5;124m\"\u001b[39m, study\u001b[38;5;241m.\u001b[39mbest_params)\n",
      "File \u001b[0;32m/opt/homebrew/Cellar/jupyterlab/4.3.5/libexec/lib/python3.13/site-packages/optuna/study/study.py:475\u001b[0m, in \u001b[0;36mStudy.optimize\u001b[0;34m(self, func, n_trials, timeout, n_jobs, catch, callbacks, gc_after_trial, show_progress_bar)\u001b[0m\n\u001b[1;32m    373\u001b[0m \u001b[38;5;28;01mdef\u001b[39;00m\u001b[38;5;250m \u001b[39m\u001b[38;5;21moptimize\u001b[39m(\n\u001b[1;32m    374\u001b[0m     \u001b[38;5;28mself\u001b[39m,\n\u001b[1;32m    375\u001b[0m     func: ObjectiveFuncType,\n\u001b[0;32m   (...)\u001b[0m\n\u001b[1;32m    382\u001b[0m     show_progress_bar: \u001b[38;5;28mbool\u001b[39m \u001b[38;5;241m=\u001b[39m \u001b[38;5;28;01mFalse\u001b[39;00m,\n\u001b[1;32m    383\u001b[0m ) \u001b[38;5;241m-\u001b[39m\u001b[38;5;241m>\u001b[39m \u001b[38;5;28;01mNone\u001b[39;00m:\n\u001b[1;32m    384\u001b[0m \u001b[38;5;250m    \u001b[39m\u001b[38;5;124;03m\"\"\"Optimize an objective function.\u001b[39;00m\n\u001b[1;32m    385\u001b[0m \n\u001b[1;32m    386\u001b[0m \u001b[38;5;124;03m    Optimization is done by choosing a suitable set of hyperparameter values from a given\u001b[39;00m\n\u001b[0;32m   (...)\u001b[0m\n\u001b[1;32m    473\u001b[0m \u001b[38;5;124;03m            If nested invocation of this method occurs.\u001b[39;00m\n\u001b[1;32m    474\u001b[0m \u001b[38;5;124;03m    \"\"\"\u001b[39;00m\n\u001b[0;32m--> 475\u001b[0m     \u001b[43m_optimize\u001b[49m\u001b[43m(\u001b[49m\n\u001b[1;32m    476\u001b[0m \u001b[43m        \u001b[49m\u001b[43mstudy\u001b[49m\u001b[38;5;241;43m=\u001b[39;49m\u001b[38;5;28;43mself\u001b[39;49m\u001b[43m,\u001b[49m\n\u001b[1;32m    477\u001b[0m \u001b[43m        \u001b[49m\u001b[43mfunc\u001b[49m\u001b[38;5;241;43m=\u001b[39;49m\u001b[43mfunc\u001b[49m\u001b[43m,\u001b[49m\n\u001b[1;32m    478\u001b[0m \u001b[43m        \u001b[49m\u001b[43mn_trials\u001b[49m\u001b[38;5;241;43m=\u001b[39;49m\u001b[43mn_trials\u001b[49m\u001b[43m,\u001b[49m\n\u001b[1;32m    479\u001b[0m \u001b[43m        \u001b[49m\u001b[43mtimeout\u001b[49m\u001b[38;5;241;43m=\u001b[39;49m\u001b[43mtimeout\u001b[49m\u001b[43m,\u001b[49m\n\u001b[1;32m    480\u001b[0m \u001b[43m        \u001b[49m\u001b[43mn_jobs\u001b[49m\u001b[38;5;241;43m=\u001b[39;49m\u001b[43mn_jobs\u001b[49m\u001b[43m,\u001b[49m\n\u001b[1;32m    481\u001b[0m \u001b[43m        \u001b[49m\u001b[43mcatch\u001b[49m\u001b[38;5;241;43m=\u001b[39;49m\u001b[38;5;28;43mtuple\u001b[39;49m\u001b[43m(\u001b[49m\u001b[43mcatch\u001b[49m\u001b[43m)\u001b[49m\u001b[43m \u001b[49m\u001b[38;5;28;43;01mif\u001b[39;49;00m\u001b[43m \u001b[49m\u001b[38;5;28;43misinstance\u001b[39;49m\u001b[43m(\u001b[49m\u001b[43mcatch\u001b[49m\u001b[43m,\u001b[49m\u001b[43m \u001b[49m\u001b[43mIterable\u001b[49m\u001b[43m)\u001b[49m\u001b[43m \u001b[49m\u001b[38;5;28;43;01melse\u001b[39;49;00m\u001b[43m \u001b[49m\u001b[43m(\u001b[49m\u001b[43mcatch\u001b[49m\u001b[43m,\u001b[49m\u001b[43m)\u001b[49m\u001b[43m,\u001b[49m\n\u001b[1;32m    482\u001b[0m \u001b[43m        \u001b[49m\u001b[43mcallbacks\u001b[49m\u001b[38;5;241;43m=\u001b[39;49m\u001b[43mcallbacks\u001b[49m\u001b[43m,\u001b[49m\n\u001b[1;32m    483\u001b[0m \u001b[43m        \u001b[49m\u001b[43mgc_after_trial\u001b[49m\u001b[38;5;241;43m=\u001b[39;49m\u001b[43mgc_after_trial\u001b[49m\u001b[43m,\u001b[49m\n\u001b[1;32m    484\u001b[0m \u001b[43m        \u001b[49m\u001b[43mshow_progress_bar\u001b[49m\u001b[38;5;241;43m=\u001b[39;49m\u001b[43mshow_progress_bar\u001b[49m\u001b[43m,\u001b[49m\n\u001b[1;32m    485\u001b[0m \u001b[43m    \u001b[49m\u001b[43m)\u001b[49m\n",
      "File \u001b[0;32m/opt/homebrew/Cellar/jupyterlab/4.3.5/libexec/lib/python3.13/site-packages/optuna/study/_optimize.py:63\u001b[0m, in \u001b[0;36m_optimize\u001b[0;34m(study, func, n_trials, timeout, n_jobs, catch, callbacks, gc_after_trial, show_progress_bar)\u001b[0m\n\u001b[1;32m     61\u001b[0m \u001b[38;5;28;01mtry\u001b[39;00m:\n\u001b[1;32m     62\u001b[0m     \u001b[38;5;28;01mif\u001b[39;00m n_jobs \u001b[38;5;241m==\u001b[39m \u001b[38;5;241m1\u001b[39m:\n\u001b[0;32m---> 63\u001b[0m         \u001b[43m_optimize_sequential\u001b[49m\u001b[43m(\u001b[49m\n\u001b[1;32m     64\u001b[0m \u001b[43m            \u001b[49m\u001b[43mstudy\u001b[49m\u001b[43m,\u001b[49m\n\u001b[1;32m     65\u001b[0m \u001b[43m            \u001b[49m\u001b[43mfunc\u001b[49m\u001b[43m,\u001b[49m\n\u001b[1;32m     66\u001b[0m \u001b[43m            \u001b[49m\u001b[43mn_trials\u001b[49m\u001b[43m,\u001b[49m\n\u001b[1;32m     67\u001b[0m \u001b[43m            \u001b[49m\u001b[43mtimeout\u001b[49m\u001b[43m,\u001b[49m\n\u001b[1;32m     68\u001b[0m \u001b[43m            \u001b[49m\u001b[43mcatch\u001b[49m\u001b[43m,\u001b[49m\n\u001b[1;32m     69\u001b[0m \u001b[43m            \u001b[49m\u001b[43mcallbacks\u001b[49m\u001b[43m,\u001b[49m\n\u001b[1;32m     70\u001b[0m \u001b[43m            \u001b[49m\u001b[43mgc_after_trial\u001b[49m\u001b[43m,\u001b[49m\n\u001b[1;32m     71\u001b[0m \u001b[43m            \u001b[49m\u001b[43mreseed_sampler_rng\u001b[49m\u001b[38;5;241;43m=\u001b[39;49m\u001b[38;5;28;43;01mFalse\u001b[39;49;00m\u001b[43m,\u001b[49m\n\u001b[1;32m     72\u001b[0m \u001b[43m            \u001b[49m\u001b[43mtime_start\u001b[49m\u001b[38;5;241;43m=\u001b[39;49m\u001b[38;5;28;43;01mNone\u001b[39;49;00m\u001b[43m,\u001b[49m\n\u001b[1;32m     73\u001b[0m \u001b[43m            \u001b[49m\u001b[43mprogress_bar\u001b[49m\u001b[38;5;241;43m=\u001b[39;49m\u001b[43mprogress_bar\u001b[49m\u001b[43m,\u001b[49m\n\u001b[1;32m     74\u001b[0m \u001b[43m        \u001b[49m\u001b[43m)\u001b[49m\n\u001b[1;32m     75\u001b[0m     \u001b[38;5;28;01melse\u001b[39;00m:\n\u001b[1;32m     76\u001b[0m         \u001b[38;5;28;01mif\u001b[39;00m n_jobs \u001b[38;5;241m==\u001b[39m \u001b[38;5;241m-\u001b[39m\u001b[38;5;241m1\u001b[39m:\n",
      "File \u001b[0;32m/opt/homebrew/Cellar/jupyterlab/4.3.5/libexec/lib/python3.13/site-packages/optuna/study/_optimize.py:160\u001b[0m, in \u001b[0;36m_optimize_sequential\u001b[0;34m(study, func, n_trials, timeout, catch, callbacks, gc_after_trial, reseed_sampler_rng, time_start, progress_bar)\u001b[0m\n\u001b[1;32m    157\u001b[0m         \u001b[38;5;28;01mbreak\u001b[39;00m\n\u001b[1;32m    159\u001b[0m \u001b[38;5;28;01mtry\u001b[39;00m:\n\u001b[0;32m--> 160\u001b[0m     frozen_trial \u001b[38;5;241m=\u001b[39m \u001b[43m_run_trial\u001b[49m\u001b[43m(\u001b[49m\u001b[43mstudy\u001b[49m\u001b[43m,\u001b[49m\u001b[43m \u001b[49m\u001b[43mfunc\u001b[49m\u001b[43m,\u001b[49m\u001b[43m \u001b[49m\u001b[43mcatch\u001b[49m\u001b[43m)\u001b[49m\n\u001b[1;32m    161\u001b[0m \u001b[38;5;28;01mfinally\u001b[39;00m:\n\u001b[1;32m    162\u001b[0m     \u001b[38;5;66;03m# The following line mitigates memory problems that can be occurred in some\u001b[39;00m\n\u001b[1;32m    163\u001b[0m     \u001b[38;5;66;03m# environments (e.g., services that use computing containers such as GitHub Actions).\u001b[39;00m\n\u001b[1;32m    164\u001b[0m     \u001b[38;5;66;03m# Please refer to the following PR for further details:\u001b[39;00m\n\u001b[1;32m    165\u001b[0m     \u001b[38;5;66;03m# https://github.com/optuna/optuna/pull/325.\u001b[39;00m\n\u001b[1;32m    166\u001b[0m     \u001b[38;5;28;01mif\u001b[39;00m gc_after_trial:\n",
      "File \u001b[0;32m/opt/homebrew/Cellar/jupyterlab/4.3.5/libexec/lib/python3.13/site-packages/optuna/study/_optimize.py:248\u001b[0m, in \u001b[0;36m_run_trial\u001b[0;34m(study, func, catch)\u001b[0m\n\u001b[1;32m    241\u001b[0m         \u001b[38;5;28;01massert\u001b[39;00m \u001b[38;5;28;01mFalse\u001b[39;00m, \u001b[38;5;124m\"\u001b[39m\u001b[38;5;124mShould not reach.\u001b[39m\u001b[38;5;124m\"\u001b[39m\n\u001b[1;32m    243\u001b[0m \u001b[38;5;28;01mif\u001b[39;00m (\n\u001b[1;32m    244\u001b[0m     frozen_trial\u001b[38;5;241m.\u001b[39mstate \u001b[38;5;241m==\u001b[39m TrialState\u001b[38;5;241m.\u001b[39mFAIL\n\u001b[1;32m    245\u001b[0m     \u001b[38;5;129;01mand\u001b[39;00m func_err \u001b[38;5;129;01mis\u001b[39;00m \u001b[38;5;129;01mnot\u001b[39;00m \u001b[38;5;28;01mNone\u001b[39;00m\n\u001b[1;32m    246\u001b[0m     \u001b[38;5;129;01mand\u001b[39;00m \u001b[38;5;129;01mnot\u001b[39;00m \u001b[38;5;28misinstance\u001b[39m(func_err, catch)\n\u001b[1;32m    247\u001b[0m ):\n\u001b[0;32m--> 248\u001b[0m     \u001b[38;5;28;01mraise\u001b[39;00m func_err\n\u001b[1;32m    249\u001b[0m \u001b[38;5;28;01mreturn\u001b[39;00m frozen_trial\n",
      "File \u001b[0;32m/opt/homebrew/Cellar/jupyterlab/4.3.5/libexec/lib/python3.13/site-packages/optuna/study/_optimize.py:197\u001b[0m, in \u001b[0;36m_run_trial\u001b[0;34m(study, func, catch)\u001b[0m\n\u001b[1;32m    195\u001b[0m \u001b[38;5;28;01mwith\u001b[39;00m get_heartbeat_thread(trial\u001b[38;5;241m.\u001b[39m_trial_id, study\u001b[38;5;241m.\u001b[39m_storage):\n\u001b[1;32m    196\u001b[0m     \u001b[38;5;28;01mtry\u001b[39;00m:\n\u001b[0;32m--> 197\u001b[0m         value_or_values \u001b[38;5;241m=\u001b[39m \u001b[43mfunc\u001b[49m\u001b[43m(\u001b[49m\u001b[43mtrial\u001b[49m\u001b[43m)\u001b[49m\n\u001b[1;32m    198\u001b[0m     \u001b[38;5;28;01mexcept\u001b[39;00m exceptions\u001b[38;5;241m.\u001b[39mTrialPruned \u001b[38;5;28;01mas\u001b[39;00m e:\n\u001b[1;32m    199\u001b[0m         \u001b[38;5;66;03m# TODO(mamu): Handle multi-objective cases.\u001b[39;00m\n\u001b[1;32m    200\u001b[0m         state \u001b[38;5;241m=\u001b[39m TrialState\u001b[38;5;241m.\u001b[39mPRUNED\n",
      "Cell \u001b[0;32mIn[389], line 53\u001b[0m, in \u001b[0;36mobjective\u001b[0;34m(trial)\u001b[0m\n\u001b[1;32m     50\u001b[0m     lossi\u001b[38;5;241m.\u001b[39mappend(loss\u001b[38;5;241m.\u001b[39mlog10()\u001b[38;5;241m.\u001b[39mitem())\n\u001b[1;32m     52\u001b[0m \u001b[38;5;66;03m# Compute validation loss\u001b[39;00m\n\u001b[0;32m---> 53\u001b[0m val_loss \u001b[38;5;241m=\u001b[39m \u001b[43mtotal_loss\u001b[49m\u001b[43m(\u001b[49m\u001b[43mXdev\u001b[49m\u001b[43m,\u001b[49m\u001b[43m \u001b[49m\u001b[43mYdev\u001b[49m\u001b[43m)\u001b[49m\n\u001b[1;32m     55\u001b[0m \u001b[38;5;28;01mreturn\u001b[39;00m val_loss\n",
      "Cell \u001b[0;32mIn[377], line 32\u001b[0m, in \u001b[0;36mtotal_loss\u001b[0;34m(x, y)\u001b[0m\n\u001b[1;32m     30\u001b[0m \u001b[38;5;28;01mdef\u001b[39;00m\u001b[38;5;250m \u001b[39m\u001b[38;5;21mtotal_loss\u001b[39m(x, y):\n\u001b[1;32m     31\u001b[0m     emb \u001b[38;5;241m=\u001b[39m C[x] \u001b[38;5;66;03m# (batch_size, block_size, l1_num_inputs)\u001b[39;00m\n\u001b[0;32m---> 32\u001b[0m     h \u001b[38;5;241m=\u001b[39m torch\u001b[38;5;241m.\u001b[39mtanh(\u001b[43memb\u001b[49m\u001b[38;5;241;43m.\u001b[39;49m\u001b[43mview\u001b[49m\u001b[43m(\u001b[49m\u001b[38;5;241;43m-\u001b[39;49m\u001b[38;5;241;43m1\u001b[39;49m\u001b[43m,\u001b[49m\u001b[43m \u001b[49m\u001b[43ml1_num_inputs\u001b[49m\u001b[43m)\u001b[49m\u001b[43m \u001b[49m\u001b[38;5;241;43m@\u001b[39;49m\u001b[43m \u001b[49m\u001b[43mW1\u001b[49m \u001b[38;5;241m+\u001b[39m b1) \u001b[38;5;66;03m# (32, l2_num_neurons)\u001b[39;00m\n\u001b[1;32m     33\u001b[0m     logits \u001b[38;5;241m=\u001b[39m h \u001b[38;5;241m@\u001b[39m W2 \u001b[38;5;241m+\u001b[39m b2 \u001b[38;5;66;03m# (batch_size, 27)\u001b[39;00m\n\u001b[1;32m     34\u001b[0m     loss \u001b[38;5;241m=\u001b[39m F\u001b[38;5;241m.\u001b[39mcross_entropy(logits, y)\n",
      "\u001b[0;31mRuntimeError\u001b[0m: mat1 and mat2 shapes cannot be multiplied (173736x30 and 228x71)"
     ]
    }
   ],
   "source": [
    "study = optuna.create_study(direction=\"minimize\")\n",
    "study.optimize(objective, n_trials=100)  # Try 30 different sets of hyperparameters\n",
    "\n",
    "print(\"Best hyperparameters:\", study.best_params)"
   ]
  },
  {
   "cell_type": "code",
   "execution_count": null,
   "id": "0bc937ee-5121-4643-9904-a30d0cc0749d",
   "metadata": {},
   "outputs": [],
   "source": [
    "optuna.visualization.matplotlib.plot_optimization_history(study)\n",
    "plt.show()"
   ]
  },
  {
   "cell_type": "code",
   "execution_count": 377,
   "id": "61160f41-514f-4d1d-8a76-1d33b48bdf7d",
   "metadata": {},
   "outputs": [],
   "source": [
    "def train_model(steps, batch_size, learning_rate, l1_num_inputs, x, y, stepi, lossi):\n",
    "    global C, W1, b1, W2, b2  # Ensure consistency\n",
    "    \n",
    "    for p in parameters:\n",
    "        p.requires_grad = True\n",
    "\n",
    "    for i in range(steps):\n",
    "        ix = torch.randint(0, x.shape[0], (batch_size,))\n",
    "        \n",
    "        # Forward pass\n",
    "        emb = C[x[ix]]  # Shape: (batch_size, block_size, embedding_dims)\n",
    "        emb = emb.view(batch_size, -1)  # Flatten properly\n",
    "        \n",
    "        h = torch.tanh(emb @ W1 + b1)  # Now matches shape (batch_size, l2_num_neurons)\n",
    "        logits = h @ W2 + b2  # Shape: (batch_size, 27)\n",
    "        loss = F.cross_entropy(logits, y[ix])\n",
    "        \n",
    "        # Backward pass\n",
    "        for p in parameters:\n",
    "            p.grad = None\n",
    "        loss.backward()\n",
    "\n",
    "        for p in parameters:\n",
    "            p.data += -learning_rate * p.grad\n",
    "\n",
    "        stepi.append(i)\n",
    "        lossi.append(loss.log10().item())\n",
    "\n",
    "\n",
    "def total_loss(x, y):\n",
    "    emb = C[x] # (batch_size, block_size, l1_num_inputs)\n",
    "    h = torch.tanh(emb.view(-1, l1_num_inputs) @ W1 + b1) # (32, l2_num_neurons)\n",
    "    logits = h @ W2 + b2 # (batch_size, 27)\n",
    "    loss = F.cross_entropy(logits, y)\n",
    "    return loss.item()"
   ]
  },
  {
   "cell_type": "code",
   "execution_count": 374,
   "id": "b6c164ac-5528-4b86-8b93-10d39b813fbe",
   "metadata": {},
   "outputs": [
    {
     "name": "stdout",
     "output_type": "stream",
     "text": [
      "Best Hyperparameters: {'block_size': 5, 'embedding_dims': 6, 'l2_num_neurons': 81, 'batch_size': 64, 'learning_rate': 0.06627090442904365}\n"
     ]
    },
    {
     "data": {
      "text/plain": [
       "torch.Size([30, 81])"
      ]
     },
     "execution_count": 374,
     "metadata": {},
     "output_type": "execute_result"
    }
   ],
   "source": [
    "best_params = study.best_params  # Get the best hyperparams from Optuna\n",
    "print(\"Best Hyperparameters:\", best_params)\n",
    "\n",
    "block_size = best_params[\"block_size\"]\n",
    "embedding_dims = best_params[\"embedding_dims\"]\n",
    "l2_num_neurons = best_params[\"l2_num_neurons\"]\n",
    "\n",
    "l1_num_inputs = embedding_dims * block_size\n",
    "\n",
    "# Reinitialize parameters using the best hyperparameters\n",
    "g = torch.Generator().manual_seed(2147483647)\n",
    "C = torch.randn((27, embedding_dims), generator=g)\n",
    "W1 = torch.randn((l1_num_inputs, l2_num_neurons), generator=g)\n",
    "b1 = torch.randn(l2_num_neurons, generator=g)\n",
    "W2 = torch.randn((l2_num_neurons, 27), generator=g)\n",
    "b2 = torch.randn(27, generator=g)\n",
    "\n",
    "parameters = [C, W1, b1, W2, b2]\n",
    "for p in parameters:\n",
    "    p.requires_grad = True\n",
    "\n",
    "W1.shape"
   ]
  },
  {
   "cell_type": "code",
   "execution_count": 375,
   "id": "7d657c1b-d4dc-4932-9465-b79e208a3caf",
   "metadata": {},
   "outputs": [
    {
     "name": "stdout",
     "output_type": "stream",
     "text": [
      "torch.Size([182512, 5]) torch.Size([182512])\n",
      "torch.Size([22860, 5]) torch.Size([22860])\n",
      "torch.Size([22774, 5]) torch.Size([22774])\n"
     ]
    }
   ],
   "source": [
    "# build the dataset\n",
    "\n",
    "def build_dataset(words, block_size):\n",
    "    X, Y = [], []\n",
    "    for w in words:\n",
    "    \n",
    "        # print(w)\n",
    "        context = [0] * block_size\n",
    "        for ch in w + '.':\n",
    "            ix = stoi[ch]\n",
    "            X.append(context)\n",
    "            Y.append(ix)\n",
    "            # print(''.join(itos[i] for i in context), '--->', itos[ix])\n",
    "            context = context[1:] + [ix] # crop and append\n",
    "            \n",
    "    X = torch.tensor(X)\n",
    "    Y = torch.tensor(Y)\n",
    "    print(X.shape, Y.shape)\n",
    "    return X, Y\n",
    "\n",
    "import random\n",
    "random.seed(42)\n",
    "random.shuffle(words)\n",
    "n1 = int(0.8*len(words))\n",
    "n2 = int(0.9*len(words))\n",
    "\n",
    "Xtr, Ytr = build_dataset(words[:n1], block_size)\n",
    "Xdev, Ydev = build_dataset(words[n1:n2], block_size)\n",
    "Xte, Yte = build_dataset(words[n2:], block_size)\n"
   ]
  },
  {
   "cell_type": "code",
   "execution_count": 376,
   "id": "95deb2c3-b1dd-4fd6-adc5-ca0e65b30432",
   "metadata": {},
   "outputs": [],
   "source": [
    "train_model(\n",
    "    steps=200000,\n",
    "    batch_size=best_params[\"batch_size\"],\n",
    "    learning_rate=best_params[\"learning_rate\"],\n",
    "    l1_num_inputs=l1_num_inputs,\n",
    "    x=Xtr,\n",
    "    y=Ytr,\n",
    "    stepi=[],\n",
    "    lossi=[]\n",
    ")"
   ]
  },
  {
   "cell_type": "code",
   "execution_count": 378,
   "id": "9a360e86-18a7-4f80-b65b-93e868c1f66b",
   "metadata": {},
   "outputs": [
    {
     "data": {
      "text/plain": [
       "2.1963343620300293"
      ]
     },
     "execution_count": 378,
     "metadata": {},
     "output_type": "execute_result"
    }
   ],
   "source": [
    "print(\"Training loss:\", total_loss(Xtr, Ytr))"
   ]
  },
  {
   "cell_type": "code",
   "execution_count": 383,
   "id": "535ef616-6506-436f-b156-37386321aed0",
   "metadata": {},
   "outputs": [
    {
     "name": "stdout",
     "output_type": "stream",
     "text": [
      "cartah.\n",
      "aabya.\n",
      "kihlim.\n",
      "shree.\n",
      "cassan.\n",
      "saeja.\n",
      "hutna.\n",
      "perric.\n",
      "kaqui.\n",
      "nelania.\n",
      "chaiiv.\n",
      "kaleig.\n",
      "hham.\n",
      "jocy.\n",
      "quinn.\n",
      "shoilah.\n",
      "jadbi.\n",
      "wazelo.\n",
      "dearyn.\n",
      "kakhen.\n"
     ]
    }
   ],
   "source": [
    "get_samples(20)"
   ]
  },
  {
   "cell_type": "code",
   "execution_count": 392,
   "id": "5eeca38a-c65f-4b7f-8701-02c4086d493b",
   "metadata": {},
   "outputs": [
    {
     "data": {
      "text/plain": [
       "False"
      ]
     },
     "execution_count": 392,
     "metadata": {},
     "output_type": "execute_result"
    }
   ],
   "source": [
    "torch.cuda.is_available()\n"
   ]
  },
  {
   "cell_type": "code",
   "execution_count": 393,
   "id": "4dbcfd36-ecaf-4722-b90b-dabef64238b2",
   "metadata": {},
   "outputs": [
    {
     "data": {
      "text/plain": [
       "True"
      ]
     },
     "execution_count": 393,
     "metadata": {},
     "output_type": "execute_result"
    }
   ],
   "source": [
    "torch.backends.mps.is_available()"
   ]
  },
  {
   "cell_type": "code",
   "execution_count": 394,
   "id": "b3e74d38-9446-45c5-80a6-fe3a1905a9ed",
   "metadata": {},
   "outputs": [],
   "source": [
    "device = torch.device(\"cpu\")\n",
    "if torch.backends.mps.is_available():\n",
    "    try:\n",
    "        device = torch.device(\"mps\")\n",
    "        # Test some tensor operations to see if they work\n",
    "        torch.randn(1).to(device)\n",
    "    except RuntimeError as e:\n",
    "        print(f\"Warning: MPS is available but failed to initialize: {e}\")\n",
    "        device = torch.device(\"cpu\")"
   ]
  },
  {
   "cell_type": "code",
   "execution_count": 395,
   "id": "0f626933-d4cc-4862-a38d-d27ea0dc64a3",
   "metadata": {},
   "outputs": [
    {
     "name": "stdout",
     "output_type": "stream",
     "text": [
      "Name: torch\n",
      "Version: 2.6.0\n",
      "Summary: Tensors and Dynamic neural networks in Python with strong GPU acceleration\n",
      "Home-page: https://pytorch.org/\n",
      "Author: PyTorch Team\n",
      "Author-email: packages@pytorch.org\n",
      "License: BSD-3-Clause\n",
      "Location: /opt/homebrew/Cellar/jupyterlab/4.3.5/libexec/lib/python3.13/site-packages\n",
      "Requires: filelock, fsspec, jinja2, networkx, setuptools, sympy, typing-extensions\n",
      "Required-by: \n",
      "Note: you may need to restart the kernel to use updated packages.\n"
     ]
    }
   ],
   "source": [
    "%pip show torch"
   ]
  },
  {
   "cell_type": "code",
   "execution_count": 396,
   "id": "8f534b8b-b139-4bef-b885-6a3cdc37a348",
   "metadata": {},
   "outputs": [
    {
     "name": "stdout",
     "output_type": "stream",
     "text": [
      "tensor([1.], device='mps:0')\n"
     ]
    }
   ],
   "source": [
    "if torch.backends.mps.is_available():\n",
    "    mps_device = torch.device(\"mps\")\n",
    "    x = torch.ones(1, device=mps_device)\n",
    "    print (x)\n",
    "else:\n",
    "    print (\"MPS device not found.\")"
   ]
  },
  {
   "cell_type": "code",
   "execution_count": 397,
   "id": "9965f3bf-2858-415c-91f2-7ba55c1be155",
   "metadata": {},
   "outputs": [
    {
     "name": "stdout",
     "output_type": "stream",
     "text": [
      "True\n",
      "True\n"
     ]
    }
   ],
   "source": [
    "import torch\n",
    "print(torch.backends.mps.is_available())\n",
    "print(torch.backends.mps.is_built())\n"
   ]
  },
  {
   "cell_type": "code",
   "execution_count": null,
   "id": "a7605c67-1c72-41d3-8ed4-1ab834a8a17b",
   "metadata": {},
   "outputs": [],
   "source": []
  }
 ],
 "metadata": {
  "kernelspec": {
   "display_name": "Python 3 (ipykernel)",
   "language": "python",
   "name": "python3"
  },
  "language_info": {
   "codemirror_mode": {
    "name": "ipython",
    "version": 3
   },
   "file_extension": ".py",
   "mimetype": "text/x-python",
   "name": "python",
   "nbconvert_exporter": "python",
   "pygments_lexer": "ipython3",
   "version": "3.13.2"
  }
 },
 "nbformat": 4,
 "nbformat_minor": 5
}
