{
 "cells": [
  {
   "cell_type": "code",
   "execution_count": 1,
   "id": "825487d2-0244-4eab-8515-bbebe7628ae3",
   "metadata": {},
   "outputs": [],
   "source": [
    "import torch\n",
    "import torch.nn.functional as F\n",
    "import matplotlib.pyplot as plt\n",
    "%matplotlib inline"
   ]
  },
  {
   "cell_type": "code",
   "execution_count": 2,
   "id": "76968928-114b-49c6-a786-81198cab1350",
   "metadata": {},
   "outputs": [
    {
     "data": {
      "text/plain": [
       "['emma', 'olivia', 'ava', 'isabella', 'sophia', 'charlotte', 'mia', 'amelia']"
      ]
     },
     "execution_count": 2,
     "metadata": {},
     "output_type": "execute_result"
    }
   ],
   "source": [
    "# read in all the words\n",
    "words = open('makemore/names.txt', 'r').read().splitlines()\n",
    "words[:8]"
   ]
  },
  {
   "cell_type": "code",
   "execution_count": 3,
   "id": "a0651756-3cd2-49b7-93a5-94d33bb64be0",
   "metadata": {},
   "outputs": [
    {
     "data": {
      "text/plain": [
       "32033"
      ]
     },
     "execution_count": 3,
     "metadata": {},
     "output_type": "execute_result"
    }
   ],
   "source": [
    "len(words)"
   ]
  },
  {
   "cell_type": "code",
   "execution_count": 4,
   "id": "8e48a54e-4d09-42d0-86b7-6c6ed708480f",
   "metadata": {},
   "outputs": [
    {
     "name": "stdout",
     "output_type": "stream",
     "text": [
      "{1: 'a', 2: 'b', 3: 'c', 4: 'd', 5: 'e', 6: 'f', 7: 'g', 8: 'h', 9: 'i', 10: 'j', 11: 'k', 12: 'l', 13: 'm', 14: 'n', 15: 'o', 16: 'p', 17: 'q', 18: 'r', 19: 's', 20: 't', 21: 'u', 22: 'v', 23: 'w', 24: 'x', 25: 'y', 26: 'z', 0: '.'}\n",
      "27\n"
     ]
    }
   ],
   "source": [
    "# build the vocabulary of characters and mappings to/from integers\n",
    "chars = sorted(list(set(''.join(words))))\n",
    "stoi = {s:i+1 for i, s in enumerate(chars)}\n",
    "stoi['.'] = 0\n",
    "itos = {i:s for s, i in stoi.items()}\n",
    "vocab_size = len(itos)\n",
    "print(itos)\n",
    "print(vocab_size)"
   ]
  },
  {
   "cell_type": "code",
   "execution_count": 5,
   "id": "9192c8a9-1f51-4012-962d-0ce1214b7acf",
   "metadata": {},
   "outputs": [
    {
     "name": "stdout",
     "output_type": "stream",
     "text": [
      "torch.Size([182625, 3]) torch.Size([182625])\n",
      "torch.Size([22655, 3]) torch.Size([22655])\n",
      "torch.Size([22866, 3]) torch.Size([22866])\n"
     ]
    }
   ],
   "source": [
    "# build the dataset\n",
    "\n",
    "block_size = 3 # context length: how many characters do we take to predict the next one?\n",
    "\n",
    "def build_dataset(words):\n",
    "    X, Y = [], []\n",
    "    for w in words:\n",
    "        # print(w)\n",
    "        context = [0] * block_size\n",
    "        for ch in w + '.':\n",
    "            ix = stoi[ch]\n",
    "            X.append(context)\n",
    "            Y.append(ix)\n",
    "            context = context[1:] + [ix] # crop and append\n",
    "    \n",
    "    X = torch.tensor(X)\n",
    "    Y = torch.tensor(Y)\n",
    "    print(X.shape, Y.shape)\n",
    "    return X, Y\n",
    "\n",
    "import random\n",
    "random.seed(42)\n",
    "random.shuffle(words)\n",
    "n1 = int(0.8*len(words))\n",
    "n2 = int(0.9*len(words))\n",
    "\n",
    "Xtr, Ytr = build_dataset(words[:n1])\n",
    "Xdev, Ydev = build_dataset(words[n1:n2])\n",
    "Xte, Yte = build_dataset(words[n2:])"
   ]
  },
  {
   "cell_type": "code",
   "execution_count": 76,
   "id": "bc074347-e9fc-4546-b3c5-12aec0ae4545",
   "metadata": {},
   "outputs": [
    {
     "name": "stdout",
     "output_type": "stream",
     "text": [
      "12297\n"
     ]
    }
   ],
   "source": [
    "# MLP revisited\n",
    "n_embd = 10 # the dimensionality of the character embedding vectors\n",
    "n_hidden = 200 # the number of neurons in the hidden layer of the MLP\n",
    "\n",
    "g = torch.Generator().manual_seed(2147483647) # for reproducibility\n",
    "C = torch.randn((vocab_size, n_embd), generator=g) \n",
    "# using Kaiming init\n",
    "W1 = torch.randn((n_embd * block_size, n_hidden), generator=g) * (5/3)/((n_embd * block_size)**0.5) # 0.2\n",
    "b1 = torch.randn(n_hidden, generator=g) * 0.01\n",
    "W2 = torch.randn((n_hidden, vocab_size), generator=g) * 0.01\n",
    "b2 = torch.randn(vocab_size, generator=g) * 0\n",
    "\n",
    "bngain = torch.ones((1, n_hidden))\n",
    "bnbias = torch.zeros((1, n_hidden))\n",
    "bnmean_running = torch.zeros((1, n_hidden))\n",
    "bnstd_running = torch.ones((1, n_hidden))\n",
    "\n",
    "parameters = [C, W1, b1, W2, b2, bngain, bnbias]\n",
    "print(sum(p.nelement() for p in parameters)) # number of parameters in total\n",
    "for p in parameters:\n",
    "    p.requires_grad = True"
   ]
  },
  {
   "cell_type": "code",
   "execution_count": 58,
   "id": "44b7f182-8410-46ca-9988-3023168967d1",
   "metadata": {},
   "outputs": [
    {
     "data": {
      "text/plain": [
       "tensor(0.1999)"
      ]
     },
     "execution_count": 58,
     "metadata": {},
     "output_type": "execute_result"
    }
   ],
   "source": [
    "(torch.randn(100000) * 0.2).std()"
   ]
  },
  {
   "cell_type": "code",
   "execution_count": 59,
   "id": "1b9a3ec4-8b14-4edb-ac1d-8b88d338bea9",
   "metadata": {},
   "outputs": [
    {
     "data": {
      "text/plain": [
       "0.3042903097250923"
      ]
     },
     "execution_count": 59,
     "metadata": {},
     "output_type": "execute_result"
    }
   ],
   "source": [
    "(5/3) / (30**0.5) # fan in == n_embd * block_size"
   ]
  },
  {
   "cell_type": "code",
   "execution_count": 55,
   "id": "83c40f1b-1452-42c4-853e-a370fc563194",
   "metadata": {
    "collapsed": true,
    "jupyter": {
     "outputs_hidden": true,
     "source_hidden": true
    }
   },
   "outputs": [
    {
     "name": "stdout",
     "output_type": "stream",
     "text": [
      "tensor(0.0019) tensor(1.0036)\n",
      "tensor(-0.0010) tensor(1.0297)\n"
     ]
    },
    {
     "data": {
      "image/png": "[encoded data removed]",
      "text/plain": [
       "<Figure size 2000x500 with 2 Axes>"
      ]
     },
     "metadata": {},
     "output_type": "display_data"
    }
   ],
   "source": [
    "x = torch.randn(1000, 10)\n",
    "w = torch.randn(10, 200) / 10**0.5\n",
    "y = x @ w\n",
    "print(x.mean(), x.std())\n",
    "print(y.mean(), y.std())\n",
    "plt.figure(figsize=(20,5))\n",
    "plt.subplot(121)\n",
    "plt.hist(x.view(-1).tolist(), 50, density=True);\n",
    "plt.subplot(122)\n",
    "plt.hist(y.view(-1).tolist(), 50, density=True);"
   ]
  },
  {
   "cell_type": "code",
   "execution_count": 63,
   "id": "fe55b71e-9eed-4d3f-8702-a1dd3774aa53",
   "metadata": {},
   "outputs": [
    {
     "data": {
      "text/plain": [
       "torch.Size([32, 200])"
      ]
     },
     "execution_count": 63,
     "metadata": {},
     "output_type": "execute_result"
    }
   ],
   "source": [
    "hpreact.shape"
   ]
  },
  {
   "cell_type": "code",
   "execution_count": 66,
   "id": "795307ca-18c2-4365-a4d1-d7d1b8daf857",
   "metadata": {},
   "outputs": [
    {
     "data": {
      "text/plain": [
       "torch.Size([1, 200])"
      ]
     },
     "execution_count": 66,
     "metadata": {},
     "output_type": "execute_result"
    }
   ],
   "source": [
    "hpreact.std(0, keepdim=True).shape"
   ]
  },
  {
   "cell_type": "code",
   "execution_count": 84,
   "id": "1706f059-4486-4917-992d-2c3615221cbf",
   "metadata": {
    "scrolled": true
   },
   "outputs": [
    {
     "name": "stdout",
     "output_type": "stream",
     "text": [
      "      0/ 200000: 2.4998\n",
      "   1000/ 200000: 2.3572\n",
      "   2000/ 200000: 2.0945\n",
      "   3000/ 200000: 1.9119\n",
      "   4000/ 200000: 2.1286\n",
      "   5000/ 200000: 1.8872\n",
      "   6000/ 200000: 2.0584\n",
      "   7000/ 200000: 2.1536\n",
      "   8000/ 200000: 1.8727\n",
      "   9000/ 200000: 2.3245\n",
      "  10000/ 200000: 2.0957\n",
      "  11000/ 200000: 1.9396\n",
      "  12000/ 200000: 1.7558\n",
      "  13000/ 200000: 2.2252\n",
      "  14000/ 200000: 1.8752\n",
      "  15000/ 200000: 2.1471\n",
      "  16000/ 200000: 2.3205\n",
      "  17000/ 200000: 2.2710\n",
      "  18000/ 200000: 1.9036\n",
      "  19000/ 200000: 1.8981\n",
      "  20000/ 200000: 2.6056\n",
      "  21000/ 200000: 2.3870\n",
      "  22000/ 200000: 2.0770\n",
      "  23000/ 200000: 2.3462\n",
      "  24000/ 200000: 1.9563\n",
      "  25000/ 200000: 1.9639\n",
      "  26000/ 200000: 2.1023\n",
      "  27000/ 200000: 2.4537\n",
      "  28000/ 200000: 1.7463\n",
      "  29000/ 200000: 2.2907\n",
      "  30000/ 200000: 1.9027\n",
      "  31000/ 200000: 2.2740\n",
      "  32000/ 200000: 1.7985\n",
      "  33000/ 200000: 2.4145\n",
      "  34000/ 200000: 2.5287\n",
      "  35000/ 200000: 1.9093\n",
      "  36000/ 200000: 2.0542\n",
      "  37000/ 200000: 2.1989\n",
      "  38000/ 200000: 2.2807\n",
      "  39000/ 200000: 1.9134\n",
      "  40000/ 200000: 2.0557\n",
      "  41000/ 200000: 2.1168\n",
      "  42000/ 200000: 2.3553\n",
      "  43000/ 200000: 2.1574\n",
      "  44000/ 200000: 2.3546\n",
      "  45000/ 200000: 2.5858\n",
      "  46000/ 200000: 2.4453\n",
      "  47000/ 200000: 2.0334\n",
      "  48000/ 200000: 1.9970\n",
      "  49000/ 200000: 1.7679\n",
      "  50000/ 200000: 2.4753\n",
      "  51000/ 200000: 2.0230\n",
      "  52000/ 200000: 2.0866\n",
      "  53000/ 200000: 1.9067\n",
      "  54000/ 200000: 2.3087\n",
      "  55000/ 200000: 1.7948\n",
      "  56000/ 200000: 2.1187\n",
      "  57000/ 200000: 1.9257\n",
      "  58000/ 200000: 2.1401\n",
      "  59000/ 200000: 2.0517\n",
      "  60000/ 200000: 2.4068\n",
      "  61000/ 200000: 1.9318\n",
      "  62000/ 200000: 2.4065\n",
      "  63000/ 200000: 2.0300\n",
      "  64000/ 200000: 2.4112\n",
      "  65000/ 200000: 2.1111\n",
      "  66000/ 200000: 1.5077\n",
      "  67000/ 200000: 1.9508\n",
      "  68000/ 200000: 1.9033\n",
      "  69000/ 200000: 2.2706\n",
      "  70000/ 200000: 2.1617\n",
      "  71000/ 200000: 2.0683\n",
      "  72000/ 200000: 2.0606\n",
      "  73000/ 200000: 2.0818\n",
      "  74000/ 200000: 2.1510\n",
      "  75000/ 200000: 1.8599\n",
      "  76000/ 200000: 1.9378\n",
      "  77000/ 200000: 1.8045\n",
      "  78000/ 200000: 1.9046\n",
      "  79000/ 200000: 2.0135\n",
      "  80000/ 200000: 2.0491\n",
      "  81000/ 200000: 2.1674\n",
      "  82000/ 200000: 2.1514\n",
      "  83000/ 200000: 2.4080\n",
      "  84000/ 200000: 2.1825\n",
      "  85000/ 200000: 2.6832\n",
      "  86000/ 200000: 2.0592\n",
      "  87000/ 200000: 2.1733\n",
      "  88000/ 200000: 2.2550\n",
      "  89000/ 200000: 1.8813\n",
      "  90000/ 200000: 1.8931\n",
      "  91000/ 200000: 2.1331\n",
      "  92000/ 200000: 2.1468\n",
      "  93000/ 200000: 2.0708\n",
      "  94000/ 200000: 2.2045\n",
      "  95000/ 200000: 2.3086\n",
      "  96000/ 200000: 2.6616\n",
      "  97000/ 200000: 1.8612\n",
      "  98000/ 200000: 2.3634\n",
      "  99000/ 200000: 1.7276\n",
      " 100000/ 200000: 2.3104\n",
      " 101000/ 200000: 2.0764\n",
      " 102000/ 200000: 1.9632\n",
      " 103000/ 200000: 2.1732\n",
      " 104000/ 200000: 2.1552\n",
      " 105000/ 200000: 1.8607\n",
      " 106000/ 200000: 2.5017\n",
      " 107000/ 200000: 1.9879\n",
      " 108000/ 200000: 2.1355\n",
      " 109000/ 200000: 1.9935\n",
      " 110000/ 200000: 2.0598\n",
      " 111000/ 200000: 2.0393\n",
      " 112000/ 200000: 1.9129\n",
      " 113000/ 200000: 1.9205\n",
      " 114000/ 200000: 2.2138\n",
      " 115000/ 200000: 2.3127\n",
      " 116000/ 200000: 2.1692\n",
      " 117000/ 200000: 1.9525\n",
      " 118000/ 200000: 2.0419\n",
      " 119000/ 200000: 2.1519\n",
      " 120000/ 200000: 2.2873\n",
      " 121000/ 200000: 2.1170\n",
      " 122000/ 200000: 2.1043\n",
      " 123000/ 200000: 2.2646\n",
      " 124000/ 200000: 2.1432\n",
      " 125000/ 200000: 2.0361\n",
      " 126000/ 200000: 2.0775\n",
      " 127000/ 200000: 1.8621\n",
      " 128000/ 200000: 1.9305\n",
      " 129000/ 200000: 2.2167\n",
      " 130000/ 200000: 2.3245\n",
      " 131000/ 200000: 2.3876\n",
      " 132000/ 200000: 1.9917\n",
      " 133000/ 200000: 2.0817\n",
      " 134000/ 200000: 1.9004\n",
      " 135000/ 200000: 2.0728\n",
      " 136000/ 200000: 1.9535\n",
      " 137000/ 200000: 1.7221\n",
      " 138000/ 200000: 2.1284\n",
      " 139000/ 200000: 2.2339\n",
      " 140000/ 200000: 2.5592\n",
      " 141000/ 200000: 2.1450\n",
      " 142000/ 200000: 2.1129\n",
      " 143000/ 200000: 2.0786\n",
      " 144000/ 200000: 2.0337\n",
      " 145000/ 200000: 2.2035\n",
      " 146000/ 200000: 2.0228\n",
      " 147000/ 200000: 1.8729\n",
      " 148000/ 200000: 1.8907\n",
      " 149000/ 200000: 2.2705\n",
      " 150000/ 200000: 1.8448\n",
      " 151000/ 200000: 1.9138\n",
      " 152000/ 200000: 2.3036\n",
      " 153000/ 200000: 2.3674\n",
      " 154000/ 200000: 1.9900\n",
      " 155000/ 200000: 2.0830\n",
      " 156000/ 200000: 2.0572\n",
      " 157000/ 200000: 2.4919\n",
      " 158000/ 200000: 1.9402\n",
      " 159000/ 200000: 2.4079\n",
      " 160000/ 200000: 2.0256\n",
      " 161000/ 200000: 2.0568\n",
      " 162000/ 200000: 1.7993\n",
      " 163000/ 200000: 1.8138\n",
      " 164000/ 200000: 1.8338\n",
      " 165000/ 200000: 2.2145\n",
      " 166000/ 200000: 1.9203\n",
      " 167000/ 200000: 2.1315\n",
      " 168000/ 200000: 1.9156\n",
      " 169000/ 200000: 2.1814\n",
      " 170000/ 200000: 1.8904\n",
      " 171000/ 200000: 2.0860\n",
      " 172000/ 200000: 2.0016\n",
      " 173000/ 200000: 1.9530\n",
      " 174000/ 200000: 2.0639\n",
      " 175000/ 200000: 2.1434\n",
      " 176000/ 200000: 2.3113\n",
      " 177000/ 200000: 2.5167\n",
      " 178000/ 200000: 2.1597\n",
      " 179000/ 200000: 1.9790\n",
      " 180000/ 200000: 2.1182\n",
      " 181000/ 200000: 2.2418\n",
      " 182000/ 200000: 2.2013\n",
      " 183000/ 200000: 2.3638\n",
      " 184000/ 200000: 2.1206\n",
      " 185000/ 200000: 2.2981\n",
      " 186000/ 200000: 2.3229\n",
      " 187000/ 200000: 2.1234\n",
      " 188000/ 200000: 2.3873\n",
      " 189000/ 200000: 2.5052\n",
      " 190000/ 200000: 2.1378\n",
      " 191000/ 200000: 1.8209\n",
      " 192000/ 200000: 2.3471\n",
      " 193000/ 200000: 1.8390\n",
      " 194000/ 200000: 1.9103\n",
      " 195000/ 200000: 2.0729\n",
      " 196000/ 200000: 2.0078\n",
      " 197000/ 200000: 1.9618\n",
      " 198000/ 200000: 1.9915\n",
      " 199000/ 200000: 1.7404\n"
     ]
    }
   ],
   "source": [
    "# same optimization as last time\n",
    "max_steps = 200000\n",
    "batch_size = 32\n",
    "lossi = []\n",
    "\n",
    "for i in range(max_steps):\n",
    "    # minibatch construct\n",
    "    ix = torch.randint(0, Xtr.shape[0], (batch_size,), generator=g)\n",
    "    Xb, Yb = Xtr[ix], Ytr[ix] # batch X, Y\n",
    "\n",
    "    # forward pass\n",
    "    emb = C[Xb] # embed the characters into vectors\n",
    "    embcat = emb.view(emb.shape[0], -1) # concatenate the vectors\n",
    "    hpreact = embcat @ W1 + b1 # hidden layer pre-activation; bias is not being used really since the batch norm bias is being used, this bias grad is likely 0\n",
    "\n",
    "    # batch normalization\n",
    "    bnmeani = hpreact.mean(0, keepdim=True)\n",
    "    bnstdi = hpreact.std(0, keepdim=True)\n",
    "    hpreact = bngain * (hpreact - bnmeani) / bnstdi + bnbias\n",
    "\n",
    "    with torch.no_grad():\n",
    "        bnmean_running = 0.999 * bnmean_running + 0.001 * bnmeani\n",
    "        bnstd_running = 0.999 * bnstd_running + 0.001 * bnstdi\n",
    "    \n",
    "    h = torch.tanh(hpreact) # hidden layer\n",
    "    logits = h @ W2 + b2 # output layer\n",
    "    loss = F.cross_entropy(logits, Yb) # loss function\n",
    "\n",
    "    # backward pass\n",
    "    for p in parameters:\n",
    "        p.grad = None\n",
    "    loss.backward()\n",
    "\n",
    "    # update\n",
    "    lr = 0.1 if i < 100000 else 0.01 # step learning rate decay\n",
    "    for p in parameters:\n",
    "        p.data += -lr * p.grad\n",
    "\n",
    "    # track stats\n",
    "    if i % 1000 == 0: # print every once in a while\n",
    "        print(f'{i:7d}/{max_steps:7d}: {loss.item():.4f}')\n",
    "    lossi.append(loss.log10().item())"
   ]
  },
  {
   "cell_type": "code",
   "execution_count": 44,
   "id": "338bb4cf-263d-439d-a45c-69590c76b377",
   "metadata": {
    "collapsed": true,
    "jupyter": {
     "outputs_hidden": true,
     "source_hidden": true
    }
   },
   "outputs": [
    {
     "data": {
      "text/plain": [
       "<matplotlib.image.AxesImage at 0x121990550>"
      ]
     },
     "execution_count": 44,
     "metadata": {},
     "output_type": "execute_result"
    },
    {
     "data": {
      "image/png": "[encoded data removed]",
      "text/plain": [
       "<Figure size 2000x1000 with 1 Axes>"
      ]
     },
     "metadata": {},
     "output_type": "display_data"
    }
   ],
   "source": [
    "plt.figure(figsize=(20,10))\n",
    "plt.imshow(h.abs() > 0.99, cmap='gray', interpolation='nearest')"
   ]
  },
  {
   "cell_type": "code",
   "execution_count": 45,
   "id": "79765b6d-f256-4481-acbb-89bd52ef99bc",
   "metadata": {
    "collapsed": true,
    "jupyter": {
     "outputs_hidden": true,
     "source_hidden": true
    }
   },
   "outputs": [
    {
     "data": {
      "text/plain": [
       "tensor([[ 0.5503, -0.1064, -0.6658,  ..., -0.3477, -0.9756,  0.8880],\n",
       "        [-0.9081, -0.1924, -0.1833,  ...,  0.0494,  0.4942,  0.4397],\n",
       "        [ 0.8016,  0.1173,  0.8237,  ...,  0.2890,  0.6476,  0.8827],\n",
       "        ...,\n",
       "        [-0.9190,  0.5208, -0.0346,  ..., -0.0830,  0.8660,  0.8849],\n",
       "        [-0.9362,  0.0930, -0.2810,  ..., -0.1260,  0.7874,  0.9102],\n",
       "        [-0.9190,  0.5208, -0.0346,  ..., -0.0830,  0.8660,  0.8849]],\n",
       "       grad_fn=<TanhBackward0>)"
      ]
     },
     "execution_count": 45,
     "metadata": {},
     "output_type": "execute_result"
    }
   ],
   "source": [
    "h"
   ]
  },
  {
   "cell_type": "code",
   "execution_count": 46,
   "id": "d85906ba-443c-4c40-9cf9-d6507eacaf8a",
   "metadata": {
    "collapsed": true,
    "jupyter": {
     "outputs_hidden": true,
     "source_hidden": true
    }
   },
   "outputs": [
    {
     "data": {
      "image/png": "[encoded data removed]",
      "text/plain": [
       "<Figure size 640x480 with 1 Axes>"
      ]
     },
     "metadata": {},
     "output_type": "display_data"
    }
   ],
   "source": [
    "plt.hist(h.view(-1).tolist(), 50);"
   ]
  },
  {
   "cell_type": "code",
   "execution_count": 47,
   "id": "36f43e1d-6d9e-4755-b3c1-863f0d5cbf8d",
   "metadata": {
    "collapsed": true,
    "jupyter": {
     "outputs_hidden": true,
     "source_hidden": true
    }
   },
   "outputs": [
    {
     "data": {
      "image/png": "[encoded data removed]",
      "text/plain": [
       "<Figure size 640x480 with 1 Axes>"
      ]
     },
     "metadata": {},
     "output_type": "display_data"
    }
   ],
   "source": [
    "plt.hist(hpreact.view(-1).tolist(), 50);"
   ]
  },
  {
   "cell_type": "code",
   "execution_count": 29,
   "id": "d64027d6-e3c6-4c8e-8342-36b8c2293d72",
   "metadata": {
    "collapsed": true,
    "jupyter": {
     "outputs_hidden": true,
     "source_hidden": true
    }
   },
   "outputs": [
    {
     "data": {
      "text/plain": [
       "tensor([-0.0249,  0.3523, -0.1267,  0.0541,  0.1662, -0.1171, -0.0140,  0.0124,\n",
       "         0.0921,  0.1135,  0.1362, -0.0925,  0.0444, -0.2459, -0.0971,  0.0125,\n",
       "        -0.0957, -0.1376, -0.2329, -0.0137,  0.2452,  0.1616,  0.1665, -0.1094,\n",
       "        -0.2154,  0.0725,  0.1141], grad_fn=<SelectBackward0>)"
      ]
     },
     "execution_count": 29,
     "metadata": {},
     "output_type": "execute_result"
    }
   ],
   "source": [
    "logits[0]"
   ]
  },
  {
   "cell_type": "code",
   "execution_count": 12,
   "id": "ec0932f5-ae20-497d-94a9-fdf97c8e52e3",
   "metadata": {
    "collapsed": true,
    "jupyter": {
     "outputs_hidden": true,
     "source_hidden": true
    }
   },
   "outputs": [
    {
     "data": {
      "text/plain": [
       "tensor(3.2958)"
      ]
     },
     "execution_count": 12,
     "metadata": {},
     "output_type": "execute_result"
    }
   ],
   "source": [
    "-torch.tensor(1/27.0).log()"
   ]
  },
  {
   "cell_type": "code",
   "execution_count": 51,
   "id": "e77ba654-75e2-42c7-83c5-5082ee15d977",
   "metadata": {
    "collapsed": true,
    "jupyter": {
     "outputs_hidden": true,
     "source_hidden": true
    }
   },
   "outputs": [
    {
     "data": {
      "text/plain": [
       "[<matplotlib.lines.Line2D at 0x117cc2e90>]"
      ]
     },
     "execution_count": 51,
     "metadata": {},
     "output_type": "execute_result"
    },
    {
     "data": {
      "image/png": "[encoded data removed]",
      "text/plain": [
       "<Figure size 640x480 with 1 Axes>"
      ]
     },
     "metadata": {},
     "output_type": "display_data"
    }
   ],
   "source": [
    "plt.plot(lossi)"
   ]
  },
  {
   "cell_type": "code",
   "execution_count": null,
   "id": "075fee61-5903-4c1b-ac97-c01b0139c5f0",
   "metadata": {},
   "outputs": [],
   "source": [
    "# calibrate the batch norm at the end of training\n",
    "\n",
    "# not needed if we are calculating the bnmean/bnstd running\n",
    "with torch.no_grad():\n",
    "    # pass the training set through\n",
    "    emb = C[Xtr]\n",
    "    embcat = emb.view(emb.shape[0], -1)\n",
    "    hpreact = embcat @ W1 + b1\n",
    "    # measure the mean/std over the entire training set\n",
    "    bnmean = hpreact.mean(0, keepdim=True)\n",
    "    bnstd = hpreact.std(0, keepdim=True)"
   ]
  },
  {
   "cell_type": "code",
   "execution_count": 85,
   "id": "1e9a3c1f-917c-4070-ac06-00f999db6238",
   "metadata": {},
   "outputs": [
    {
     "name": "stdout",
     "output_type": "stream",
     "text": [
      "train 2.0417847633361816\n",
      "val 2.096254348754883\n"
     ]
    }
   ],
   "source": [
    "@torch.no_grad() # this pointer disables gradient tracking\n",
    "def split_loss(split):\n",
    "    x, y = {\n",
    "        'train': (Xtr, Ytr),\n",
    "        'val': (Xdev, Ydev),\n",
    "        'test': (Xte, Yte),\n",
    "    }[split]\n",
    "    emb = C[x] # (N, block_size, n_embd)\n",
    "    embcat = emb.view(emb.shape[0], -1) # concat into (N, block_size * n_embd)\n",
    "    hpreact = embcat @ W1 + b1\n",
    "    # hpreact = bngain * (hpreact - hpreact.mean(0, keepdim=True)) / hpreact.std(0, keepdim=True) + bnbias\n",
    "    # hpreact = bngain * (hpreact - bnmean) / bnstd + bnbias\n",
    "    hpreact = bngain * (hpreact - bnmean_running) / bnstd_running + bnbias\n",
    "    h = torch.tanh(hpreact) # (N, n_hidden)\n",
    "    logits = h @ W2 + b2 # (N, vocab_size)\n",
    "    loss = F.cross_entropy(logits, y)\n",
    "    print(split, loss.item())\n",
    "\n",
    "split_loss('train')\n",
    "split_loss('val')"
   ]
  },
  {
   "cell_type": "code",
   "execution_count": 90,
   "id": "77c26cf5-e3ad-4f5d-8af1-e7c583a1159b",
   "metadata": {},
   "outputs": [
    {
     "name": "stdout",
     "output_type": "stream",
     "text": [
      "torch.Size([1, 27])\n",
      "\n",
      "torch.Size([1, 27])\n",
      "\n",
      "torch.Size([1, 27])\n",
      "\n",
      "torch.Size([1, 27])\n",
      "\n",
      "torch.Size([1, 27])\n",
      "\n",
      "torch.Size([1, 27])\n",
      "\n",
      "torch.Size([1, 27])\n",
      "\n",
      "torch.Size([1, 27])\n",
      "\n",
      "torch.Size([1, 27])\n",
      "\n",
      "torch.Size([1, 27])\n",
      "\n",
      "torch.Size([1, 27])\n",
      "\n",
      "torch.Size([1, 27])\n",
      "\n",
      "torch.Size([1, 27])\n",
      "\n",
      "torch.Size([1, 27])\n",
      "\n",
      "torch.Size([1, 27])\n",
      "\n",
      "torch.Size([1, 27])\n",
      "\n",
      "torch.Size([1, 27])\n",
      "\n",
      "torch.Size([1, 27])\n",
      "\n",
      "torch.Size([1, 27])\n",
      "\n",
      "torch.Size([1, 27])\n",
      "\n"
     ]
    }
   ],
   "source": [
    "# sample from the model\n",
    "g = torch.Generator().manual_seed(2147483647 + 10)\n",
    "\n",
    "for _ in range(20):\n",
    "\n",
    "    out = []\n",
    "    context = [0] * block_size # initialize with all ...\n",
    "    while True:\n",
    "        # forward pass the neural net\n",
    "        emb = C[torch.tensor([context])] # (1, block_size, n_embd)\n",
    "        h = torch.tanh(emb.view(1, -1) @ W1 + b1)\n",
    "        logits = h @ W2 + b2\n",
    "        probs = F.softmax(logits, dim=1)\n",
    "        # sample from the distribution\n",
    "        ix = torch.multinomial(probs, num_samples=1, generator=g).item()\n",
    "        # shift the context window and track the samples\n",
    "        context = context[1:] + [ix]\n",
    "        out.append(ix)\n",
    "        # if we sample the special '.' token, break\n",
    "        if ix == 0:\n",
    "            break\n",
    "\n",
    "    print (''.join(itos[i] for i in out)) # decode and print the generated word"
   ]
  },
  {
   "cell_type": "code",
   "execution_count": null,
   "id": "15ee1155-32a0-4516-96ed-546cd9b7b326",
   "metadata": {},
   "outputs": [],
   "source": []
  }
 ],
 "metadata": {
  "kernelspec": {
   "display_name": "Python 3 (ipykernel)",
   "language": "python",
   "name": "python3"
  },
  "language_info": {
   "codemirror_mode": {
    "name": "ipython",
    "version": 3
   },
   "file_extension": ".py",
   "mimetype": "text/x-python",
   "name": "python",
   "nbconvert_exporter": "python",
   "pygments_lexer": "ipython3",
   "version": "3.13.2"
  }
 },
 "nbformat": 4,
 "nbformat_minor": 5
}
