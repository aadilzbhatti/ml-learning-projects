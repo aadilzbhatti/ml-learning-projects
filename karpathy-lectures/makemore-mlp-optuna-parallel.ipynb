{
 "cells": [
  {
   "cell_type": "code",
   "execution_count": 2,
   "id": "2d1c6a0c-6520-454d-af1d-d8d8b32394ec",
   "metadata": {
    "scrolled": true
   },
   "outputs": [
    {
     "name": "stdout",
     "output_type": "stream",
     "text": [
      "Collecting joblib\n",
      "  Downloading joblib-1.4.2-py3-none-any.whl.metadata (5.4 kB)\n",
      "Downloading joblib-1.4.2-py3-none-any.whl (301 kB)\n",
      "Installing collected packages: joblib\n",
      "Successfully installed joblib-1.4.2\n",
      "\n",
      "\u001b[1m[\u001b[0m\u001b[34;49mnotice\u001b[0m\u001b[1;39;49m]\u001b[0m\u001b[39;49m A new release of pip is available: \u001b[0m\u001b[31;49m25.0\u001b[0m\u001b[39;49m -> \u001b[0m\u001b[32;49m25.0.1\u001b[0m\n",
      "\u001b[1m[\u001b[0m\u001b[34;49mnotice\u001b[0m\u001b[1;39;49m]\u001b[0m\u001b[39;49m To update, run: \u001b[0m\u001b[32;49mpython -m pip install --upgrade pip\u001b[0m\n",
      "Note: you may need to restart the kernel to use updated packages.\n"
     ]
    }
   ],
   "source": [
    "%pip install joblib"
   ]
  },
  {
   "cell_type": "code",
   "execution_count": 1,
   "id": "5603b80d-f897-4312-a473-db00d87d7fba",
   "metadata": {},
   "outputs": [],
   "source": [
    "import torch\n",
    "import torch.nn.functional as F\n",
    "import optuna\n",
    "from joblib import Parallel, delayed"
   ]
  },
  {
   "cell_type": "code",
   "execution_count": 2,
   "id": "c8cc13c7-92c2-415a-91a7-b841387986a6",
   "metadata": {},
   "outputs": [
    {
     "data": {
      "text/plain": [
       "['emma', 'olivia', 'ava', 'isabella', 'sophia', 'charlotte', 'mia', 'amelia']"
      ]
     },
     "execution_count": 2,
     "metadata": {},
     "output_type": "execute_result"
    }
   ],
   "source": [
    "# read in all the words\n",
    "words = open('makemore/names.txt', 'r').read().splitlines()\n",
    "words[:8]"
   ]
  },
  {
   "cell_type": "code",
   "execution_count": 11,
   "id": "08f9d90e-8b2e-495a-b3c5-1d4ab0c9efa3",
   "metadata": {},
   "outputs": [],
   "source": [
    "# build the dataset\n",
    "\n",
    "def build_dataset(words, block_size):\n",
    "    X, Y = [], []\n",
    "    for w in words:\n",
    "    \n",
    "        # print(w)\n",
    "        context = [0] * block_size\n",
    "        for ch in w + '.':\n",
    "            ix = stoi[ch]\n",
    "            X.append(context)\n",
    "            Y.append(ix)\n",
    "            # print(''.join(itos[i] for i in context), '--->', itos[ix])\n",
    "            context = context[1:] + [ix] # crop and append\n",
    "            \n",
    "    X = torch.tensor(X)\n",
    "    Y = torch.tensor(Y)\n",
    "    # print(X.shape, Y.shape)\n",
    "    return X, Y\n",
    "\n",
    "# build the vocabulary of characters and mappings to/from integers\n",
    "chars = sorted(list(set(''.join(words))))\n",
    "stoi = {s:i + 1 for i, s in enumerate(chars)}\n",
    "stoi['.'] = 0\n",
    "itos = {i:s for s, i in stoi.items()}"
   ]
  },
  {
   "cell_type": "code",
   "execution_count": 4,
   "id": "bdf097d0-b6c8-4360-a5aa-61574e6526b6",
   "metadata": {},
   "outputs": [],
   "source": [
    "import random\n",
    "random.seed(42)\n",
    "random.shuffle(words)\n",
    "n1 = int(0.8*len(words))\n",
    "n2 = int(0.9*len(words))\n",
    "\n",
    "# Xdev, Ydev = build_dataset(words[n1:n2], block_size)\n",
    "# Xte, Yte = build_dataset(words[n2:], block_size)"
   ]
  },
  {
   "cell_type": "code",
   "execution_count": 13,
   "id": "2612c4b6-775b-4800-9017-18d577924643",
   "metadata": {},
   "outputs": [
    {
     "name": "stderr",
     "output_type": "stream",
     "text": [
      "[I 2025-03-02 13:20:26,251] A new study created in memory with name: no-name-d19cc43b-4c07-4c1f-b41f-b83d55171e3f\n",
      "[I 2025-03-02 13:20:33,384] Trial 0 finished with value: 20.290958404541016 and parameters: {'block_size': 9, 'embedding_dims': 18, 'l2_num_neurons': 203, 'batch_size': 32, 'learning_rate': 0.002833496628053928, 'clip_value': 0.8221987537283277}. Best is trial 0 with value: 20.290958404541016.\n",
      "[I 2025-03-02 13:20:33,758] Trial 2 finished with value: 19.160297393798828 and parameters: {'block_size': 8, 'embedding_dims': 8, 'l2_num_neurons': 228, 'batch_size': 16, 'learning_rate': 0.0028918005295102047, 'clip_value': 0.5351689103932158}. Best is trial 2 with value: 19.160297393798828.\n",
      "[I 2025-03-02 13:20:34,230] Trial 6 finished with value: 9.767122268676758 and parameters: {'block_size': 9, 'embedding_dims': 17, 'l2_num_neurons': 124, 'batch_size': 16, 'learning_rate': 0.013766795940444084, 'clip_value': 1.2174683797146493}. Best is trial 6 with value: 9.767122268676758.\n",
      "[I 2025-03-02 13:20:34,746] Trial 1 finished with value: 20.38362693786621 and parameters: {'block_size': 7, 'embedding_dims': 8, 'l2_num_neurons': 178, 'batch_size': 64, 'learning_rate': 0.0013597365134568643, 'clip_value': 0.8227972697334645}. Best is trial 6 with value: 9.767122268676758.\n",
      "[I 2025-03-02 13:20:35,139] Trial 7 finished with value: 3.7066311836242676 and parameters: {'block_size': 11, 'embedding_dims': 5, 'l2_num_neurons': 193, 'batch_size': 32, 'learning_rate': 0.0712323912242616, 'clip_value': 1.9123920224666566}. Best is trial 7 with value: 3.7066311836242676.\n",
      "[I 2025-03-02 13:20:35,535] Trial 5 finished with value: 21.01954460144043 and parameters: {'block_size': 11, 'embedding_dims': 14, 'l2_num_neurons': 186, 'batch_size': 32, 'learning_rate': 0.0015168628242478563, 'clip_value': 1.2639100735457856}. Best is trial 7 with value: 3.7066311836242676.\n",
      "[I 2025-03-02 13:20:35,877] Trial 3 finished with value: 16.428863525390625 and parameters: {'block_size': 6, 'embedding_dims': 18, 'l2_num_neurons': 131, 'batch_size': 64, 'learning_rate': 0.0019508647860088566, 'clip_value': 0.7181698848966374}. Best is trial 7 with value: 3.7066311836242676.\n",
      "[I 2025-03-02 13:20:36,390] Trial 4 finished with value: 22.67415428161621 and parameters: {'block_size': 11, 'embedding_dims': 18, 'l2_num_neurons': 212, 'batch_size': 32, 'learning_rate': 0.00106657305991261, 'clip_value': 1.2718511889812745}. Best is trial 7 with value: 3.7066311836242676.\n",
      "[I 2025-03-02 13:20:40,969] Trial 8 finished with value: 6.65585470199585 and parameters: {'block_size': 10, 'embedding_dims': 6, 'l2_num_neurons': 115, 'batch_size': 64, 'learning_rate': 0.006414553702813968, 'clip_value': 0.8342135188915518}. Best is trial 7 with value: 3.7066311836242676.\n",
      "[I 2025-03-02 13:20:41,485] Trial 9 finished with value: 12.196884155273438 and parameters: {'block_size': 9, 'embedding_dims': 20, 'l2_num_neurons': 112, 'batch_size': 16, 'learning_rate': 0.00207202339363715, 'clip_value': 0.6191759521572655}. Best is trial 7 with value: 3.7066311836242676.\n",
      "[I 2025-03-02 13:20:42,160] Trial 10 finished with value: 13.225587844848633 and parameters: {'block_size': 7, 'embedding_dims': 18, 'l2_num_neurons': 286, 'batch_size': 16, 'learning_rate': 0.01234159408073043, 'clip_value': 0.7850124353020149}. Best is trial 7 with value: 3.7066311836242676.\n",
      "[I 2025-03-02 13:20:42,715] Trial 11 finished with value: 11.10951042175293 and parameters: {'block_size': 9, 'embedding_dims': 13, 'l2_num_neurons': 287, 'batch_size': 64, 'learning_rate': 0.018049847646682757, 'clip_value': 1.7764413812368436}. Best is trial 7 with value: 3.7066311836242676.\n",
      "[I 2025-03-02 13:20:43,275] Trial 12 finished with value: 20.044052124023438 and parameters: {'block_size': 7, 'embedding_dims': 19, 'l2_num_neurons': 144, 'batch_size': 16, 'learning_rate': 0.0038849376726049667, 'clip_value': 1.3504201304749421}. Best is trial 7 with value: 3.7066311836242676.\n",
      "[I 2025-03-02 13:20:43,963] Trial 13 finished with value: 8.993906021118164 and parameters: {'block_size': 8, 'embedding_dims': 8, 'l2_num_neurons': 140, 'batch_size': 64, 'learning_rate': 0.007016136092910889, 'clip_value': 1.797963552414913}. Best is trial 7 with value: 3.7066311836242676.\n",
      "[I 2025-03-02 13:20:44,470] Trial 14 finished with value: 7.542998313903809 and parameters: {'block_size': 8, 'embedding_dims': 12, 'l2_num_neurons': 86, 'batch_size': 64, 'learning_rate': 0.0054799160998792885, 'clip_value': 1.4427669678967703}. Best is trial 7 with value: 3.7066311836242676.\n",
      "[I 2025-03-02 13:20:45,140] Trial 15 finished with value: 11.214241027832031 and parameters: {'block_size': 14, 'embedding_dims': 14, 'l2_num_neurons': 286, 'batch_size': 32, 'learning_rate': 0.07211127126801282, 'clip_value': 0.5671008430313693}. Best is trial 7 with value: 3.7066311836242676.\n",
      "[I 2025-03-02 13:20:49,718] Trial 16 finished with value: 7.775946140289307 and parameters: {'block_size': 15, 'embedding_dims': 19, 'l2_num_neurons': 84, 'batch_size': 64, 'learning_rate': 0.0023133265449994216, 'clip_value': 1.221812739490175}. Best is trial 7 with value: 3.7066311836242676.\n",
      "[I 2025-03-02 13:20:50,179] Trial 17 finished with value: 3.9202754497528076 and parameters: {'block_size': 15, 'embedding_dims': 11, 'l2_num_neurons': 290, 'batch_size': 32, 'learning_rate': 0.0981673885917193, 'clip_value': 1.958353883752483}. Best is trial 7 with value: 3.7066311836242676.\n",
      "[I 2025-03-02 13:20:50,805] Trial 18 finished with value: 2.804287910461426 and parameters: {'block_size': 14, 'embedding_dims': 5, 'l2_num_neurons': 59, 'batch_size': 64, 'learning_rate': 0.08435378220570694, 'clip_value': 1.7515846054833173}. Best is trial 18 with value: 2.804287910461426.\n",
      "[I 2025-03-02 13:20:51,472] Trial 19 finished with value: 2.7707059383392334 and parameters: {'block_size': 14, 'embedding_dims': 5, 'l2_num_neurons': 51, 'batch_size': 64, 'learning_rate': 0.08947220979426913, 'clip_value': 1.9148593386957873}. Best is trial 19 with value: 2.7707059383392334.\n",
      "[I 2025-03-02 13:20:51,967] Trial 20 finished with value: 2.8273115158081055 and parameters: {'block_size': 14, 'embedding_dims': 5, 'l2_num_neurons': 50, 'batch_size': 32, 'learning_rate': 0.09007042278130331, 'clip_value': 1.934834819731108}. Best is trial 19 with value: 2.7707059383392334.\n",
      "[I 2025-03-02 13:20:52,682] Trial 21 finished with value: 3.4939773082733154 and parameters: {'block_size': 15, 'embedding_dims': 5, 'l2_num_neurons': 59, 'batch_size': 32, 'learning_rate': 0.089712006208982, 'clip_value': 1.964883073004628}. Best is trial 19 with value: 2.7707059383392334.\n",
      "[I 2025-03-02 13:20:53,260] Trial 22 finished with value: 2.841815233230591 and parameters: {'block_size': 14, 'embedding_dims': 5, 'l2_num_neurons': 75, 'batch_size': 32, 'learning_rate': 0.06506095692333481, 'clip_value': 1.0544883875494602}. Best is trial 19 with value: 2.7707059383392334.\n",
      "[I 2025-03-02 13:20:53,566] Trial 23 finished with value: 3.054255723953247 and parameters: {'block_size': 13, 'embedding_dims': 5, 'l2_num_neurons': 52, 'batch_size': 32, 'learning_rate': 0.030982701662890032, 'clip_value': 1.9556194135652356}. Best is trial 19 with value: 2.7707059383392334.\n",
      "[I 2025-03-02 13:20:56,507] Trial 24 finished with value: 2.627434730529785 and parameters: {'block_size': 12, 'embedding_dims': 5, 'l2_num_neurons': 61, 'batch_size': 32, 'learning_rate': 0.030523190305105544, 'clip_value': 1.981633415922173}. Best is trial 24 with value: 2.627434730529785.\n",
      "[I 2025-03-02 13:20:56,585] Trial 25 finished with value: 4.168057441711426 and parameters: {'block_size': 13, 'embedding_dims': 5, 'l2_num_neurons': 245, 'batch_size': 32, 'learning_rate': 0.09251015718588956, 'clip_value': 1.9434916507702953}. Best is trial 24 with value: 2.627434730529785.\n",
      "[I 2025-03-02 13:20:56,705] Trial 26 finished with value: 3.5331358909606934 and parameters: {'block_size': 13, 'embedding_dims': 5, 'l2_num_neurons': 57, 'batch_size': 32, 'learning_rate': 0.039188802196880965, 'clip_value': 1.5527505652432323}. Best is trial 24 with value: 2.627434730529785.\n",
      "[I 2025-03-02 13:20:56,856] Trial 27 finished with value: 2.9208202362060547 and parameters: {'block_size': 13, 'embedding_dims': 10, 'l2_num_neurons': 50, 'batch_size': 64, 'learning_rate': 0.02676117050305124, 'clip_value': 1.5965857996207755}. Best is trial 24 with value: 2.627434730529785.\n",
      "[I 2025-03-02 13:20:56,953] Trial 28 finished with value: 3.06634521484375 and parameters: {'block_size': 13, 'embedding_dims': 6, 'l2_num_neurons': 55, 'batch_size': 64, 'learning_rate': 0.03411577869337023, 'clip_value': 1.5966245111781991}. Best is trial 24 with value: 2.627434730529785.\n",
      "[I 2025-03-02 13:20:57,050] Trial 29 finished with value: 2.9572882652282715 and parameters: {'block_size': 13, 'embedding_dims': 7, 'l2_num_neurons': 51, 'batch_size': 64, 'learning_rate': 0.04295996616647605, 'clip_value': 1.6205168086421866}. Best is trial 24 with value: 2.627434730529785.\n"
     ]
    }
   ],
   "source": [
    "# Define your model as before\n",
    "def create_model(embedding_dims, block_size, l2_num_neurons):\n",
    "    C = torch.randn((27, embedding_dims))\n",
    "    W1 = torch.randn((embedding_dims * block_size, l2_num_neurons))\n",
    "    b1 = torch.randn(l2_num_neurons)\n",
    "    W2 = torch.randn((l2_num_neurons, 27))\n",
    "    b2 = torch.randn(27)\n",
    "    parameters = [C, W1, b1, W2, b2]\n",
    "    for p in parameters:\n",
    "        p.requires_grad = True\n",
    "    return parameters\n",
    "\n",
    "def train_model(device, Xtr, Ytr, steps, batch_size, learning_rate, block_size, embedding_dims, l2_num_neurons, clip_value):\n",
    "    parameters = create_model(embedding_dims, block_size, l2_num_neurons)\n",
    "    parameters = [p.to(device).detach().requires_grad_() for p in parameters]\n",
    "    Xtr, Ytr = Xtr.to(device), Ytr.to(device)\n",
    "\n",
    "    optimizer = torch.optim.SGD(parameters, lr=learning_rate, momentum=0.9)\n",
    "\n",
    "    for step in range(steps):\n",
    "        ix = torch.randint(0, Xtr.shape[0], (batch_size,))\n",
    "        X_batch, Y_batch = Xtr[ix], Ytr[ix]\n",
    "\n",
    "        emb = parameters[0][X_batch]\n",
    "        h = torch.tanh(emb.view(-1, embedding_dims * block_size) @ parameters[1] + parameters[2])\n",
    "        logits = h @ parameters[3] + parameters[4]\n",
    "        loss = F.cross_entropy(logits, Y_batch)\n",
    "\n",
    "        optimizer.zero_grad()\n",
    "        loss.backward()\n",
    "        torch.nn.utils.clip_grad_norm_(parameters, clip_value)\n",
    "        optimizer.step()\n",
    "\n",
    "    return loss.item()\n",
    "\n",
    "def objective(trial):\n",
    "    block_size = trial.suggest_int(\"block_size\", 5, 15)\n",
    "    embedding_dims = trial.suggest_int(\"embedding_dims\", 5, 20)\n",
    "    l2_num_neurons = trial.suggest_int(\"l2_num_neurons\", 50, 300)\n",
    "    batch_size = trial.suggest_categorical(\"batch_size\", [16, 32, 64])\n",
    "    learning_rate = trial.suggest_float(\"learning_rate\", 1e-3, 1e-1, log=True)\n",
    "    clip_value = trial.suggest_float(\"clip_value\", 0.5, 2.0) # Add as a hyperparameter\n",
    "\n",
    "    steps = 200\n",
    "\n",
    "    Xtr, Ytr = build_dataset(words[:n1], block_size)\n",
    "    device = torch.device(\"mps\")\n",
    "    # device = torch.device(\"cpu\")\n",
    "    torch.set_num_threads(torch.get_num_threads()) \n",
    "    loss = train_model(device, Xtr, Ytr, steps, batch_size, learning_rate, block_size, embedding_dims, l2_num_neurons, clip_value)\n",
    "    return loss\n",
    "    \n",
    "# Create a study with GPU support and parallel optimization\n",
    "study = optuna.create_study(direction=\"minimize\")\n",
    "study.optimize(objective, n_trials=30, n_jobs=-1)  # Use all available CPU cores, including parallel GPU support"
   ]
  },
  {
   "cell_type": "code",
   "execution_count": 14,
   "id": "f2b7cfcb-9117-4d6c-bae9-7e7db0dda0ca",
   "metadata": {},
   "outputs": [],
   "source": [
    "import time\n",
    "\n",
    "def train_and_time(device, Xtr, Ytr, steps, batch_size, learning_rate, block_size, embedding_dims, l2_num_neurons, clip_value):\n",
    "    start_time = time.time()\n",
    "    loss = train_model(device, Xtr, Ytr, steps, batch_size, learning_rate, block_size, embedding_dims, l2_num_neurons, clip_value)\n",
    "    end_time = time.time()\n",
    "    elapsed_time = end_time - start_time\n",
    "    return loss, elapsed_time"
   ]
  },
  {
   "cell_type": "code",
   "execution_count": 41,
   "id": "c95b827e-be6c-4f1b-95bc-36076073b3a8",
   "metadata": {},
   "outputs": [],
   "source": [
    "def objective_timed(trial):\n",
    "    block_size = trial.suggest_int(\"block_size\", 5, 15)\n",
    "    embedding_dims = trial.suggest_int(\"embedding_dims\", 5, 20)\n",
    "    l2_num_neurons = trial.suggest_int(\"l2_num_neurons\", 50, 300)\n",
    "    batch_size = trial.suggest_categorical(\"batch_size\", [16, 32, 64])\n",
    "    learning_rate = trial.suggest_float(\"learning_rate\", 1e-3, 1e-1, log=True)\n",
    "    clip_value = trial.suggest_float(\"clip_value\", 0.5, 2.0)\n",
    "\n",
    "    steps = 500\n",
    "    Xtr, Ytr = build_dataset(words[:n1], block_size)\n",
    "\n",
    "    # Choose between CPU and MPS\n",
    "    # device_name = trial.suggest_categorical(\"device\", [\"cpu\", \"mps\"])\n",
    "    device = torch.device(\"mps\")\n",
    "    \n",
    "    loss, elapsed_time = train_and_time(device, Xtr, Ytr, steps, batch_size, learning_rate, block_size, embedding_dims, l2_num_neurons, clip_value)\n",
    "    \n",
    "    print(f\"Device: {device_name.upper()}, Loss: {loss:.4f}, Time: {elapsed_time:.2f} sec\")\n",
    "\n",
    "    return loss  # Optuna minimizes the loss"
   ]
  },
  {
   "cell_type": "code",
   "execution_count": 42,
   "id": "75b25293-225d-4d75-9b92-ce318355f280",
   "metadata": {},
   "outputs": [
    {
     "name": "stderr",
     "output_type": "stream",
     "text": [
      "[I 2025-03-02 13:40:05,352] A new study created in memory with name: no-name-4d2fb745-1e8e-42ac-bd70-82ed95468840\n",
      "[I 2025-03-02 13:40:09,200] Trial 1 finished with value: 14.066448211669922 and parameters: {'block_size': 7, 'embedding_dims': 17, 'l2_num_neurons': 82, 'batch_size': 16, 'learning_rate': 0.0010568415166202277, 'clip_value': 1.991961094076027, 'device': 'cpu'}. Best is trial 1 with value: 14.066448211669922.\n"
     ]
    },
    {
     "name": "stdout",
     "output_type": "stream",
     "text": [
      "Device: CPU, Loss: 14.0664, Time: 1.89 sec\n"
     ]
    },
    {
     "name": "stderr",
     "output_type": "stream",
     "text": [
      "[I 2025-03-02 13:40:09,641] Trial 3 finished with value: 3.874737024307251 and parameters: {'block_size': 15, 'embedding_dims': 7, 'l2_num_neurons': 159, 'batch_size': 16, 'learning_rate': 0.08869445571703366, 'clip_value': 1.8608285703151646, 'device': 'cpu'}. Best is trial 3 with value: 3.874737024307251.\n"
     ]
    },
    {
     "name": "stdout",
     "output_type": "stream",
     "text": [
      "Device: CPU, Loss: 3.8747, Time: 3.26 sec\n"
     ]
    },
    {
     "name": "stderr",
     "output_type": "stream",
     "text": [
      "[I 2025-03-02 13:40:09,969] Trial 6 finished with value: 2.862640857696533 and parameters: {'block_size': 9, 'embedding_dims': 20, 'l2_num_neurons': 66, 'batch_size': 64, 'learning_rate': 0.029718789007869936, 'clip_value': 0.8526233190290622, 'device': 'cpu'}. Best is trial 6 with value: 2.862640857696533.\n"
     ]
    },
    {
     "name": "stdout",
     "output_type": "stream",
     "text": [
      "Device: CPU, Loss: 2.8626, Time: 2.65 sec\n"
     ]
    },
    {
     "name": "stderr",
     "output_type": "stream",
     "text": [
      "[I 2025-03-02 13:40:10,297] Trial 7 finished with value: 3.9208788871765137 and parameters: {'block_size': 14, 'embedding_dims': 9, 'l2_num_neurons': 236, 'batch_size': 32, 'learning_rate': 0.029497706744298087, 'clip_value': 1.9805455664594196, 'device': 'cpu'}. Best is trial 6 with value: 2.862640857696533.\n"
     ]
    },
    {
     "name": "stdout",
     "output_type": "stream",
     "text": [
      "Device: CPU, Loss: 3.9209, Time: 2.71 sec\n"
     ]
    },
    {
     "name": "stderr",
     "output_type": "stream",
     "text": [
      "[I 2025-03-02 13:40:10,657] Trial 2 finished with value: 4.034715175628662 and parameters: {'block_size': 9, 'embedding_dims': 14, 'l2_num_neurons': 285, 'batch_size': 32, 'learning_rate': 0.020650373164224807, 'clip_value': 1.964116232473333, 'device': 'cpu'}. Best is trial 6 with value: 2.862640857696533.\n"
     ]
    },
    {
     "name": "stdout",
     "output_type": "stream",
     "text": [
      "Device: CPU, Loss: 4.0347, Time: 4.61 sec\n"
     ]
    },
    {
     "name": "stderr",
     "output_type": "stream",
     "text": [
      "[I 2025-03-02 13:40:11,129] Trial 11 finished with value: 12.102813720703125 and parameters: {'block_size': 7, 'embedding_dims': 8, 'l2_num_neurons': 215, 'batch_size': 16, 'learning_rate': 0.0014787828023975498, 'clip_value': 1.5621177710215575, 'device': 'cpu'}. Best is trial 6 with value: 2.862640857696533.\n"
     ]
    },
    {
     "name": "stdout",
     "output_type": "stream",
     "text": [
      "Device: CPU, Loss: 12.1028, Time: 0.55 sec\n"
     ]
    },
    {
     "name": "stderr",
     "output_type": "stream",
     "text": [
      "[I 2025-03-02 13:40:11,575] Trial 9 finished with value: 3.512113332748413 and parameters: {'block_size': 13, 'embedding_dims': 18, 'l2_num_neurons': 189, 'batch_size': 32, 'learning_rate': 0.044755421564187665, 'clip_value': 1.6197159859258354, 'device': 'cpu'}. Best is trial 6 with value: 2.862640857696533.\n"
     ]
    },
    {
     "name": "stdout",
     "output_type": "stream",
     "text": [
      "Device: CPU, Loss: 3.5121, Time: 1.64 sec\n"
     ]
    },
    {
     "name": "stderr",
     "output_type": "stream",
     "text": [
      "[I 2025-03-02 13:40:12,020] Trial 13 finished with value: 4.04624080657959 and parameters: {'block_size': 12, 'embedding_dims': 10, 'l2_num_neurons': 231, 'batch_size': 16, 'learning_rate': 0.02179843710267954, 'clip_value': 1.9817364036494338, 'device': 'cpu'}. Best is trial 6 with value: 2.862640857696533.\n"
     ]
    },
    {
     "name": "stdout",
     "output_type": "stream",
     "text": [
      "Device: CPU, Loss: 4.0462, Time: 0.55 sec\n"
     ]
    },
    {
     "name": "stderr",
     "output_type": "stream",
     "text": [
      "[I 2025-03-02 13:40:12,556] Trial 15 finished with value: 3.0713889598846436 and parameters: {'block_size': 10, 'embedding_dims': 15, 'l2_num_neurons': 153, 'batch_size': 32, 'learning_rate': 0.03955153375222286, 'clip_value': 0.9336184984559306, 'device': 'cpu'}. Best is trial 6 with value: 2.862640857696533.\n"
     ]
    },
    {
     "name": "stdout",
     "output_type": "stream",
     "text": [
      "Device: CPU, Loss: 3.0714, Time: 0.22 sec\n"
     ]
    },
    {
     "ename": "KeyboardInterrupt",
     "evalue": "",
     "output_type": "error",
     "traceback": [
      "\u001b[0;31m---------------------------------------------------------------------------\u001b[0m",
      "\u001b[0;31mKeyboardInterrupt\u001b[0m                         Traceback (most recent call last)",
      "File \u001b[0;32m/opt/homebrew/Cellar/jupyterlab/4.3.5/libexec/lib/python3.13/site-packages/optuna/study/_optimize.py:97\u001b[0m, in \u001b[0;36m_optimize\u001b[0;34m(study, func, n_trials, timeout, n_jobs, catch, callbacks, gc_after_trial, show_progress_bar)\u001b[0m\n\u001b[1;32m     96\u001b[0m \u001b[38;5;28;01mif\u001b[39;00m \u001b[38;5;28mlen\u001b[39m(futures) \u001b[38;5;241m>\u001b[39m\u001b[38;5;241m=\u001b[39m n_jobs:\n\u001b[0;32m---> 97\u001b[0m     completed, futures \u001b[38;5;241m=\u001b[39m \u001b[43mwait\u001b[49m\u001b[43m(\u001b[49m\u001b[43mfutures\u001b[49m\u001b[43m,\u001b[49m\u001b[43m \u001b[49m\u001b[43mreturn_when\u001b[49m\u001b[38;5;241;43m=\u001b[39;49m\u001b[43mFIRST_COMPLETED\u001b[49m\u001b[43m)\u001b[49m\n\u001b[1;32m     98\u001b[0m     \u001b[38;5;66;03m# Raise if exception occurred in executing the completed futures.\u001b[39;00m\n",
      "File \u001b[0;32m/opt/homebrew/Cellar/python@3.13/3.13.2/Frameworks/Python.framework/Versions/3.13/lib/python3.13/concurrent/futures/_base.py:305\u001b[0m, in \u001b[0;36mwait\u001b[0;34m(fs, timeout, return_when)\u001b[0m\n\u001b[1;32m    303\u001b[0m     waiter \u001b[38;5;241m=\u001b[39m _create_and_install_waiters(fs, return_when)\n\u001b[0;32m--> 305\u001b[0m \u001b[43mwaiter\u001b[49m\u001b[38;5;241;43m.\u001b[39;49m\u001b[43mevent\u001b[49m\u001b[38;5;241;43m.\u001b[39;49m\u001b[43mwait\u001b[49m\u001b[43m(\u001b[49m\u001b[43mtimeout\u001b[49m\u001b[43m)\u001b[49m\n\u001b[1;32m    306\u001b[0m \u001b[38;5;28;01mfor\u001b[39;00m f \u001b[38;5;129;01min\u001b[39;00m fs:\n",
      "File \u001b[0;32m/opt/homebrew/Cellar/python@3.13/3.13.2/Frameworks/Python.framework/Versions/3.13/lib/python3.13/threading.py:659\u001b[0m, in \u001b[0;36mEvent.wait\u001b[0;34m(self, timeout)\u001b[0m\n\u001b[1;32m    658\u001b[0m \u001b[38;5;28;01mif\u001b[39;00m \u001b[38;5;129;01mnot\u001b[39;00m signaled:\n\u001b[0;32m--> 659\u001b[0m     signaled \u001b[38;5;241m=\u001b[39m \u001b[38;5;28;43mself\u001b[39;49m\u001b[38;5;241;43m.\u001b[39;49m\u001b[43m_cond\u001b[49m\u001b[38;5;241;43m.\u001b[39;49m\u001b[43mwait\u001b[49m\u001b[43m(\u001b[49m\u001b[43mtimeout\u001b[49m\u001b[43m)\u001b[49m\n\u001b[1;32m    660\u001b[0m \u001b[38;5;28;01mreturn\u001b[39;00m signaled\n",
      "File \u001b[0;32m/opt/homebrew/Cellar/python@3.13/3.13.2/Frameworks/Python.framework/Versions/3.13/lib/python3.13/threading.py:359\u001b[0m, in \u001b[0;36mCondition.wait\u001b[0;34m(self, timeout)\u001b[0m\n\u001b[1;32m    358\u001b[0m \u001b[38;5;28;01mif\u001b[39;00m timeout \u001b[38;5;129;01mis\u001b[39;00m \u001b[38;5;28;01mNone\u001b[39;00m:\n\u001b[0;32m--> 359\u001b[0m     \u001b[43mwaiter\u001b[49m\u001b[38;5;241;43m.\u001b[39;49m\u001b[43macquire\u001b[49m\u001b[43m(\u001b[49m\u001b[43m)\u001b[49m\n\u001b[1;32m    360\u001b[0m     gotit \u001b[38;5;241m=\u001b[39m \u001b[38;5;28;01mTrue\u001b[39;00m\n",
      "\u001b[0;31mKeyboardInterrupt\u001b[0m: ",
      "\nDuring handling of the above exception, another exception occurred:\n",
      "\u001b[0;31mKeyboardInterrupt\u001b[0m                         Traceback (most recent call last)",
      "Cell \u001b[0;32mIn[42], line 2\u001b[0m\n\u001b[1;32m      1\u001b[0m study \u001b[38;5;241m=\u001b[39m optuna\u001b[38;5;241m.\u001b[39mcreate_study(direction\u001b[38;5;241m=\u001b[39m\u001b[38;5;124m\"\u001b[39m\u001b[38;5;124mminimize\u001b[39m\u001b[38;5;124m\"\u001b[39m)\n\u001b[0;32m----> 2\u001b[0m \u001b[43mstudy\u001b[49m\u001b[38;5;241;43m.\u001b[39;49m\u001b[43moptimize\u001b[49m\u001b[43m(\u001b[49m\u001b[43mobjective_timed\u001b[49m\u001b[43m,\u001b[49m\u001b[43m \u001b[49m\u001b[43mn_trials\u001b[49m\u001b[38;5;241;43m=\u001b[39;49m\u001b[38;5;241;43m30\u001b[39;49m\u001b[43m,\u001b[49m\u001b[43m \u001b[49m\u001b[43mn_jobs\u001b[49m\u001b[38;5;241;43m=\u001b[39;49m\u001b[38;5;241;43m-\u001b[39;49m\u001b[38;5;241;43m1\u001b[39;49m\u001b[43m)\u001b[49m\n",
      "File \u001b[0;32m/opt/homebrew/Cellar/jupyterlab/4.3.5/libexec/lib/python3.13/site-packages/optuna/study/study.py:475\u001b[0m, in \u001b[0;36mStudy.optimize\u001b[0;34m(self, func, n_trials, timeout, n_jobs, catch, callbacks, gc_after_trial, show_progress_bar)\u001b[0m\n\u001b[1;32m    373\u001b[0m \u001b[38;5;28;01mdef\u001b[39;00m\u001b[38;5;250m \u001b[39m\u001b[38;5;21moptimize\u001b[39m(\n\u001b[1;32m    374\u001b[0m     \u001b[38;5;28mself\u001b[39m,\n\u001b[1;32m    375\u001b[0m     func: ObjectiveFuncType,\n\u001b[0;32m   (...)\u001b[0m\n\u001b[1;32m    382\u001b[0m     show_progress_bar: \u001b[38;5;28mbool\u001b[39m \u001b[38;5;241m=\u001b[39m \u001b[38;5;28;01mFalse\u001b[39;00m,\n\u001b[1;32m    383\u001b[0m ) \u001b[38;5;241m-\u001b[39m\u001b[38;5;241m>\u001b[39m \u001b[38;5;28;01mNone\u001b[39;00m:\n\u001b[1;32m    384\u001b[0m \u001b[38;5;250m    \u001b[39m\u001b[38;5;124;03m\"\"\"Optimize an objective function.\u001b[39;00m\n\u001b[1;32m    385\u001b[0m \n\u001b[1;32m    386\u001b[0m \u001b[38;5;124;03m    Optimization is done by choosing a suitable set of hyperparameter values from a given\u001b[39;00m\n\u001b[0;32m   (...)\u001b[0m\n\u001b[1;32m    473\u001b[0m \u001b[38;5;124;03m            If nested invocation of this method occurs.\u001b[39;00m\n\u001b[1;32m    474\u001b[0m \u001b[38;5;124;03m    \"\"\"\u001b[39;00m\n\u001b[0;32m--> 475\u001b[0m     \u001b[43m_optimize\u001b[49m\u001b[43m(\u001b[49m\n\u001b[1;32m    476\u001b[0m \u001b[43m        \u001b[49m\u001b[43mstudy\u001b[49m\u001b[38;5;241;43m=\u001b[39;49m\u001b[38;5;28;43mself\u001b[39;49m\u001b[43m,\u001b[49m\n\u001b[1;32m    477\u001b[0m \u001b[43m        \u001b[49m\u001b[43mfunc\u001b[49m\u001b[38;5;241;43m=\u001b[39;49m\u001b[43mfunc\u001b[49m\u001b[43m,\u001b[49m\n\u001b[1;32m    478\u001b[0m \u001b[43m        \u001b[49m\u001b[43mn_trials\u001b[49m\u001b[38;5;241;43m=\u001b[39;49m\u001b[43mn_trials\u001b[49m\u001b[43m,\u001b[49m\n\u001b[1;32m    479\u001b[0m \u001b[43m        \u001b[49m\u001b[43mtimeout\u001b[49m\u001b[38;5;241;43m=\u001b[39;49m\u001b[43mtimeout\u001b[49m\u001b[43m,\u001b[49m\n\u001b[1;32m    480\u001b[0m \u001b[43m        \u001b[49m\u001b[43mn_jobs\u001b[49m\u001b[38;5;241;43m=\u001b[39;49m\u001b[43mn_jobs\u001b[49m\u001b[43m,\u001b[49m\n\u001b[1;32m    481\u001b[0m \u001b[43m        \u001b[49m\u001b[43mcatch\u001b[49m\u001b[38;5;241;43m=\u001b[39;49m\u001b[38;5;28;43mtuple\u001b[39;49m\u001b[43m(\u001b[49m\u001b[43mcatch\u001b[49m\u001b[43m)\u001b[49m\u001b[43m \u001b[49m\u001b[38;5;28;43;01mif\u001b[39;49;00m\u001b[43m \u001b[49m\u001b[38;5;28;43misinstance\u001b[39;49m\u001b[43m(\u001b[49m\u001b[43mcatch\u001b[49m\u001b[43m,\u001b[49m\u001b[43m \u001b[49m\u001b[43mIterable\u001b[49m\u001b[43m)\u001b[49m\u001b[43m \u001b[49m\u001b[38;5;28;43;01melse\u001b[39;49;00m\u001b[43m \u001b[49m\u001b[43m(\u001b[49m\u001b[43mcatch\u001b[49m\u001b[43m,\u001b[49m\u001b[43m)\u001b[49m\u001b[43m,\u001b[49m\n\u001b[1;32m    482\u001b[0m \u001b[43m        \u001b[49m\u001b[43mcallbacks\u001b[49m\u001b[38;5;241;43m=\u001b[39;49m\u001b[43mcallbacks\u001b[49m\u001b[43m,\u001b[49m\n\u001b[1;32m    483\u001b[0m \u001b[43m        \u001b[49m\u001b[43mgc_after_trial\u001b[49m\u001b[38;5;241;43m=\u001b[39;49m\u001b[43mgc_after_trial\u001b[49m\u001b[43m,\u001b[49m\n\u001b[1;32m    484\u001b[0m \u001b[43m        \u001b[49m\u001b[43mshow_progress_bar\u001b[49m\u001b[38;5;241;43m=\u001b[39;49m\u001b[43mshow_progress_bar\u001b[49m\u001b[43m,\u001b[49m\n\u001b[1;32m    485\u001b[0m \u001b[43m    \u001b[49m\u001b[43m)\u001b[49m\n",
      "File \u001b[0;32m/opt/homebrew/Cellar/jupyterlab/4.3.5/libexec/lib/python3.13/site-packages/optuna/study/_optimize.py:82\u001b[0m, in \u001b[0;36m_optimize\u001b[0;34m(study, func, n_trials, timeout, n_jobs, catch, callbacks, gc_after_trial, show_progress_bar)\u001b[0m\n\u001b[1;32m     79\u001b[0m time_start \u001b[38;5;241m=\u001b[39m datetime\u001b[38;5;241m.\u001b[39mdatetime\u001b[38;5;241m.\u001b[39mnow()\n\u001b[1;32m     80\u001b[0m futures: \u001b[38;5;28mset\u001b[39m[Future] \u001b[38;5;241m=\u001b[39m \u001b[38;5;28mset\u001b[39m()\n\u001b[0;32m---> 82\u001b[0m \u001b[38;5;28;01mwith\u001b[39;00m ThreadPoolExecutor(max_workers\u001b[38;5;241m=\u001b[39mn_jobs) \u001b[38;5;28;01mas\u001b[39;00m executor:\n\u001b[1;32m     83\u001b[0m     \u001b[38;5;28;01mfor\u001b[39;00m n_submitted_trials \u001b[38;5;129;01min\u001b[39;00m itertools\u001b[38;5;241m.\u001b[39mcount():\n\u001b[1;32m     84\u001b[0m         \u001b[38;5;28;01mif\u001b[39;00m study\u001b[38;5;241m.\u001b[39m_stop_flag:\n",
      "File \u001b[0;32m/opt/homebrew/Cellar/python@3.13/3.13.2/Frameworks/Python.framework/Versions/3.13/lib/python3.13/concurrent/futures/_base.py:647\u001b[0m, in \u001b[0;36mExecutor.__exit__\u001b[0;34m(self, exc_type, exc_val, exc_tb)\u001b[0m\n\u001b[1;32m    646\u001b[0m \u001b[38;5;28;01mdef\u001b[39;00m\u001b[38;5;250m \u001b[39m\u001b[38;5;21m__exit__\u001b[39m(\u001b[38;5;28mself\u001b[39m, exc_type, exc_val, exc_tb):\n\u001b[0;32m--> 647\u001b[0m     \u001b[38;5;28;43mself\u001b[39;49m\u001b[38;5;241;43m.\u001b[39;49m\u001b[43mshutdown\u001b[49m\u001b[43m(\u001b[49m\u001b[43mwait\u001b[49m\u001b[38;5;241;43m=\u001b[39;49m\u001b[38;5;28;43;01mTrue\u001b[39;49;00m\u001b[43m)\u001b[49m\n\u001b[1;32m    648\u001b[0m     \u001b[38;5;28;01mreturn\u001b[39;00m \u001b[38;5;28;01mFalse\u001b[39;00m\n",
      "File \u001b[0;32m/opt/homebrew/Cellar/python@3.13/3.13.2/Frameworks/Python.framework/Versions/3.13/lib/python3.13/concurrent/futures/thread.py:239\u001b[0m, in \u001b[0;36mThreadPoolExecutor.shutdown\u001b[0;34m(self, wait, cancel_futures)\u001b[0m\n\u001b[1;32m    237\u001b[0m \u001b[38;5;28;01mif\u001b[39;00m wait:\n\u001b[1;32m    238\u001b[0m     \u001b[38;5;28;01mfor\u001b[39;00m t \u001b[38;5;129;01min\u001b[39;00m \u001b[38;5;28mself\u001b[39m\u001b[38;5;241m.\u001b[39m_threads:\n\u001b[0;32m--> 239\u001b[0m         \u001b[43mt\u001b[49m\u001b[38;5;241;43m.\u001b[39;49m\u001b[43mjoin\u001b[49m\u001b[43m(\u001b[49m\u001b[43m)\u001b[49m\n",
      "File \u001b[0;32m/opt/homebrew/Cellar/python@3.13/3.13.2/Frameworks/Python.framework/Versions/3.13/lib/python3.13/threading.py:1092\u001b[0m, in \u001b[0;36mThread.join\u001b[0;34m(self, timeout)\u001b[0m\n\u001b[1;32m   1089\u001b[0m \u001b[38;5;28;01mif\u001b[39;00m timeout \u001b[38;5;129;01mis\u001b[39;00m \u001b[38;5;129;01mnot\u001b[39;00m \u001b[38;5;28;01mNone\u001b[39;00m:\n\u001b[1;32m   1090\u001b[0m     timeout \u001b[38;5;241m=\u001b[39m \u001b[38;5;28mmax\u001b[39m(timeout, \u001b[38;5;241m0\u001b[39m)\n\u001b[0;32m-> 1092\u001b[0m \u001b[38;5;28;43mself\u001b[39;49m\u001b[38;5;241;43m.\u001b[39;49m\u001b[43m_handle\u001b[49m\u001b[38;5;241;43m.\u001b[39;49m\u001b[43mjoin\u001b[49m\u001b[43m(\u001b[49m\u001b[43mtimeout\u001b[49m\u001b[43m)\u001b[49m\n",
      "\u001b[0;31mKeyboardInterrupt\u001b[0m: "
     ]
    }
   ],
   "source": [
    "study = optuna.create_study(direction=\"minimize\")\n",
    "study.optimize(objective_timed, n_trials=30, n_jobs=-1)"
   ]
  },
  {
   "cell_type": "code",
   "execution_count": 30,
   "id": "9ec2b5a7-811f-4577-b677-cca6023f3ac5",
   "metadata": {},
   "outputs": [
    {
     "data": {
      "text/plain": [
       "{'block_size': 15,\n",
       " 'embedding_dims': 9,\n",
       " 'l2_num_neurons': 67,\n",
       " 'batch_size': 32,\n",
       " 'learning_rate': 0.04122017199784867,\n",
       " 'clip_value': 0.9383499285871308,\n",
       " 'device': 'mps'}"
      ]
     },
     "execution_count": 30,
     "metadata": {},
     "output_type": "execute_result"
    }
   ],
   "source": [
    "best_params_t1 = study.best_params\n",
    "best_params_t1"
   ]
  },
  {
   "cell_type": "code",
   "execution_count": 38,
   "id": "c0b21d08-a02d-4cba-a02f-8d56bbbde3e0",
   "metadata": {},
   "outputs": [
    {
     "ename": "KeyboardInterrupt",
     "evalue": "",
     "output_type": "error",
     "traceback": [
      "\u001b[0;31m---------------------------------------------------------------------------\u001b[0m",
      "\u001b[0;31mKeyboardInterrupt\u001b[0m                         Traceback (most recent call last)",
      "File \u001b[0;32m/opt/homebrew/Cellar/jupyterlab/4.3.5/libexec/lib/python3.13/site-packages/optuna/study/_optimize.py:97\u001b[0m, in \u001b[0;36m_optimize\u001b[0;34m(study, func, n_trials, timeout, n_jobs, catch, callbacks, gc_after_trial, show_progress_bar)\u001b[0m\n\u001b[1;32m     96\u001b[0m \u001b[38;5;28;01mif\u001b[39;00m \u001b[38;5;28mlen\u001b[39m(futures) \u001b[38;5;241m>\u001b[39m\u001b[38;5;241m=\u001b[39m n_jobs:\n\u001b[0;32m---> 97\u001b[0m     completed, futures \u001b[38;5;241m=\u001b[39m \u001b[43mwait\u001b[49m\u001b[43m(\u001b[49m\u001b[43mfutures\u001b[49m\u001b[43m,\u001b[49m\u001b[43m \u001b[49m\u001b[43mreturn_when\u001b[49m\u001b[38;5;241;43m=\u001b[39;49m\u001b[43mFIRST_COMPLETED\u001b[49m\u001b[43m)\u001b[49m\n\u001b[1;32m     98\u001b[0m     \u001b[38;5;66;03m# Raise if exception occurred in executing the completed futures.\u001b[39;00m\n",
      "File \u001b[0;32m/opt/homebrew/Cellar/python@3.13/3.13.2/Frameworks/Python.framework/Versions/3.13/lib/python3.13/concurrent/futures/_base.py:305\u001b[0m, in \u001b[0;36mwait\u001b[0;34m(fs, timeout, return_when)\u001b[0m\n\u001b[1;32m    303\u001b[0m     waiter \u001b[38;5;241m=\u001b[39m _create_and_install_waiters(fs, return_when)\n\u001b[0;32m--> 305\u001b[0m \u001b[43mwaiter\u001b[49m\u001b[38;5;241;43m.\u001b[39;49m\u001b[43mevent\u001b[49m\u001b[38;5;241;43m.\u001b[39;49m\u001b[43mwait\u001b[49m\u001b[43m(\u001b[49m\u001b[43mtimeout\u001b[49m\u001b[43m)\u001b[49m\n\u001b[1;32m    306\u001b[0m \u001b[38;5;28;01mfor\u001b[39;00m f \u001b[38;5;129;01min\u001b[39;00m fs:\n",
      "File \u001b[0;32m/opt/homebrew/Cellar/python@3.13/3.13.2/Frameworks/Python.framework/Versions/3.13/lib/python3.13/threading.py:659\u001b[0m, in \u001b[0;36mEvent.wait\u001b[0;34m(self, timeout)\u001b[0m\n\u001b[1;32m    658\u001b[0m \u001b[38;5;28;01mif\u001b[39;00m \u001b[38;5;129;01mnot\u001b[39;00m signaled:\n\u001b[0;32m--> 659\u001b[0m     signaled \u001b[38;5;241m=\u001b[39m \u001b[38;5;28;43mself\u001b[39;49m\u001b[38;5;241;43m.\u001b[39;49m\u001b[43m_cond\u001b[49m\u001b[38;5;241;43m.\u001b[39;49m\u001b[43mwait\u001b[49m\u001b[43m(\u001b[49m\u001b[43mtimeout\u001b[49m\u001b[43m)\u001b[49m\n\u001b[1;32m    660\u001b[0m \u001b[38;5;28;01mreturn\u001b[39;00m signaled\n",
      "File \u001b[0;32m/opt/homebrew/Cellar/python@3.13/3.13.2/Frameworks/Python.framework/Versions/3.13/lib/python3.13/threading.py:359\u001b[0m, in \u001b[0;36mCondition.wait\u001b[0;34m(self, timeout)\u001b[0m\n\u001b[1;32m    358\u001b[0m \u001b[38;5;28;01mif\u001b[39;00m timeout \u001b[38;5;129;01mis\u001b[39;00m \u001b[38;5;28;01mNone\u001b[39;00m:\n\u001b[0;32m--> 359\u001b[0m     \u001b[43mwaiter\u001b[49m\u001b[38;5;241;43m.\u001b[39;49m\u001b[43macquire\u001b[49m\u001b[43m(\u001b[49m\u001b[43m)\u001b[49m\n\u001b[1;32m    360\u001b[0m     gotit \u001b[38;5;241m=\u001b[39m \u001b[38;5;28;01mTrue\u001b[39;00m\n",
      "\u001b[0;31mKeyboardInterrupt\u001b[0m: ",
      "\nDuring handling of the above exception, another exception occurred:\n",
      "\u001b[0;31mKeyboardInterrupt\u001b[0m                         Traceback (most recent call last)",
      "Cell \u001b[0;32mIn[38], line 2\u001b[0m\n\u001b[1;32m      1\u001b[0m study\u001b[38;5;241m.\u001b[39menqueue_trial(best_params_t1)\n\u001b[0;32m----> 2\u001b[0m \u001b[43mstudy\u001b[49m\u001b[38;5;241;43m.\u001b[39;49m\u001b[43moptimize\u001b[49m\u001b[43m(\u001b[49m\u001b[43mobjective_timed\u001b[49m\u001b[43m,\u001b[49m\u001b[43m \u001b[49m\u001b[43mn_trials\u001b[49m\u001b[38;5;241;43m=\u001b[39;49m\u001b[38;5;241;43m30\u001b[39;49m\u001b[43m,\u001b[49m\u001b[43m \u001b[49m\u001b[43mn_jobs\u001b[49m\u001b[38;5;241;43m=\u001b[39;49m\u001b[38;5;241;43m-\u001b[39;49m\u001b[38;5;241;43m1\u001b[39;49m\u001b[43m)\u001b[49m\n",
      "File \u001b[0;32m/opt/homebrew/Cellar/jupyterlab/4.3.5/libexec/lib/python3.13/site-packages/optuna/study/study.py:475\u001b[0m, in \u001b[0;36mStudy.optimize\u001b[0;34m(self, func, n_trials, timeout, n_jobs, catch, callbacks, gc_after_trial, show_progress_bar)\u001b[0m\n\u001b[1;32m    373\u001b[0m \u001b[38;5;28;01mdef\u001b[39;00m\u001b[38;5;250m \u001b[39m\u001b[38;5;21moptimize\u001b[39m(\n\u001b[1;32m    374\u001b[0m     \u001b[38;5;28mself\u001b[39m,\n\u001b[1;32m    375\u001b[0m     func: ObjectiveFuncType,\n\u001b[0;32m   (...)\u001b[0m\n\u001b[1;32m    382\u001b[0m     show_progress_bar: \u001b[38;5;28mbool\u001b[39m \u001b[38;5;241m=\u001b[39m \u001b[38;5;28;01mFalse\u001b[39;00m,\n\u001b[1;32m    383\u001b[0m ) \u001b[38;5;241m-\u001b[39m\u001b[38;5;241m>\u001b[39m \u001b[38;5;28;01mNone\u001b[39;00m:\n\u001b[1;32m    384\u001b[0m \u001b[38;5;250m    \u001b[39m\u001b[38;5;124;03m\"\"\"Optimize an objective function.\u001b[39;00m\n\u001b[1;32m    385\u001b[0m \n\u001b[1;32m    386\u001b[0m \u001b[38;5;124;03m    Optimization is done by choosing a suitable set of hyperparameter values from a given\u001b[39;00m\n\u001b[0;32m   (...)\u001b[0m\n\u001b[1;32m    473\u001b[0m \u001b[38;5;124;03m            If nested invocation of this method occurs.\u001b[39;00m\n\u001b[1;32m    474\u001b[0m \u001b[38;5;124;03m    \"\"\"\u001b[39;00m\n\u001b[0;32m--> 475\u001b[0m     \u001b[43m_optimize\u001b[49m\u001b[43m(\u001b[49m\n\u001b[1;32m    476\u001b[0m \u001b[43m        \u001b[49m\u001b[43mstudy\u001b[49m\u001b[38;5;241;43m=\u001b[39;49m\u001b[38;5;28;43mself\u001b[39;49m\u001b[43m,\u001b[49m\n\u001b[1;32m    477\u001b[0m \u001b[43m        \u001b[49m\u001b[43mfunc\u001b[49m\u001b[38;5;241;43m=\u001b[39;49m\u001b[43mfunc\u001b[49m\u001b[43m,\u001b[49m\n\u001b[1;32m    478\u001b[0m \u001b[43m        \u001b[49m\u001b[43mn_trials\u001b[49m\u001b[38;5;241;43m=\u001b[39;49m\u001b[43mn_trials\u001b[49m\u001b[43m,\u001b[49m\n\u001b[1;32m    479\u001b[0m \u001b[43m        \u001b[49m\u001b[43mtimeout\u001b[49m\u001b[38;5;241;43m=\u001b[39;49m\u001b[43mtimeout\u001b[49m\u001b[43m,\u001b[49m\n\u001b[1;32m    480\u001b[0m \u001b[43m        \u001b[49m\u001b[43mn_jobs\u001b[49m\u001b[38;5;241;43m=\u001b[39;49m\u001b[43mn_jobs\u001b[49m\u001b[43m,\u001b[49m\n\u001b[1;32m    481\u001b[0m \u001b[43m        \u001b[49m\u001b[43mcatch\u001b[49m\u001b[38;5;241;43m=\u001b[39;49m\u001b[38;5;28;43mtuple\u001b[39;49m\u001b[43m(\u001b[49m\u001b[43mcatch\u001b[49m\u001b[43m)\u001b[49m\u001b[43m \u001b[49m\u001b[38;5;28;43;01mif\u001b[39;49;00m\u001b[43m \u001b[49m\u001b[38;5;28;43misinstance\u001b[39;49m\u001b[43m(\u001b[49m\u001b[43mcatch\u001b[49m\u001b[43m,\u001b[49m\u001b[43m \u001b[49m\u001b[43mIterable\u001b[49m\u001b[43m)\u001b[49m\u001b[43m \u001b[49m\u001b[38;5;28;43;01melse\u001b[39;49;00m\u001b[43m \u001b[49m\u001b[43m(\u001b[49m\u001b[43mcatch\u001b[49m\u001b[43m,\u001b[49m\u001b[43m)\u001b[49m\u001b[43m,\u001b[49m\n\u001b[1;32m    482\u001b[0m \u001b[43m        \u001b[49m\u001b[43mcallbacks\u001b[49m\u001b[38;5;241;43m=\u001b[39;49m\u001b[43mcallbacks\u001b[49m\u001b[43m,\u001b[49m\n\u001b[1;32m    483\u001b[0m \u001b[43m        \u001b[49m\u001b[43mgc_after_trial\u001b[49m\u001b[38;5;241;43m=\u001b[39;49m\u001b[43mgc_after_trial\u001b[49m\u001b[43m,\u001b[49m\n\u001b[1;32m    484\u001b[0m \u001b[43m        \u001b[49m\u001b[43mshow_progress_bar\u001b[49m\u001b[38;5;241;43m=\u001b[39;49m\u001b[43mshow_progress_bar\u001b[49m\u001b[43m,\u001b[49m\n\u001b[1;32m    485\u001b[0m \u001b[43m    \u001b[49m\u001b[43m)\u001b[49m\n",
      "File \u001b[0;32m/opt/homebrew/Cellar/jupyterlab/4.3.5/libexec/lib/python3.13/site-packages/optuna/study/_optimize.py:82\u001b[0m, in \u001b[0;36m_optimize\u001b[0;34m(study, func, n_trials, timeout, n_jobs, catch, callbacks, gc_after_trial, show_progress_bar)\u001b[0m\n\u001b[1;32m     79\u001b[0m time_start \u001b[38;5;241m=\u001b[39m datetime\u001b[38;5;241m.\u001b[39mdatetime\u001b[38;5;241m.\u001b[39mnow()\n\u001b[1;32m     80\u001b[0m futures: \u001b[38;5;28mset\u001b[39m[Future] \u001b[38;5;241m=\u001b[39m \u001b[38;5;28mset\u001b[39m()\n\u001b[0;32m---> 82\u001b[0m \u001b[38;5;28;01mwith\u001b[39;00m ThreadPoolExecutor(max_workers\u001b[38;5;241m=\u001b[39mn_jobs) \u001b[38;5;28;01mas\u001b[39;00m executor:\n\u001b[1;32m     83\u001b[0m     \u001b[38;5;28;01mfor\u001b[39;00m n_submitted_trials \u001b[38;5;129;01min\u001b[39;00m itertools\u001b[38;5;241m.\u001b[39mcount():\n\u001b[1;32m     84\u001b[0m         \u001b[38;5;28;01mif\u001b[39;00m study\u001b[38;5;241m.\u001b[39m_stop_flag:\n",
      "File \u001b[0;32m/opt/homebrew/Cellar/python@3.13/3.13.2/Frameworks/Python.framework/Versions/3.13/lib/python3.13/concurrent/futures/_base.py:647\u001b[0m, in \u001b[0;36mExecutor.__exit__\u001b[0;34m(self, exc_type, exc_val, exc_tb)\u001b[0m\n\u001b[1;32m    646\u001b[0m \u001b[38;5;28;01mdef\u001b[39;00m\u001b[38;5;250m \u001b[39m\u001b[38;5;21m__exit__\u001b[39m(\u001b[38;5;28mself\u001b[39m, exc_type, exc_val, exc_tb):\n\u001b[0;32m--> 647\u001b[0m     \u001b[38;5;28;43mself\u001b[39;49m\u001b[38;5;241;43m.\u001b[39;49m\u001b[43mshutdown\u001b[49m\u001b[43m(\u001b[49m\u001b[43mwait\u001b[49m\u001b[38;5;241;43m=\u001b[39;49m\u001b[38;5;28;43;01mTrue\u001b[39;49;00m\u001b[43m)\u001b[49m\n\u001b[1;32m    648\u001b[0m     \u001b[38;5;28;01mreturn\u001b[39;00m \u001b[38;5;28;01mFalse\u001b[39;00m\n",
      "File \u001b[0;32m/opt/homebrew/Cellar/python@3.13/3.13.2/Frameworks/Python.framework/Versions/3.13/lib/python3.13/concurrent/futures/thread.py:239\u001b[0m, in \u001b[0;36mThreadPoolExecutor.shutdown\u001b[0;34m(self, wait, cancel_futures)\u001b[0m\n\u001b[1;32m    237\u001b[0m \u001b[38;5;28;01mif\u001b[39;00m wait:\n\u001b[1;32m    238\u001b[0m     \u001b[38;5;28;01mfor\u001b[39;00m t \u001b[38;5;129;01min\u001b[39;00m \u001b[38;5;28mself\u001b[39m\u001b[38;5;241m.\u001b[39m_threads:\n\u001b[0;32m--> 239\u001b[0m         \u001b[43mt\u001b[49m\u001b[38;5;241;43m.\u001b[39;49m\u001b[43mjoin\u001b[49m\u001b[43m(\u001b[49m\u001b[43m)\u001b[49m\n",
      "File \u001b[0;32m/opt/homebrew/Cellar/python@3.13/3.13.2/Frameworks/Python.framework/Versions/3.13/lib/python3.13/threading.py:1092\u001b[0m, in \u001b[0;36mThread.join\u001b[0;34m(self, timeout)\u001b[0m\n\u001b[1;32m   1089\u001b[0m \u001b[38;5;28;01mif\u001b[39;00m timeout \u001b[38;5;129;01mis\u001b[39;00m \u001b[38;5;129;01mnot\u001b[39;00m \u001b[38;5;28;01mNone\u001b[39;00m:\n\u001b[1;32m   1090\u001b[0m     timeout \u001b[38;5;241m=\u001b[39m \u001b[38;5;28mmax\u001b[39m(timeout, \u001b[38;5;241m0\u001b[39m)\n\u001b[0;32m-> 1092\u001b[0m \u001b[38;5;28;43mself\u001b[39;49m\u001b[38;5;241;43m.\u001b[39;49m\u001b[43m_handle\u001b[49m\u001b[38;5;241;43m.\u001b[39;49m\u001b[43mjoin\u001b[49m\u001b[43m(\u001b[49m\u001b[43mtimeout\u001b[49m\u001b[43m)\u001b[49m\n",
      "\u001b[0;31mKeyboardInterrupt\u001b[0m: "
     ]
    }
   ],
   "source": [
    "study.enqueue_trial(best_params_t1)\n",
    "study.optimize(objective_timed, n_trials=30, n_jobs=-1)"
   ]
  },
  {
   "cell_type": "code",
   "execution_count": 35,
   "id": "05e46f8f-5896-43c8-825d-5b715718693f",
   "metadata": {},
   "outputs": [],
   "source": [
    "def objective_with_steps(trial):\n",
    "    block_size = trial.suggest_int(\"block_size\", 5, 15)\n",
    "    embedding_dims = trial.suggest_int(\"embedding_dims\", 5, 20)\n",
    "    l2_num_neurons = trial.suggest_int(\"l2_num_neurons\", 50, 300)\n",
    "    batch_size = trial.suggest_categorical(\"batch_size\", [16, 32, 64])\n",
    "    learning_rate = trial.suggest_float(\"learning_rate\", 1e-3, 1e-1, log=True)\n",
    "    clip_value = trial.suggest_float(\"clip_value\", 0.5, 2.0)\n",
    "\n",
    "    # Tune number of steps (log scale since steps have a large range)\n",
    "    steps = trial.suggest_int(\"steps\", 100, 2000, step=100)\n",
    "\n",
    "    # Choose device dynamically\n",
    "    device_name = trial.suggest_categorical(\"device\", [\"cpu\", \"mps\"])\n",
    "    device = torch.device(device_name)\n",
    "\n",
    "    Xtr, Ytr = build_dataset(words[:n1], block_size)\n",
    "\n",
    "    loss, elapsed_time = train_and_time(device, Xtr, Ytr, steps, batch_size, learning_rate, block_size, embedding_dims, l2_num_neurons, clip_value)\n",
    "\n",
    "    print(f\"Device: {device_name.upper()}, Steps: {steps}, Loss: {loss:.4f}, Time: {elapsed_time:.2f} sec\")\n",
    "\n",
    "    return loss  # Minimize loss"
   ]
  },
  {
   "cell_type": "code",
   "execution_count": 36,
   "id": "3575431a-66d7-4bd5-8216-9215c9df1ef2",
   "metadata": {},
   "outputs": [
    {
     "name": "stderr",
     "output_type": "stream",
     "text": [
      "[I 2025-03-02 13:36:42,689] A new study created in memory with name: no-name-0d6525af-1322-4484-a3c9-807d412bae42\n",
      "[I 2025-03-02 13:36:45,711] Trial 3 finished with value: 5.564040184020996 and parameters: {'block_size': 6, 'embedding_dims': 16, 'l2_num_neurons': 194, 'batch_size': 32, 'learning_rate': 0.045164662645455225, 'clip_value': 0.505255587022085, 'steps': 600, 'device': 'cpu'}. Best is trial 3 with value: 5.564040184020996.\n"
     ]
    },
    {
     "name": "stdout",
     "output_type": "stream",
     "text": [
      "Device: CPU, Steps: 600, Loss: 5.5640, Time: 2.53 sec\n"
     ]
    },
    {
     "name": "stderr",
     "output_type": "stream",
     "text": [
      "[I 2025-03-02 13:36:46,875] Trial 4 finished with value: 4.393177032470703 and parameters: {'block_size': 14, 'embedding_dims': 5, 'l2_num_neurons': 99, 'batch_size': 64, 'learning_rate': 0.0012884285986914281, 'clip_value': 1.146553372184385, 'steps': 1600, 'device': 'cpu'}. Best is trial 4 with value: 4.393177032470703.\n"
     ]
    },
    {
     "name": "stdout",
     "output_type": "stream",
     "text": [
      "Device: CPU, Steps: 1600, Loss: 4.3932, Time: 1.64 sec\n"
     ]
    },
    {
     "name": "stderr",
     "output_type": "stream",
     "text": [
      "[I 2025-03-02 13:36:47,507] Trial 8 finished with value: 2.557959794998169 and parameters: {'block_size': 11, 'embedding_dims': 6, 'l2_num_neurons': 54, 'batch_size': 32, 'learning_rate': 0.0017834580158283381, 'clip_value': 1.6304668264708766, 'steps': 1900, 'device': 'cpu'}. Best is trial 8 with value: 2.557959794998169.\n"
     ]
    },
    {
     "name": "stdout",
     "output_type": "stream",
     "text": [
      "Device: CPU, Steps: 1900, Loss: 2.5580, Time: 1.48 sec\n"
     ]
    },
    {
     "name": "stderr",
     "output_type": "stream",
     "text": [
      "[I 2025-03-02 13:36:48,831] Trial 10 finished with value: 4.2762556076049805 and parameters: {'block_size': 11, 'embedding_dims': 14, 'l2_num_neurons': 218, 'batch_size': 32, 'learning_rate': 0.034095100340301936, 'clip_value': 0.6063163922016082, 'steps': 1500, 'device': 'cpu'}. Best is trial 8 with value: 2.557959794998169.\n"
     ]
    },
    {
     "name": "stdout",
     "output_type": "stream",
     "text": [
      "Device: CPU, Steps: 1500, Loss: 4.2763, Time: 0.92 sec\n"
     ]
    },
    {
     "name": "stderr",
     "output_type": "stream",
     "text": [
      "[I 2025-03-02 13:36:49,483] Trial 11 finished with value: 4.449064254760742 and parameters: {'block_size': 13, 'embedding_dims': 9, 'l2_num_neurons': 296, 'batch_size': 32, 'learning_rate': 0.09965055204571183, 'clip_value': 1.9320756883571535, 'steps': 500, 'device': 'cpu'}. Best is trial 8 with value: 2.557959794998169.\n"
     ]
    },
    {
     "name": "stdout",
     "output_type": "stream",
     "text": [
      "Device: CPU, Steps: 500, Loss: 4.4491, Time: 0.29 sec\n"
     ]
    },
    {
     "name": "stderr",
     "output_type": "stream",
     "text": [
      "[I 2025-03-02 13:36:49,941] Trial 12 finished with value: 6.347474575042725 and parameters: {'block_size': 15, 'embedding_dims': 12, 'l2_num_neurons': 209, 'batch_size': 64, 'learning_rate': 0.022807946911321337, 'clip_value': 1.3773216224888623, 'steps': 100, 'device': 'cpu'}. Best is trial 8 with value: 2.557959794998169.\n"
     ]
    },
    {
     "name": "stdout",
     "output_type": "stream",
     "text": [
      "Device: CPU, Steps: 100, Loss: 6.3475, Time: 0.05 sec\n"
     ]
    },
    {
     "name": "stderr",
     "output_type": "stream",
     "text": [
      "[I 2025-03-02 13:36:50,462] Trial 13 finished with value: 8.366116523742676 and parameters: {'block_size': 9, 'embedding_dims': 7, 'l2_num_neurons': 208, 'batch_size': 64, 'learning_rate': 0.0071166446194733946, 'clip_value': 1.6253169841032609, 'steps': 300, 'device': 'cpu'}. Best is trial 8 with value: 2.557959794998169.\n"
     ]
    },
    {
     "name": "stdout",
     "output_type": "stream",
     "text": [
      "Device: CPU, Steps: 300, Loss: 8.3661, Time: 0.20 sec\n"
     ]
    },
    {
     "name": "stderr",
     "output_type": "stream",
     "text": [
      "[I 2025-03-02 13:36:50,794] Trial 14 finished with value: 4.2606658935546875 and parameters: {'block_size': 5, 'embedding_dims': 7, 'l2_num_neurons': 190, 'batch_size': 64, 'learning_rate': 0.05735685475747297, 'clip_value': 1.481003186775664, 'steps': 400, 'device': 'cpu'}. Best is trial 8 with value: 2.557959794998169.\n"
     ]
    },
    {
     "name": "stdout",
     "output_type": "stream",
     "text": [
      "Device: CPU, Steps: 400, Loss: 4.2607, Time: 0.17 sec\n"
     ]
    },
    {
     "ename": "KeyboardInterrupt",
     "evalue": "",
     "output_type": "error",
     "traceback": [
      "\u001b[0;31m---------------------------------------------------------------------------\u001b[0m",
      "\u001b[0;31mKeyboardInterrupt\u001b[0m                         Traceback (most recent call last)",
      "File \u001b[0;32m/opt/homebrew/Cellar/jupyterlab/4.3.5/libexec/lib/python3.13/site-packages/optuna/study/_optimize.py:97\u001b[0m, in \u001b[0;36m_optimize\u001b[0;34m(study, func, n_trials, timeout, n_jobs, catch, callbacks, gc_after_trial, show_progress_bar)\u001b[0m\n\u001b[1;32m     96\u001b[0m \u001b[38;5;28;01mif\u001b[39;00m \u001b[38;5;28mlen\u001b[39m(futures) \u001b[38;5;241m>\u001b[39m\u001b[38;5;241m=\u001b[39m n_jobs:\n\u001b[0;32m---> 97\u001b[0m     completed, futures \u001b[38;5;241m=\u001b[39m \u001b[43mwait\u001b[49m\u001b[43m(\u001b[49m\u001b[43mfutures\u001b[49m\u001b[43m,\u001b[49m\u001b[43m \u001b[49m\u001b[43mreturn_when\u001b[49m\u001b[38;5;241;43m=\u001b[39;49m\u001b[43mFIRST_COMPLETED\u001b[49m\u001b[43m)\u001b[49m\n\u001b[1;32m     98\u001b[0m     \u001b[38;5;66;03m# Raise if exception occurred in executing the completed futures.\u001b[39;00m\n",
      "File \u001b[0;32m/opt/homebrew/Cellar/python@3.13/3.13.2/Frameworks/Python.framework/Versions/3.13/lib/python3.13/concurrent/futures/_base.py:305\u001b[0m, in \u001b[0;36mwait\u001b[0;34m(fs, timeout, return_when)\u001b[0m\n\u001b[1;32m    303\u001b[0m     waiter \u001b[38;5;241m=\u001b[39m _create_and_install_waiters(fs, return_when)\n\u001b[0;32m--> 305\u001b[0m \u001b[43mwaiter\u001b[49m\u001b[38;5;241;43m.\u001b[39;49m\u001b[43mevent\u001b[49m\u001b[38;5;241;43m.\u001b[39;49m\u001b[43mwait\u001b[49m\u001b[43m(\u001b[49m\u001b[43mtimeout\u001b[49m\u001b[43m)\u001b[49m\n\u001b[1;32m    306\u001b[0m \u001b[38;5;28;01mfor\u001b[39;00m f \u001b[38;5;129;01min\u001b[39;00m fs:\n",
      "File \u001b[0;32m/opt/homebrew/Cellar/python@3.13/3.13.2/Frameworks/Python.framework/Versions/3.13/lib/python3.13/threading.py:659\u001b[0m, in \u001b[0;36mEvent.wait\u001b[0;34m(self, timeout)\u001b[0m\n\u001b[1;32m    658\u001b[0m \u001b[38;5;28;01mif\u001b[39;00m \u001b[38;5;129;01mnot\u001b[39;00m signaled:\n\u001b[0;32m--> 659\u001b[0m     signaled \u001b[38;5;241m=\u001b[39m \u001b[38;5;28;43mself\u001b[39;49m\u001b[38;5;241;43m.\u001b[39;49m\u001b[43m_cond\u001b[49m\u001b[38;5;241;43m.\u001b[39;49m\u001b[43mwait\u001b[49m\u001b[43m(\u001b[49m\u001b[43mtimeout\u001b[49m\u001b[43m)\u001b[49m\n\u001b[1;32m    660\u001b[0m \u001b[38;5;28;01mreturn\u001b[39;00m signaled\n",
      "File \u001b[0;32m/opt/homebrew/Cellar/python@3.13/3.13.2/Frameworks/Python.framework/Versions/3.13/lib/python3.13/threading.py:359\u001b[0m, in \u001b[0;36mCondition.wait\u001b[0;34m(self, timeout)\u001b[0m\n\u001b[1;32m    358\u001b[0m \u001b[38;5;28;01mif\u001b[39;00m timeout \u001b[38;5;129;01mis\u001b[39;00m \u001b[38;5;28;01mNone\u001b[39;00m:\n\u001b[0;32m--> 359\u001b[0m     \u001b[43mwaiter\u001b[49m\u001b[38;5;241;43m.\u001b[39;49m\u001b[43macquire\u001b[49m\u001b[43m(\u001b[49m\u001b[43m)\u001b[49m\n\u001b[1;32m    360\u001b[0m     gotit \u001b[38;5;241m=\u001b[39m \u001b[38;5;28;01mTrue\u001b[39;00m\n",
      "\u001b[0;31mKeyboardInterrupt\u001b[0m: ",
      "\nDuring handling of the above exception, another exception occurred:\n",
      "\u001b[0;31mKeyboardInterrupt\u001b[0m                         Traceback (most recent call last)",
      "Cell \u001b[0;32mIn[36], line 2\u001b[0m\n\u001b[1;32m      1\u001b[0m study2 \u001b[38;5;241m=\u001b[39m optuna\u001b[38;5;241m.\u001b[39mcreate_study(direction\u001b[38;5;241m=\u001b[39m\u001b[38;5;124m\"\u001b[39m\u001b[38;5;124mminimize\u001b[39m\u001b[38;5;124m\"\u001b[39m)\n\u001b[0;32m----> 2\u001b[0m \u001b[43mstudy2\u001b[49m\u001b[38;5;241;43m.\u001b[39;49m\u001b[43moptimize\u001b[49m\u001b[43m(\u001b[49m\u001b[43mobjective_with_steps\u001b[49m\u001b[43m,\u001b[49m\u001b[43m \u001b[49m\u001b[43mn_trials\u001b[49m\u001b[38;5;241;43m=\u001b[39;49m\u001b[38;5;241;43m30\u001b[39;49m\u001b[43m,\u001b[49m\u001b[43m \u001b[49m\u001b[43mn_jobs\u001b[49m\u001b[38;5;241;43m=\u001b[39;49m\u001b[38;5;241;43m-\u001b[39;49m\u001b[38;5;241;43m1\u001b[39;49m\u001b[43m)\u001b[49m\n",
      "File \u001b[0;32m/opt/homebrew/Cellar/jupyterlab/4.3.5/libexec/lib/python3.13/site-packages/optuna/study/study.py:475\u001b[0m, in \u001b[0;36mStudy.optimize\u001b[0;34m(self, func, n_trials, timeout, n_jobs, catch, callbacks, gc_after_trial, show_progress_bar)\u001b[0m\n\u001b[1;32m    373\u001b[0m \u001b[38;5;28;01mdef\u001b[39;00m\u001b[38;5;250m \u001b[39m\u001b[38;5;21moptimize\u001b[39m(\n\u001b[1;32m    374\u001b[0m     \u001b[38;5;28mself\u001b[39m,\n\u001b[1;32m    375\u001b[0m     func: ObjectiveFuncType,\n\u001b[0;32m   (...)\u001b[0m\n\u001b[1;32m    382\u001b[0m     show_progress_bar: \u001b[38;5;28mbool\u001b[39m \u001b[38;5;241m=\u001b[39m \u001b[38;5;28;01mFalse\u001b[39;00m,\n\u001b[1;32m    383\u001b[0m ) \u001b[38;5;241m-\u001b[39m\u001b[38;5;241m>\u001b[39m \u001b[38;5;28;01mNone\u001b[39;00m:\n\u001b[1;32m    384\u001b[0m \u001b[38;5;250m    \u001b[39m\u001b[38;5;124;03m\"\"\"Optimize an objective function.\u001b[39;00m\n\u001b[1;32m    385\u001b[0m \n\u001b[1;32m    386\u001b[0m \u001b[38;5;124;03m    Optimization is done by choosing a suitable set of hyperparameter values from a given\u001b[39;00m\n\u001b[0;32m   (...)\u001b[0m\n\u001b[1;32m    473\u001b[0m \u001b[38;5;124;03m            If nested invocation of this method occurs.\u001b[39;00m\n\u001b[1;32m    474\u001b[0m \u001b[38;5;124;03m    \"\"\"\u001b[39;00m\n\u001b[0;32m--> 475\u001b[0m     \u001b[43m_optimize\u001b[49m\u001b[43m(\u001b[49m\n\u001b[1;32m    476\u001b[0m \u001b[43m        \u001b[49m\u001b[43mstudy\u001b[49m\u001b[38;5;241;43m=\u001b[39;49m\u001b[38;5;28;43mself\u001b[39;49m\u001b[43m,\u001b[49m\n\u001b[1;32m    477\u001b[0m \u001b[43m        \u001b[49m\u001b[43mfunc\u001b[49m\u001b[38;5;241;43m=\u001b[39;49m\u001b[43mfunc\u001b[49m\u001b[43m,\u001b[49m\n\u001b[1;32m    478\u001b[0m \u001b[43m        \u001b[49m\u001b[43mn_trials\u001b[49m\u001b[38;5;241;43m=\u001b[39;49m\u001b[43mn_trials\u001b[49m\u001b[43m,\u001b[49m\n\u001b[1;32m    479\u001b[0m \u001b[43m        \u001b[49m\u001b[43mtimeout\u001b[49m\u001b[38;5;241;43m=\u001b[39;49m\u001b[43mtimeout\u001b[49m\u001b[43m,\u001b[49m\n\u001b[1;32m    480\u001b[0m \u001b[43m        \u001b[49m\u001b[43mn_jobs\u001b[49m\u001b[38;5;241;43m=\u001b[39;49m\u001b[43mn_jobs\u001b[49m\u001b[43m,\u001b[49m\n\u001b[1;32m    481\u001b[0m \u001b[43m        \u001b[49m\u001b[43mcatch\u001b[49m\u001b[38;5;241;43m=\u001b[39;49m\u001b[38;5;28;43mtuple\u001b[39;49m\u001b[43m(\u001b[49m\u001b[43mcatch\u001b[49m\u001b[43m)\u001b[49m\u001b[43m \u001b[49m\u001b[38;5;28;43;01mif\u001b[39;49;00m\u001b[43m \u001b[49m\u001b[38;5;28;43misinstance\u001b[39;49m\u001b[43m(\u001b[49m\u001b[43mcatch\u001b[49m\u001b[43m,\u001b[49m\u001b[43m \u001b[49m\u001b[43mIterable\u001b[49m\u001b[43m)\u001b[49m\u001b[43m \u001b[49m\u001b[38;5;28;43;01melse\u001b[39;49;00m\u001b[43m \u001b[49m\u001b[43m(\u001b[49m\u001b[43mcatch\u001b[49m\u001b[43m,\u001b[49m\u001b[43m)\u001b[49m\u001b[43m,\u001b[49m\n\u001b[1;32m    482\u001b[0m \u001b[43m        \u001b[49m\u001b[43mcallbacks\u001b[49m\u001b[38;5;241;43m=\u001b[39;49m\u001b[43mcallbacks\u001b[49m\u001b[43m,\u001b[49m\n\u001b[1;32m    483\u001b[0m \u001b[43m        \u001b[49m\u001b[43mgc_after_trial\u001b[49m\u001b[38;5;241;43m=\u001b[39;49m\u001b[43mgc_after_trial\u001b[49m\u001b[43m,\u001b[49m\n\u001b[1;32m    484\u001b[0m \u001b[43m        \u001b[49m\u001b[43mshow_progress_bar\u001b[49m\u001b[38;5;241;43m=\u001b[39;49m\u001b[43mshow_progress_bar\u001b[49m\u001b[43m,\u001b[49m\n\u001b[1;32m    485\u001b[0m \u001b[43m    \u001b[49m\u001b[43m)\u001b[49m\n",
      "File \u001b[0;32m/opt/homebrew/Cellar/jupyterlab/4.3.5/libexec/lib/python3.13/site-packages/optuna/study/_optimize.py:82\u001b[0m, in \u001b[0;36m_optimize\u001b[0;34m(study, func, n_trials, timeout, n_jobs, catch, callbacks, gc_after_trial, show_progress_bar)\u001b[0m\n\u001b[1;32m     79\u001b[0m time_start \u001b[38;5;241m=\u001b[39m datetime\u001b[38;5;241m.\u001b[39mdatetime\u001b[38;5;241m.\u001b[39mnow()\n\u001b[1;32m     80\u001b[0m futures: \u001b[38;5;28mset\u001b[39m[Future] \u001b[38;5;241m=\u001b[39m \u001b[38;5;28mset\u001b[39m()\n\u001b[0;32m---> 82\u001b[0m \u001b[38;5;28;01mwith\u001b[39;00m ThreadPoolExecutor(max_workers\u001b[38;5;241m=\u001b[39mn_jobs) \u001b[38;5;28;01mas\u001b[39;00m executor:\n\u001b[1;32m     83\u001b[0m     \u001b[38;5;28;01mfor\u001b[39;00m n_submitted_trials \u001b[38;5;129;01min\u001b[39;00m itertools\u001b[38;5;241m.\u001b[39mcount():\n\u001b[1;32m     84\u001b[0m         \u001b[38;5;28;01mif\u001b[39;00m study\u001b[38;5;241m.\u001b[39m_stop_flag:\n",
      "File \u001b[0;32m/opt/homebrew/Cellar/python@3.13/3.13.2/Frameworks/Python.framework/Versions/3.13/lib/python3.13/concurrent/futures/_base.py:647\u001b[0m, in \u001b[0;36mExecutor.__exit__\u001b[0;34m(self, exc_type, exc_val, exc_tb)\u001b[0m\n\u001b[1;32m    646\u001b[0m \u001b[38;5;28;01mdef\u001b[39;00m\u001b[38;5;250m \u001b[39m\u001b[38;5;21m__exit__\u001b[39m(\u001b[38;5;28mself\u001b[39m, exc_type, exc_val, exc_tb):\n\u001b[0;32m--> 647\u001b[0m     \u001b[38;5;28;43mself\u001b[39;49m\u001b[38;5;241;43m.\u001b[39;49m\u001b[43mshutdown\u001b[49m\u001b[43m(\u001b[49m\u001b[43mwait\u001b[49m\u001b[38;5;241;43m=\u001b[39;49m\u001b[38;5;28;43;01mTrue\u001b[39;49;00m\u001b[43m)\u001b[49m\n\u001b[1;32m    648\u001b[0m     \u001b[38;5;28;01mreturn\u001b[39;00m \u001b[38;5;28;01mFalse\u001b[39;00m\n",
      "File \u001b[0;32m/opt/homebrew/Cellar/python@3.13/3.13.2/Frameworks/Python.framework/Versions/3.13/lib/python3.13/concurrent/futures/thread.py:239\u001b[0m, in \u001b[0;36mThreadPoolExecutor.shutdown\u001b[0;34m(self, wait, cancel_futures)\u001b[0m\n\u001b[1;32m    237\u001b[0m \u001b[38;5;28;01mif\u001b[39;00m wait:\n\u001b[1;32m    238\u001b[0m     \u001b[38;5;28;01mfor\u001b[39;00m t \u001b[38;5;129;01min\u001b[39;00m \u001b[38;5;28mself\u001b[39m\u001b[38;5;241m.\u001b[39m_threads:\n\u001b[0;32m--> 239\u001b[0m         \u001b[43mt\u001b[49m\u001b[38;5;241;43m.\u001b[39;49m\u001b[43mjoin\u001b[49m\u001b[43m(\u001b[49m\u001b[43m)\u001b[49m\n",
      "File \u001b[0;32m/opt/homebrew/Cellar/python@3.13/3.13.2/Frameworks/Python.framework/Versions/3.13/lib/python3.13/threading.py:1092\u001b[0m, in \u001b[0;36mThread.join\u001b[0;34m(self, timeout)\u001b[0m\n\u001b[1;32m   1089\u001b[0m \u001b[38;5;28;01mif\u001b[39;00m timeout \u001b[38;5;129;01mis\u001b[39;00m \u001b[38;5;129;01mnot\u001b[39;00m \u001b[38;5;28;01mNone\u001b[39;00m:\n\u001b[1;32m   1090\u001b[0m     timeout \u001b[38;5;241m=\u001b[39m \u001b[38;5;28mmax\u001b[39m(timeout, \u001b[38;5;241m0\u001b[39m)\n\u001b[0;32m-> 1092\u001b[0m \u001b[38;5;28;43mself\u001b[39;49m\u001b[38;5;241;43m.\u001b[39;49m\u001b[43m_handle\u001b[49m\u001b[38;5;241;43m.\u001b[39;49m\u001b[43mjoin\u001b[49m\u001b[43m(\u001b[49m\u001b[43mtimeout\u001b[49m\u001b[43m)\u001b[49m\n",
      "\u001b[0;31mKeyboardInterrupt\u001b[0m: "
     ]
    }
   ],
   "source": [
    "study2 = optuna.create_study(direction=\"minimize\")\n",
    "study2.optimize(objective_with_steps, n_trials=30, n_jobs=-1)"
   ]
  },
  {
   "cell_type": "code",
   "execution_count": null,
   "id": "cbef3e35-3532-4409-a221-4be8bca1f0d7",
   "metadata": {},
   "outputs": [],
   "source": []
  }
 ],
 "metadata": {
  "kernelspec": {
   "display_name": "Python 3 (ipykernel)",
   "language": "python",
   "name": "python3"
  },
  "language_info": {
   "codemirror_mode": {
    "name": "ipython",
    "version": 3
   },
   "file_extension": ".py",
   "mimetype": "text/x-python",
   "name": "python",
   "nbconvert_exporter": "python",
   "pygments_lexer": "ipython3",
   "version": "3.13.2"
  }
 },
 "nbformat": 4,
 "nbformat_minor": 5
}
