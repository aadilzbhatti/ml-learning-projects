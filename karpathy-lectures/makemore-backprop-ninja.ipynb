{
 "cells": [
  {
   "cell_type": "code",
   "execution_count": 1,
   "id": "57746f2a-114f-4f30-998a-e71b959a2248",
   "metadata": {},
   "outputs": [],
   "source": [
    "# no change in first several cells from the previous lecture"
   ]
  },
  {
   "cell_type": "code",
   "execution_count": 2,
   "id": "352ef3fc-0e04-4d91-9f67-f8fe54d4f9bd",
   "metadata": {},
   "outputs": [],
   "source": [
    "import torch\n",
    "import torch.nn.functional as F\n",
    "import matplotlib.pyplot as plt\n",
    "%matplotlib inline"
   ]
  },
  {
   "cell_type": "code",
   "execution_count": 3,
   "id": "a380c5bb-c6df-4c0b-88e9-a9ccf815f625",
   "metadata": {},
   "outputs": [
    {
     "name": "stdout",
     "output_type": "stream",
     "text": [
      "32033\n",
      "15\n",
      "['emma', 'olivia', 'ava', 'isabella', 'sophia', 'charlotte', 'mia', 'amelia']\n"
     ]
    }
   ],
   "source": [
    "# read in all the words\n",
    "words = open('makemore/names.txt', 'r').read().splitlines()\n",
    "print(len(words))\n",
    "print(max(len(w) for w in words))\n",
    "print(words[:8])"
   ]
  },
  {
   "cell_type": "code",
   "execution_count": 4,
   "id": "41596962-8509-480f-a7bd-356e2ed1b9ab",
   "metadata": {},
   "outputs": [
    {
     "name": "stdout",
     "output_type": "stream",
     "text": [
      "{1: 'a', 2: 'b', 3: 'c', 4: 'd', 5: 'e', 6: 'f', 7: 'g', 8: 'h', 9: 'i', 10: 'j', 11: 'k', 12: 'l', 13: 'm', 14: 'n', 15: 'o', 16: 'p', 17: 'q', 18: 'r', 19: 's', 20: 't', 21: 'u', 22: 'v', 23: 'w', 24: 'x', 25: 'y', 26: 'z', 0: '.'}\n",
      "27\n"
     ]
    }
   ],
   "source": [
    "# build the vocabulary of characters and mappings to/from integers\n",
    "chars = sorted(list(set(''.join(words))))\n",
    "stoi = {s:i+1 for i, s in enumerate(chars)}\n",
    "stoi['.'] = 0\n",
    "itos = {i:s for s, i in stoi.items()}\n",
    "vocab_size = len(itos)\n",
    "print(itos)\n",
    "print(vocab_size)"
   ]
  },
  {
   "cell_type": "code",
   "execution_count": 5,
   "id": "a44f2c97-aa6c-4ddb-8592-6d91c8aad284",
   "metadata": {},
   "outputs": [
    {
     "name": "stdout",
     "output_type": "stream",
     "text": [
      "torch.Size([182625, 3]) torch.Size([182625])\n",
      "torch.Size([22655, 3]) torch.Size([22655])\n",
      "torch.Size([22866, 3]) torch.Size([22866])\n"
     ]
    }
   ],
   "source": [
    "# build the dataset\n",
    "\n",
    "block_size = 3 # context length: how many characters do we take to predict the next one?\n",
    "\n",
    "def build_dataset(words):\n",
    "    X, Y = [], []\n",
    "    for w in words:\n",
    "        # print(w)\n",
    "        context = [0] * block_size\n",
    "        for ch in w + '.':\n",
    "            ix = stoi[ch]\n",
    "            X.append(context)\n",
    "            Y.append(ix)\n",
    "            context = context[1:] + [ix] # crop and append\n",
    "    \n",
    "    X = torch.tensor(X)\n",
    "    Y = torch.tensor(Y)\n",
    "    print(X.shape, Y.shape)\n",
    "    return X, Y\n",
    "\n",
    "import random\n",
    "random.seed(42)\n",
    "random.shuffle(words)\n",
    "n1 = int(0.8*len(words))\n",
    "n2 = int(0.9*len(words))\n",
    "\n",
    "Xtr, Ytr = build_dataset(words[:n1])\n",
    "Xdev, Ydev = build_dataset(words[n1:n2])\n",
    "Xte, Yte = build_dataset(words[n2:])"
   ]
  },
  {
   "cell_type": "code",
   "execution_count": 6,
   "id": "4db89b9e-2c3a-4174-bcb4-d36c71e8bd8f",
   "metadata": {},
   "outputs": [],
   "source": [
    "# utility function we will use later when comparing manual gradients to PyTorch gradients\n",
    "def cmp(s, dt, t):\n",
    "    ex = torch.all(dt == t.grad).item()\n",
    "    app = torch.allclose(dt, t.grad)\n",
    "    maxdiff = (dt - t.grad).abs().max().item()\n",
    "    print(f'{s:15s} | exact: {str(ex):5s} | approximate: {str(app):5s} | maxdiff: {maxdiff}')"
   ]
  },
  {
   "cell_type": "code",
   "execution_count": 8,
   "id": "ea30af35-91ac-45d1-9723-5544fafd9a04",
   "metadata": {},
   "outputs": [
    {
     "name": "stdout",
     "output_type": "stream",
     "text": [
      "4137\n"
     ]
    }
   ],
   "source": [
    "n_embd = 10 # the dimensionality of the character embedding vectors\n",
    "n_hidden = 64 # the number of neurons in the hidden layer of the MLP\n",
    "\n",
    "g = torch.Generator().manual_seed(2147483647) # for reproducibility\n",
    "C = torch.randn((vocab_size, n_embd), generator=g)\n",
    "# Layer 1\n",
    "W1 = torch.randn((n_embd * block_size, n_hidden), generator=g) * (5/3)/((n_embd * block_size)**0.5)\n",
    "b1 = torch.randn(n_hidden, generator=g) * 0.1 # using b1 just for fun, it's useless because of batch norm bias\n",
    "# Layer 2\n",
    "W2 = torch.randn((n_hidden, vocab_size), generator=g) * 0.1\n",
    "b2 = torch.randn(vocab_size, generator=g) * 0.1\n",
    "# BatchNorm parameters\n",
    "bngain = torch.randn((1, n_hidden)) * 0.1 + 1.0\n",
    "bnbias = torch.randn((1, n_hidden)) * 0.1\n",
    "\n",
    "# Note: I am initializing many of these parameters in non-standard ways\n",
    "# because sometimes initializing with e.g. all zeros could mask an incorrect\n",
    "# implementation of the backward pass\n",
    "\n",
    "parameters = [C, W1, b1, W2, b2, bngain, bnbias]\n",
    "print(sum(p.nelement() for p in parameters)) # number of parameters in total\n",
    "for p in parameters:\n",
    "    p.requires_grad = True"
   ]
  },
  {
   "cell_type": "code",
   "execution_count": 9,
   "id": "f743f2a1-1155-4170-ba81-86eaa3170ddb",
   "metadata": {},
   "outputs": [],
   "source": [
    "batch_size = 32\n",
    "n = batch_size # a shorter variable also, for convenience\n",
    "# construct a minibatch\n",
    "ix = torch.randint(0, Xtr.shape[0], (batch_size,), generator=g)\n",
    "Xb, Yb = Xtr[ix], Ytr[ix] # batch X, Y"
   ]
  },
  {
   "cell_type": "code",
   "execution_count": 156,
   "id": "ae321795-2afc-428c-afe3-3f11244a8638",
   "metadata": {},
   "outputs": [
    {
     "data": {
      "text/plain": [
       "tensor(3.3491, grad_fn=<NegBackward0>)"
      ]
     },
     "execution_count": 156,
     "metadata": {},
     "output_type": "execute_result"
    }
   ],
   "source": [
    "# forward pass, \"chunkated\" into smaller steps that are possible to backward one at a time\n",
    "\n",
    "emb = C[Xb] # embed the characters into vectors\n",
    "embcat = emb.view(emb.shape[0], -1) # concatenate the vectors\n",
    "# Linear layer 1\n",
    "hprebn = embcat @ W1 + b1 # hidden layer pre-activation\n",
    "# BatchNorm layer\n",
    "bnmeani = 1 / n * hprebn.sum(0, keepdim=True)\n",
    "bndiff = hprebn - bnmeani\n",
    "bndiff2 = bndiff**2\n",
    "bnvar = 1/(n-1) * (bndiff2).sum(0, keepdim=True) # note: Bessel's correction (dividing by n-1, not n)\n",
    "bnvar_inv = (bnvar + 1e-5)**-0.5\n",
    "bnraw = bndiff * bnvar_inv\n",
    "hpreact = bngain * bnraw + bnbias\n",
    "# Non-linearity\n",
    "h = torch.tanh(hpreact) # hidden layer\n",
    "# Linear layer 2\n",
    "logits = h @ W2 + b2 # output layer\n",
    "# cross entropy loss (same as F.cross_entropy(logits, Yb))\n",
    "logit_maxes = logits.max(1, keepdim=True).values\n",
    "norm_logits = logits - logit_maxes # subtract max for numerical stability\n",
    "counts = norm_logits.exp()\n",
    "counts_sum = counts.sum(1, keepdims=True)\n",
    "counts_sum_inv = counts_sum**-1 # if I use (1.0 / counts_sum) instead then I can't get backprop to be a bit exact...\n",
    "probs = counts * counts_sum_inv\n",
    "logprobs = probs.log()\n",
    "loss = -logprobs[range(n), Yb].mean()\n",
    "\n",
    "# PyTorch backward pass\n",
    "for p in parameters:\n",
    "    p.grad = None\n",
    "for t in [logprobs, probs, counts, counts_sum, counts_sum_inv, \n",
    "          norm_logits, logit_maxes, logits, h, hpreact, bnraw,\n",
    "          bnvar_inv, bnvar, bndiff, bndiff2, hprebn, bnmeani,\n",
    "          embcat, emb]:\n",
    "    t.retain_grad()\n",
    "loss.backward()\n",
    "loss"
   ]
  },
  {
   "cell_type": "code",
   "execution_count": 13,
   "id": "860ee07a-cfca-40dc-85e7-22197a27d90f",
   "metadata": {
    "collapsed": true,
    "jupyter": {
     "outputs_hidden": true,
     "source_hidden": true
    }
   },
   "outputs": [
    {
     "data": {
      "text/plain": [
       "tensor([[-2.5453, -2.3887, -4.0004, -3.0342, -3.9698, -2.5351, -3.7752, -3.2896,\n",
       "         -3.9947, -3.5177, -3.2802, -3.2441, -3.3296, -3.5535, -3.2969, -4.3075,\n",
       "         -4.5727, -3.9810, -4.2267, -2.9566, -3.1243, -3.7375, -3.5576, -2.6945,\n",
       "         -2.8365, -3.6556, -3.8391],\n",
       "        [-2.9464, -2.8454, -2.3858, -2.9313, -3.3509, -3.4276, -4.0100, -3.0833,\n",
       "         -3.9303, -3.7939, -3.0016, -3.1390, -3.0809, -3.5213, -3.0001, -3.3072,\n",
       "         -3.5359, -4.0858, -3.9174, -3.2185, -3.9796, -3.7524, -4.1313, -2.7333,\n",
       "         -3.7562, -3.3160, -3.6210],\n",
       "        [-3.8381, -3.7525, -4.2759, -4.3642, -3.9075, -3.2033, -2.8808, -2.6832,\n",
       "         -2.7831, -3.5710, -3.9224, -3.3924, -3.1071, -2.9944, -3.7976, -3.6384,\n",
       "         -4.1997, -3.4217, -3.6338, -2.1961, -2.7819, -3.2312, -3.0991, -3.2780,\n",
       "         -3.2534, -3.9371, -3.5529],\n",
       "        [-3.3685, -3.7027, -3.1507, -2.9466, -2.9068, -3.6339, -3.0142, -3.0966,\n",
       "         -3.0812, -4.0738, -3.3096, -3.5594, -3.4525, -3.1563, -2.7786, -2.7008,\n",
       "         -3.5178, -3.7490, -4.1601, -3.0252, -4.1206, -3.6701, -3.1822, -3.9198,\n",
       "         -3.5663, -3.0758, -3.1243],\n",
       "        [-4.0384, -4.1358, -3.7506, -3.7573, -4.1637, -3.2476, -3.3440, -3.9207,\n",
       "         -2.8525, -3.3430, -3.4520, -4.1484, -3.2728, -3.7311, -3.0540, -1.7554,\n",
       "         -3.9209, -3.0134, -3.1018, -2.7632, -3.2333, -4.0133, -3.7396, -4.2545,\n",
       "         -3.0804, -3.7869, -3.0676],\n",
       "        [-3.2618, -3.3613, -2.9028, -2.6887, -2.7701, -3.7002, -3.4459, -2.8592,\n",
       "         -3.7087, -4.2639, -3.1745, -3.9087, -3.6137, -3.0721, -2.7190, -2.9963,\n",
       "         -3.9130, -3.9793, -4.6597, -3.5717, -3.5335, -3.5143, -3.0723, -4.0508,\n",
       "         -3.9930, -2.5695, -3.1242],\n",
       "        [-2.9342, -4.5141, -2.7765, -4.0704, -3.5964, -3.8652, -2.7169, -2.8262,\n",
       "         -3.0336, -3.3094, -4.0917, -3.4292, -3.6142, -3.9943, -4.1891, -2.6590,\n",
       "         -2.4048, -3.2297, -4.6087, -3.3069, -3.6265, -2.9728, -3.0679, -3.8975,\n",
       "         -3.1619, -3.7523, -3.4524],\n",
       "        [-3.1099, -3.4301, -3.6927, -2.1753, -3.6393, -3.0437, -3.4870, -2.4558,\n",
       "         -3.2672, -4.7394, -3.6019, -4.1932, -3.9282, -2.8265, -3.9432, -4.1900,\n",
       "         -4.1450, -4.3029, -4.2695, -2.5038, -3.3542, -2.9627, -3.6216, -3.3651,\n",
       "         -3.7240, -2.8737, -3.2731],\n",
       "        [-3.0089, -3.5005, -4.0908, -3.3427, -4.5629, -3.2381, -2.9168, -2.3808,\n",
       "         -3.5438, -3.9775, -3.5702, -3.4501, -3.3126, -3.7738, -4.4287, -3.9824,\n",
       "         -3.8222, -3.3220, -3.8153, -2.4516, -3.3797, -2.3626, -3.1283, -3.1225,\n",
       "         -3.1233, -4.1981, -3.3992],\n",
       "        [-3.5477, -4.2850, -3.5391, -3.9745, -3.6101, -3.2426, -3.3626, -3.3917,\n",
       "         -2.4077, -2.9831, -4.3636, -3.2906, -3.2111, -3.1667, -3.8261, -3.5579,\n",
       "         -2.6417, -3.1957, -3.2394, -3.5903, -2.7104, -3.5804, -2.6326, -3.9967,\n",
       "         -3.4093, -3.3067, -3.9883],\n",
       "        [-4.1029, -4.8779, -3.2770, -3.1530, -3.5358, -3.3294, -4.0159, -5.0251,\n",
       "         -3.2437, -3.1464, -3.7753, -3.9656, -2.8329, -3.5160, -3.2172, -1.9362,\n",
       "         -2.7924, -2.9075, -2.5988, -3.3212, -3.1351, -4.4552, -4.2904, -3.8150,\n",
       "         -3.2611, -3.5655, -3.6802],\n",
       "        [-3.7542, -3.5125, -3.8528, -1.6623, -4.4556, -2.8843, -2.6731, -3.0113,\n",
       "         -3.1574, -3.5647, -4.3055, -3.9298, -3.8661, -3.5635, -4.9942, -5.0440,\n",
       "         -3.7375, -3.3557, -4.2026, -2.9040, -3.0441, -3.1681, -3.8763, -3.3174,\n",
       "         -3.0522, -3.0948, -4.1432],\n",
       "        [-3.9218, -4.2935, -2.9701, -4.2291, -3.7242, -4.1450, -2.5206, -3.1914,\n",
       "         -2.8689, -3.1080, -4.0468, -3.2451, -3.2463, -3.5480, -4.2458, -3.1329,\n",
       "         -2.5405, -3.1853, -3.3079, -3.7442, -3.0425, -3.2206, -2.3106, -4.5194,\n",
       "         -3.7965, -3.6382, -3.5501],\n",
       "        [-3.6694, -3.5199, -2.8910, -3.9670, -4.1557, -2.6486, -3.6370, -4.1627,\n",
       "         -3.4955, -3.1412, -3.5729, -3.3406, -2.6944, -3.2794, -2.8949, -3.1109,\n",
       "         -3.4156, -3.4618, -2.5930, -4.2471, -2.8134, -4.0971, -3.9688, -3.2910,\n",
       "         -3.3475, -3.2408, -3.2285],\n",
       "        [-2.9866, -3.5989, -3.5921, -2.9999, -4.0760, -3.4376, -3.4778, -2.7543,\n",
       "         -2.9314, -3.0742, -3.4809, -3.0930, -3.0631, -3.2002, -3.5365, -3.7305,\n",
       "         -3.7265, -2.9618, -3.6295, -2.9830, -3.0025, -2.9945, -3.5612, -3.3132,\n",
       "         -3.7805, -3.8723, -3.7382],\n",
       "        [-3.1330, -2.8874, -3.3571, -4.0187, -3.9936, -2.4884, -3.4416, -3.7376,\n",
       "         -3.6531, -3.0366, -3.4153, -3.0555, -2.7669, -4.1068, -3.5760, -4.0299,\n",
       "         -3.0334, -3.9197, -2.8861, -3.9209, -3.2839, -3.6056, -3.4119, -2.7317,\n",
       "         -2.9047, -3.5836, -3.7842],\n",
       "        [-3.5144, -3.6971, -2.5117, -3.1297, -2.7990, -3.0261, -4.0885, -3.5647,\n",
       "         -3.9413, -4.0434, -2.9832, -3.8170, -3.2801, -2.9362, -2.5905, -2.7530,\n",
       "         -4.0779, -4.0955, -3.7499, -3.0848, -3.6739, -4.0703, -4.6248, -3.0812,\n",
       "         -3.7041, -3.1192, -2.8593],\n",
       "        [-2.9379, -2.5193, -3.0344, -3.0195, -3.2639, -3.4642, -3.7940, -2.5701,\n",
       "         -3.6742, -4.1338, -2.6682, -4.1801, -3.7971, -3.9592, -3.1347, -3.5519,\n",
       "         -4.1134, -3.5028, -4.1785, -2.9126, -3.9195, -3.0162, -3.5530, -4.0029,\n",
       "         -3.7149, -3.1663, -2.7668],\n",
       "        [-3.9218, -4.2935, -2.9701, -4.2291, -3.7242, -4.1450, -2.5206, -3.1914,\n",
       "         -2.8689, -3.1080, -4.0468, -3.2451, -3.2463, -3.5480, -4.2458, -3.1329,\n",
       "         -2.5405, -3.1853, -3.3079, -3.7442, -3.0425, -3.2206, -2.3106, -4.5194,\n",
       "         -3.7965, -3.6382, -3.5501],\n",
       "        [-3.6477, -3.8126, -3.3366, -4.1355, -3.4030, -3.4847, -2.6850, -2.9113,\n",
       "         -3.3770, -3.4175, -3.4973, -3.1224, -2.8259, -2.9139, -4.2659, -3.7117,\n",
       "         -3.4445, -3.9507, -3.5878, -2.4439, -3.0437, -3.3578, -3.1004, -3.0619,\n",
       "         -3.4967, -3.8174, -3.5667],\n",
       "        [-2.8440, -4.3105, -4.0636, -3.2705, -3.5713, -3.3869, -3.5617, -3.1500,\n",
       "         -2.8796, -3.8419, -2.7890, -3.3077, -2.8953, -3.8089, -3.0442, -2.6201,\n",
       "         -3.9396, -3.8160, -3.3784, -2.9149, -4.0344, -3.4029, -3.5850, -3.7779,\n",
       "         -3.3065, -2.8673, -3.1797],\n",
       "        [-3.0299, -2.6157, -2.9499, -3.0513, -3.7579, -2.8717, -3.4678, -3.0377,\n",
       "         -3.7397, -4.2118, -3.0259, -3.7055, -3.7449, -3.4866, -3.1503, -3.1214,\n",
       "         -3.7921, -3.3354, -3.9405, -2.3945, -4.3416, -3.3113, -4.1407, -3.5133,\n",
       "         -3.3523, -3.4943, -3.2797],\n",
       "        [-3.9218, -4.2935, -2.9701, -4.2291, -3.7242, -4.1450, -2.5206, -3.1914,\n",
       "         -2.8689, -3.1080, -4.0468, -3.2451, -3.2463, -3.5480, -4.2458, -3.1329,\n",
       "         -2.5405, -3.1853, -3.3079, -3.7442, -3.0425, -3.2206, -2.3106, -4.5194,\n",
       "         -3.7965, -3.6382, -3.5501],\n",
       "        [-3.0414, -4.0829, -3.6225, -4.3012, -2.9715, -3.5571, -2.7512, -3.4124,\n",
       "         -3.7645, -3.3181, -3.4909, -3.3023, -3.3240, -3.4127, -3.3094, -3.0196,\n",
       "         -2.4693, -3.8743, -3.4205, -4.0670, -4.0173, -3.7095, -2.1400, -4.0394,\n",
       "         -2.8701, -3.4871, -4.0596],\n",
       "        [-3.3243, -2.4791, -3.8445, -3.1040, -3.6573, -2.7973, -3.7230, -3.4574,\n",
       "         -3.6676, -3.6171, -2.2943, -4.0290, -3.5502, -4.4689, -3.2822, -4.0458,\n",
       "         -3.9782, -4.1877, -4.4449, -3.5490, -4.3904, -3.6857, -4.4377, -1.8881,\n",
       "         -2.9607, -3.6682, -2.9399],\n",
       "        [-2.7327, -3.5873, -4.2252, -3.9782, -3.5352, -2.5337, -3.2036, -3.4034,\n",
       "         -3.5584, -3.4385, -3.5087, -2.8992, -2.8864, -3.3372, -3.8869, -4.3188,\n",
       "         -3.3099, -3.8139, -2.9817, -4.2403, -3.7038, -3.7171, -2.5672, -2.9947,\n",
       "         -2.7260, -3.0931, -4.5522],\n",
       "        [-3.1636, -3.7648, -3.8417, -4.5566, -3.2049, -3.7554, -2.4441, -3.1619,\n",
       "         -3.5800, -3.1422, -4.0685, -3.0726, -2.8067, -3.4865, -3.7150, -3.9737,\n",
       "         -2.7351, -3.7384, -3.6036, -3.3306, -3.8317, -3.2268, -2.0119, -4.0135,\n",
       "         -3.2418, -3.6088, -4.6211],\n",
       "        [-3.5096, -3.5380, -2.9782, -3.9086, -3.4905, -3.7527, -3.3002, -3.4902,\n",
       "         -3.2559, -3.0428, -3.9411, -3.4799, -3.2331, -3.3734, -3.1237, -2.7811,\n",
       "         -2.8914, -3.1288, -3.0744, -4.0605, -2.3780, -4.1341, -3.0097, -4.4369,\n",
       "         -4.0565, -3.4128, -3.0013],\n",
       "        [-2.7122, -3.2716, -4.0874, -3.9056, -3.4756, -2.7540, -3.1099, -3.2542,\n",
       "         -4.5852, -3.7787, -3.2635, -3.5803, -3.6862, -3.8588, -3.6116, -3.3935,\n",
       "         -2.4416, -3.6691, -2.8768, -3.6567, -3.4277, -3.3595, -3.0855, -2.8850,\n",
       "         -2.5353, -4.4123, -3.9024],\n",
       "        [-3.7434, -4.1142, -3.4077, -3.3942, -3.1519, -3.8304, -2.7023, -3.2997,\n",
       "         -2.6896, -3.5519, -3.5505, -3.2780, -3.4714, -3.2424, -3.4406, -2.7036,\n",
       "         -3.3419, -3.7319, -3.4094, -3.5642, -3.2042, -3.4949, -2.7598, -4.3386,\n",
       "         -3.4170, -2.9471, -3.2330],\n",
       "        [-3.2008, -3.0212, -3.6468, -2.7132, -3.2493, -2.9634, -3.2947, -3.3577,\n",
       "         -3.6520, -4.0112, -3.3894, -3.7822, -4.1007, -3.5872, -4.4677, -3.3902,\n",
       "         -3.2592, -3.5626, -3.2448, -2.9230, -2.9578, -3.5295, -3.8560, -2.6348,\n",
       "         -2.4885, -3.8429, -3.5868],\n",
       "        [-3.0585, -3.7867, -2.6338, -3.9169, -2.6507, -3.6085, -4.0678, -3.6567,\n",
       "         -4.2237, -3.0146, -3.6670, -3.4463, -3.3418, -2.5437, -3.2397, -3.1893,\n",
       "         -2.8358, -3.2325, -3.2198, -4.3063, -2.8989, -4.5141, -2.7580, -3.7927,\n",
       "         -3.8855, -3.2591, -3.9096]], grad_fn=<LogBackward0>)"
      ]
     },
     "execution_count": 13,
     "metadata": {},
     "output_type": "execute_result"
    }
   ],
   "source": [
    "logprobs"
   ]
  },
  {
   "cell_type": "code",
   "execution_count": 14,
   "id": "6bb0e50b-faab-46f9-9606-eaeb46075eb5",
   "metadata": {
    "jupyter": {
     "source_hidden": true
    }
   },
   "outputs": [
    {
     "data": {
      "text/plain": [
       "torch.Size([32, 27])"
      ]
     },
     "execution_count": 14,
     "metadata": {},
     "output_type": "execute_result"
    }
   ],
   "source": [
    "logprobs.shape"
   ]
  },
  {
   "cell_type": "code",
   "execution_count": 16,
   "id": "56637d2b-e80e-4748-8e9c-12b2b63dd55c",
   "metadata": {
    "collapsed": true,
    "jupyter": {
     "outputs_hidden": true,
     "source_hidden": true
    }
   },
   "outputs": [
    {
     "data": {
      "text/plain": [
       "tensor([ 8, 14, 15, 22,  0, 19,  9, 14,  5,  1, 20,  3,  8, 14, 12,  0, 11,  0,\n",
       "        26,  9, 25,  0,  1,  1,  7, 18,  9,  3,  5,  9,  0, 18])"
      ]
     },
     "execution_count": 16,
     "metadata": {},
     "output_type": "execute_result"
    }
   ],
   "source": [
    "Yb"
   ]
  },
  {
   "cell_type": "code",
   "execution_count": 17,
   "id": "f3ec93a5-9cef-476d-8389-db108163cef6",
   "metadata": {
    "collapsed": true,
    "jupyter": {
     "outputs_hidden": true,
     "source_hidden": true
    },
    "scrolled": true
   },
   "outputs": [
    {
     "data": {
      "text/plain": [
       "tensor([-3.9947, -3.0001, -3.6384, -3.1822, -4.0384, -3.5717, -3.3094, -3.9432,\n",
       "        -3.2381, -4.2850, -3.1351, -1.6623, -2.8689, -2.8949, -3.0631, -3.1330,\n",
       "        -3.8170, -2.9379, -3.5501, -3.4175, -2.8673, -3.0299, -4.2935, -4.0829,\n",
       "        -3.4574, -2.9817, -3.1422, -3.9086, -2.7540, -3.5519, -3.2008, -3.2198],\n",
       "       grad_fn=<IndexBackward0>)"
      ]
     },
     "execution_count": 17,
     "metadata": {},
     "output_type": "execute_result"
    }
   ],
   "source": [
    "logprobs[range(n), Yb] # for each row i in logprobs, get the corresponding element i in Yb"
   ]
  },
  {
   "cell_type": "code",
   "execution_count": 18,
   "id": "725be015-9a81-48d3-83ff-9dfcc436bf0f",
   "metadata": {},
   "outputs": [],
   "source": [
    "# if loss = -(a + b + c) / 3\n",
    "# loss = -1/3a + -1/3b + -1/3c\n",
    "# dloss/da = -1/3, and dloss = [-1/3 -1/3 -1/3]"
   ]
  },
  {
   "cell_type": "code",
   "execution_count": 27,
   "id": "3cada07c-9a86-400e-8ef1-75e8df91b9d8",
   "metadata": {},
   "outputs": [
    {
     "data": {
      "text/plain": [
       "(torch.Size([32, 27]), torch.Size([32, 1]))"
      ]
     },
     "execution_count": 27,
     "metadata": {},
     "output_type": "execute_result"
    }
   ],
   "source": [
    "counts.shape, counts_sum_inv.shape"
   ]
  },
  {
   "cell_type": "code",
   "execution_count": null,
   "id": "5b462c6e-f1a5-4a94-9ce2-04c8e31b3826",
   "metadata": {},
   "outputs": [],
   "source": [
    "# because the shapes are not the same, pytorch broadcasts counts_sum_inv when it's multiplied by counts\n",
    "# then it looks sort of like this:\n",
    "# c = a * b, but with tensors:\n",
    "# a[3x3] * b[3x1] --->\n",
    "# a11*b1 a12*b1 a13*b1\n",
    "# a21*b2 a22*b2 a23*b2\n",
    "# a31*b3 a32*b3 a33*b3\n",
    "# then we need to take local derivative i.e. dc/db = a, but then since b is replicated across the columns,\n",
    "# we need to sum across dim 1 to retain the same shape in the gradient as in the original tensor"
   ]
  },
  {
   "cell_type": "code",
   "execution_count": 41,
   "id": "98220410-2e7b-499d-9e77-b34ef920b62d",
   "metadata": {},
   "outputs": [
    {
     "data": {
      "text/plain": [
       "(torch.Size([32, 27]), torch.Size([32, 1]))"
      ]
     },
     "execution_count": 41,
     "metadata": {},
     "output_type": "execute_result"
    }
   ],
   "source": [
    "counts.shape, counts_sum.shape"
   ]
  },
  {
   "cell_type": "code",
   "execution_count": null,
   "id": "a87fbed0-71dd-4481-b547-a2e0f77b8a84",
   "metadata": {},
   "outputs": [],
   "source": [
    "# for dcounts_sum/dcounts, we need to take in counts_sum and return something with the shape of counts\n",
    "\n",
    "# a11 a12 a13 ---> b1 (= a11 + a12 + a13)\n",
    "# a21 a22 a23 ---> b2 (= a21 + a22 + a23)\n",
    "# a31 a32 a33 ---> b3 (= a31 + a32 + a33)\n",
    "\n",
    "# db1 / da11 = 1, but db1 / da21 = 0 since b1 is only dependent on a11, a12, a13 and a21 does not contribute to the input\n",
    "# because derivative of each b_i element is only dependent on the row being summed, the gradient gets \"routed\" to all elements\n",
    "# participating in the addition. in other words, dloss/da11 = dloss/db1 * db1/da11 = b1.grad * loss\n",
    "# then dcounts (the part which affects counts_sum) should just be a tensor of ones with the shape of counts,\n",
    "# multiplied by dcounts_sum to distribute the gradient of dcounts_sum to each element of dcounts."
   ]
  },
  {
   "cell_type": "code",
   "execution_count": 188,
   "id": "1ceaf81e-f366-48ce-9516-518e76ee4d68",
   "metadata": {},
   "outputs": [
    {
     "name": "stdout",
     "output_type": "stream",
     "text": [
      "logprobs        | exact: True  | approximate: True  | maxdiff: 0.0\n",
      "probs           | exact: True  | approximate: True  | maxdiff: 0.0\n",
      "counts_sum_inv  | exact: True  | approximate: True  | maxdiff: 0.0\n",
      "counts_sum      | exact: True  | approximate: True  | maxdiff: 0.0\n",
      "counts          | exact: True  | approximate: True  | maxdiff: 0.0\n",
      "norm_logits     | exact: True  | approximate: True  | maxdiff: 0.0\n",
      "logit_maxes     | exact: True  | approximate: True  | maxdiff: 0.0\n",
      "logits          | exact: True  | approximate: True  | maxdiff: 0.0\n",
      "h               | exact: True  | approximate: True  | maxdiff: 0.0\n",
      "W2              | exact: True  | approximate: True  | maxdiff: 0.0\n",
      "b2              | exact: True  | approximate: True  | maxdiff: 0.0\n",
      "hpreact         | exact: True  | approximate: True  | maxdiff: 0.0\n",
      "bnraw           | exact: True  | approximate: True  | maxdiff: 0.0\n",
      "bngain          | exact: True  | approximate: True  | maxdiff: 0.0\n",
      "bnbias          | exact: True  | approximate: True  | maxdiff: 0.0\n",
      "bnvar_inv       | exact: True  | approximate: True  | maxdiff: 0.0\n",
      "bnvar           | exact: True  | approximate: True  | maxdiff: 0.0\n",
      "bndiff2         | exact: True  | approximate: True  | maxdiff: 0.0\n",
      "bndiff          | exact: True  | approximate: True  | maxdiff: 0.0\n",
      "bnmeani         | exact: True  | approximate: True  | maxdiff: 0.0\n",
      "hprebn          | exact: True  | approximate: True  | maxdiff: 0.0\n",
      "embcat          | exact: True  | approximate: True  | maxdiff: 0.0\n",
      "W1              | exact: True  | approximate: True  | maxdiff: 0.0\n",
      "b1              | exact: True  | approximate: True  | maxdiff: 0.0\n",
      "emb             | exact: True  | approximate: True  | maxdiff: 0.0\n",
      "C               | exact: True  | approximate: True  | maxdiff: 0.0\n"
     ]
    }
   ],
   "source": [
    "# Exercise 1: backprop through the whole thing manually,\n",
    "# / through exactly all of the variables\n",
    "# as they are defined in the forward pass above, one by one\n",
    "\n",
    "dlogprobs = torch.zeros_like(logprobs)\n",
    "dlogprobs[range(n), Yb] = -1.0/n\n",
    "cmp('logprobs', dlogprobs, logprobs)\n",
    "\n",
    "dprobs = 1.0 / probs * dlogprobs\n",
    "cmp('probs', dprobs, probs)\n",
    "\n",
    "dcounts_sum_inv = (counts * dprobs).sum(1, keepdim=True)\n",
    "cmp('counts_sum_inv', dcounts_sum_inv, counts_sum_inv)\n",
    "\n",
    "dcounts_sum = -(1.0 / counts_sum**2) * dcounts_sum_inv\n",
    "cmp('counts_sum', dcounts_sum, counts_sum)\n",
    "\n",
    "# # dloss/dcounts = dloss/dprobs * dprobs/dcounts + dloss/dcounts_sum * dcounts_sum/dcounts; dcounts_sum/dcounts = 1\n",
    "dcounts = counts_sum_inv * dprobs + dcounts_sum * torch.ones_like(counts) # can also just do dcounts, no need to add the multiply\n",
    "cmp('counts', dcounts, counts)\n",
    "\n",
    "# dloss/dnorm_logits = dloss/dcounts * dcounts/dnorm_logits\n",
    "dnorm_logits = dcounts * counts # since counts = e^norm_logits, dcounts/dnorm_logits = e^norm_logits = counts\n",
    "cmp('norm_logits', dnorm_logits, norm_logits)\n",
    "\n",
    "# have to be careful with this one beacuse the shapes do not match\n",
    "# norm_logits.shape, logits.shape, logit_maxes.shape # [32, 27], [32, 27], [32, 1]\n",
    "# a11 a12 a13 - b1 -> a11-b1 a12-b1 a13-b1\n",
    "# a21 a22 a23 - b2 -> a21-b2 a22-b2 a23-b2\n",
    "# a31 a32 a33 - b3 -> a31-b3 a32-b3 a33-b3\n",
    "#\n",
    "# so dloss/db1 = -1 -1 -1\n",
    "#                -1 -1 -1\n",
    "#                -1 -1 -1\n",
    "#\n",
    "# but then to retain the shape of b (3x1), we need to sum along dim 1\n",
    "#\n",
    "# norm_logits = logits - logit_maxes; dloss/dlogit_maxes = dloss/dnorm_logits * dnorm_logits/dlogit_maxes\n",
    "# = dnorm_logits * -1\n",
    "dlogit_maxes = (-1.0 * dnorm_logits).sum(1, keepdim=True)\n",
    "cmp('logit_maxes', dlogit_maxes, logit_maxes)\n",
    "\n",
    "dlogits = dnorm_logits.clone()\n",
    "\n",
    "# we do this because logits is also present to calculate logit_maxes\n",
    "# only the max element of each row of logits affects logit_maxes, so we only take the derivative on that element\n",
    "# and the remaining elements should be zero\n",
    "dlogits_p = torch.zeros_like(logits) # all elements are zero\n",
    "indices = logits.max(1, keepdim=True).indices # gets the indices of the max elements for each row in logits\n",
    "dlogits_p[range(logits.shape[0]), indices.view(-1)] = 1 # sets all the max element indices to be 1\n",
    "dlogits += dlogits_p * dlogit_maxes # multiply by dlogit_maxes to factor in the chain rule\n",
    "# dlogits += F.one_hot(logits.max(1).indices, num_classes=logits.shape[1]) * dlogit_maxes # also works, fancier ;)\n",
    "cmp('logits', dlogits, logits)\n",
    "\n",
    "# dloss/dh = dloss/dlogits * dlogits/dh\n",
    "# a11 a12 a13 a14     b11 b12 b13    = a11*b11 + a12*b21 + a13*b31 + a14*b41, a11*b12 + a12*b22 + ...\n",
    "# a21 a22 a23 a24  *  b21 b22 b23      a21*b11 + a22*b21 + a23*b31 + a24*b41, \n",
    "# a31 a32 a33 a34     b31 b32 b33\n",
    "#                     b41 b42 b43\n",
    "h.shape, W2.shape, logits.shape # [32, 64], [64, 27], [32, 27]\n",
    "\n",
    "dh = dlogits @ W2.T\n",
    "cmp('h', dh, h)\n",
    "\n",
    "dW2 = h.T @ dlogits\n",
    "cmp('W2', dW2, W2)\n",
    "\n",
    "db2 = dlogits.sum(0, keepdim=True)\n",
    "cmp('b2', db2, b2)\n",
    "\n",
    "dhpreact = (1 - h**2) * dh\n",
    "cmp('hpreact', dhpreact, hpreact)\n",
    "\n",
    "dbnraw = bngain * dhpreact\n",
    "cmp('bnraw', dbnraw, bnraw)\n",
    "\n",
    "dbngain = (bnraw * dhpreact).sum(0, keepdim=True)\n",
    "cmp('bngain', dbngain, bngain)\n",
    "\n",
    "dbnbias = dhpreact.sum(0, keepdim=True)\n",
    "cmp('bnbias', dbnbias, bnbias)\n",
    "\n",
    "dbnvar_inv = (bndiff * dbnraw).sum(0, keepdim=True)\n",
    "cmp('bnvar_inv', dbnvar_inv, bnvar_inv)\n",
    "\n",
    "dbnvar = -0.5 * (bnvar + 1e-5)**-1.5 * dbnvar_inv\n",
    "cmp('bnvar', dbnvar, bnvar)\n",
    "\n",
    "dbndiff2 = dbnvar.expand(bndiff2.shape) * (1.0/(n-1))\n",
    "cmp('bndiff2', dbndiff2, bndiff2)\n",
    "\n",
    "dbndiff = bnvar_inv * dbnraw + dbndiff2 * 2 * bndiff\n",
    "cmp('bndiff', dbndiff, bndiff)\n",
    "\n",
    "dbnmeani = -1.0 * dbndiff.sum(0, keepdim=True)\n",
    "cmp('bnmeani', dbnmeani, bnmeani)\n",
    "\n",
    "dhprebn = (1.0/n) * dbnmeani.expand(hprebn.shape) + dbndiff.clone()\n",
    "cmp('hprebn', dhprebn, hprebn)\n",
    "\n",
    "dembcat = dhprebn @ W1.T\n",
    "cmp('embcat', dembcat, embcat)\n",
    "\n",
    "dW1 = embcat.T @ dhprebn\n",
    "cmp('W1', dW1, W1)\n",
    "\n",
    "db1 = dhprebn.sum(0)\n",
    "cmp('b1', db1, b1)\n",
    "\n",
    "demb = dembcat.view(emb.shape)\n",
    "cmp('emb', demb, emb)\n",
    "\n",
    "# print(emb.shape, C.shape, Xb.shape)\n",
    "# torch.Size([32, 3, 10]) torch.Size([27, 10]) torch.Size([32, 3])\n",
    "# print(Xb[:5]) # each int inside each row of Xb tells us what rows of C to pluck out for each example. \n",
    "# tensor([[ 1,  1,  4], # i.e. pluck out C[1], C[1], C[4] and store it in emb[0]\n",
    "#         [18, 14,  1],\n",
    "#         [11,  5,  9],\n",
    "#         [ 0,  0,  1],\n",
    "#         [12, 15, 14]])\n",
    "# now to find dC we have demb which is of shape 32x3x10 and contains gradients of emb, and emb contains the \n",
    "# list of rows plucked from C. so we just have to return those rows back to their original position to find dC.\n",
    "# for any rows used multiple times, we have to add their gradients e.g. row 0 of Xb uses row 1 of C twice\n",
    "\n",
    "dC = torch.zeros_like(C)\n",
    "for k in range(Xb.shape[0]):\n",
    "    for j in range(Xb.shape[1]):\n",
    "        ix = Xb[k, j]\n",
    "        dC[ix] += demb[k, j]\n",
    "cmp('C', dC, C)"
   ]
  },
  {
   "cell_type": "code",
   "execution_count": 190,
   "id": "66cef145-9b5b-4e4d-8a8d-b0a9da576d70",
   "metadata": {},
   "outputs": [
    {
     "name": "stdout",
     "output_type": "stream",
     "text": [
      "3.349091053009033 diff: -2.384185791015625e-07\n"
     ]
    }
   ],
   "source": [
    "# Exercise 2: backprop through cross_entropy but all in one go\n",
    "# to complete this challenge, look at the mathematical expression of the loss,\n",
    "# take the derivative, simplify the expression, and just write it out\n",
    "\n",
    "# forward pass\n",
    "\n",
    "# before:\n",
    "# logit_maxes = logits.max(1, keepdim=True).values\n",
    "# norm_logits = logits - logit_maxes # subtract max for numerical stability\n",
    "# counts = norm_logits.exp()\n",
    "# counts_sum = counts.sum(1, keepdims=True)\n",
    "# counts_sum_inv = counts_sum**-1 # if I use (1.0 / counts_sum) instead then I can't get backprop to be a bit exact\n",
    "# probs = counts * counts_sum_inv\n",
    "# logprobs = probs.log()\n",
    "# loss = -logprobs[range(n), Yb].mean()\n",
    "\n",
    "# now:\n",
    "loss_fast = F.cross_entropy(logits, Yb)\n",
    "print(loss_fast.item(), 'diff:', (loss_fast - loss).item())"
   ]
  },
  {
   "cell_type": "code",
   "execution_count": 192,
   "id": "cb4c77e5-ebc8-48b1-a9f8-a52e05d6645d",
   "metadata": {},
   "outputs": [
    {
     "name": "stdout",
     "output_type": "stream",
     "text": [
      "logits          | exact: False | approximate: True  | maxdiff: 5.122274160385132e-09\n"
     ]
    }
   ],
   "source": [
    "# backward pass\n",
    "\n",
    "dlogits = F.softmax(logits, 1)\n",
    "dlogits[range(n), Yb] -= 1\n",
    "dlogits /= n\n",
    "\n",
    "cmp('logits', dlogits, logits) # I can only get approximate to be true, my maxdiff is 6e-9"
   ]
  },
  {
   "cell_type": "code",
   "execution_count": 197,
   "id": "453fc462-920f-4c86-8fc0-0d9ab3d3526a",
   "metadata": {
    "jupyter": {
     "source_hidden": true
    }
   },
   "outputs": [
    {
     "name": "stdout",
     "output_type": "stream",
     "text": [
      "max diff: tensor(7.1526e-07, grad_fn=<MaxBackward1>)\n"
     ]
    },
    {
     "data": {
      "text/plain": [
       "(torch.Size([1, 64]), torch.Size([1, 64]), torch.Size([32, 64]))"
      ]
     },
     "execution_count": 197,
     "metadata": {},
     "output_type": "execute_result"
    }
   ],
   "source": [
    "# Exercise 3: backprop through batchnorm but all in one go\n",
    "# to complete this challenge look at the mathematical expression of the output of batchnorm,\n",
    "# take the derivative w.r.t. its input, simplify the expression, and just write it out\n",
    "\n",
    "# forward pass\n",
    "\n",
    "# before:\n",
    "# bnmeani = 1/n * hprebn.sum(0, keepdim=True)\n",
    "# bndiff = hprebn - bnmeani\n",
    "# bndiff2 = bndiff**2\n",
    "# bnvar = 1/(n-1) * (bndiff2).sum(0, keepdim=True) # node: Bessel's correction (dividing by n-1, not n)\n",
    "# bnvar_inv = (bnvar + 1e-5)**-0.5\n",
    "# bnraw = bndiff * bnvar_inv\n",
    "# hpreact = bngain * bnraw + bnbias\n",
    "\n",
    "# now:\n",
    "hpreact_fast = bngain * (hprebn - hprebn.mean(0, keepdim=True)) / torch.sqrt(hprebn.var(0, keepdim=True, unbiased=True) + 1e-5) + bnbias\n",
    "print('max diff:', (hpreact_fast - hpreact).abs().max())\n",
    "\n",
    "bnvar.shape, bnmeani.shape, hprebn.shape"
   ]
  },
  {
   "cell_type": "code",
   "execution_count": 202,
   "id": "21bad55c-dbc7-4b50-b57b-8c44ce8d412f",
   "metadata": {},
   "outputs": [
    {
     "name": "stdout",
     "output_type": "stream",
     "text": [
      "hprebn          | exact: False | approximate: True  | maxdiff: 9.313225746154785e-10\n"
     ]
    }
   ],
   "source": [
    "# backward pass\n",
    "\n",
    "# before we had:\n",
    "# dbnraw = bngain * dhpreact\n",
    "# dbndiff = bnvar_inv * dbnraw\n",
    "# dbnvar_inv = (bndiff * dbnraw).sum(0, keepdim=True)\n",
    "# dbnvar = (-0.5*(bnvar + 1e-5)**-1.5) * dbnvar_inv\n",
    "# dbndiff2 = (1.0/(n-1))*torch.ones_like(bndiff2) * dbnvar\n",
    "# dbndiff += (2*bndiff) * dbndiff2\n",
    "# dhprebn = dbndiff.clone()\n",
    "# dbnmeani = (-dbndiff).sum(0)\n",
    "# dhprebn += 1.0/n * (torch.ones_like(hprebn) * dbnmeani)\n",
    "\n",
    "# calculate dhprebn given dhpreact (i.e. backprop through the batchnorm)\n",
    "# (you'll also need to use some of the variables from the forward pass up above)\n",
    "\n",
    "# see your notes for how you came up with this shit lmao\n",
    "dhprebn = bngain * bnvar_inv * (dhpreact - 1.0 / (n - 1) * bnraw * (bnraw * dhpreact).sum(0, keepdim=True) - 1.0 / n * dhpreact.sum(0, keepdim=True))\n",
    "cmp('hprebn', dhprebn, hprebn) # I can only get approximate to be true, my maxdiff is 9e-10"
   ]
  },
  {
   "cell_type": "code",
   "execution_count": 211,
   "id": "3da0a1ca-06c2-4957-88ca-9eaf6e1274e0",
   "metadata": {},
   "outputs": [
    {
     "name": "stdout",
     "output_type": "stream",
     "text": [
      "12297\n",
      "      0/ 200000: 3.8278\n",
      "  10000/ 200000: 2.1679\n",
      "  20000/ 200000: 2.3673\n",
      "  30000/ 200000: 2.4550\n",
      "  40000/ 200000: 2.0025\n",
      "  50000/ 200000: 2.3194\n",
      "  60000/ 200000: 2.4001\n",
      "  70000/ 200000: 2.0518\n",
      "  80000/ 200000: 2.2517\n",
      "  90000/ 200000: 2.1547\n",
      " 100000/ 200000: 1.9719\n",
      " 110000/ 200000: 2.3002\n",
      " 120000/ 200000: 1.9477\n",
      " 130000/ 200000: 2.3918\n",
      " 140000/ 200000: 2.2514\n",
      " 150000/ 200000: 2.1468\n",
      " 160000/ 200000: 1.9326\n",
      " 170000/ 200000: 1.8307\n",
      " 180000/ 200000: 2.0655\n",
      " 190000/ 200000: 1.9032\n"
     ]
    }
   ],
   "source": [
    "# Exercise 4: putting it all together!\n",
    "# Train the MLP neural net with your own backward pass\n",
    "\n",
    "# init\n",
    "n_embd = 10 # the dimensionality of the character embedding vectors\n",
    "n_hidden = 200 # the number of neurons in the hidden layer of the MLP\n",
    "\n",
    "g = torch.Generator().manual_seed(2147483647) # for reproducibility\n",
    "C  = torch.randn((vocab_size, n_embd),            generator=g)\n",
    "# Layer 1\n",
    "W1 = torch.randn((n_embd * block_size, n_hidden), generator=g) * (5/3)/((n_embd * block_size)**0.5)\n",
    "b1 = torch.randn(n_hidden,                        generator=g) * 0.1\n",
    "# Layer 2\n",
    "W2 = torch.randn((n_hidden, vocab_size),          generator=g) * 0.1\n",
    "b2 = torch.randn(vocab_size,                      generator=g) * 0.1\n",
    "# BatchNorm parameters\n",
    "bngain = torch.randn((1, n_hidden))*0.1 + 1.0\n",
    "bnbias = torch.randn((1, n_hidden))*0.1\n",
    "\n",
    "parameters = [C, W1, b1, W2, b2, bngain, bnbias]\n",
    "print(sum(p.nelement() for p in parameters)) # number of parameters in total\n",
    "for p in parameters:\n",
    "  p.requires_grad = True\n",
    "\n",
    "# same optimization as last time\n",
    "max_steps = 200000\n",
    "batch_size = 32\n",
    "n = batch_size # convenience\n",
    "lossi = []\n",
    "\n",
    "# use this context manager for efficiency once your backward pass is written (TODO)\n",
    "with torch.no_grad():\n",
    "\n",
    "  # kick off optimization\n",
    "  for i in range(max_steps):\n",
    "\n",
    "    # minibatch construct\n",
    "    ix = torch.randint(0, Xtr.shape[0], (batch_size,), generator=g)\n",
    "    Xb, Yb = Xtr[ix], Ytr[ix] # batch X,Y\n",
    "\n",
    "    # forward pass\n",
    "    emb = C[Xb] # embed the characters into vectors\n",
    "    embcat = emb.view(emb.shape[0], -1) # concatenate the vectors\n",
    "    # Linear layer\n",
    "    hprebn = embcat @ W1 + b1 # hidden layer pre-activation\n",
    "    # BatchNorm layer\n",
    "    # -------------------------------------------------------------\n",
    "    bnmean = hprebn.mean(0, keepdim=True)\n",
    "    bnvar = hprebn.var(0, keepdim=True, unbiased=True)\n",
    "    bnvar_inv = (bnvar + 1e-5)**-0.5\n",
    "    bnraw = (hprebn - bnmean) * bnvar_inv\n",
    "    hpreact = bngain * bnraw + bnbias\n",
    "    # -------------------------------------------------------------\n",
    "    # Non-linearity\n",
    "    h = torch.tanh(hpreact) # hidden layer\n",
    "    logits = h @ W2 + b2 # output layer\n",
    "    loss = F.cross_entropy(logits, Yb) # loss function\n",
    "\n",
    "    # backward pass\n",
    "    for p in parameters:\n",
    "        p.grad = None\n",
    "    #loss.backward() # use this for correctness comparisons, delete it later!\n",
    "\n",
    "    # manual backprop!\n",
    "    dlogits = F.softmax(logits, 1)\n",
    "    dlogits[range(n), Yb] -= 1\n",
    "    dlogits /= n\n",
    "    dh = dlogits @ W2.T\n",
    "    dW2 = h.T @ dlogits\n",
    "    db2 = dlogits.sum(0)\n",
    "    dhpreact = (1 - h**2) * dh\n",
    "    dbngain = (bnraw * dhpreact).sum(0, keepdim=True)\n",
    "    dhprebn = bngain * bnvar_inv * (dhpreact - 1.0 / (n - 1) * bnraw * (bnraw * dhpreact).sum(0, keepdim=True) - 1.0 / n * dhpreact.sum(0, keepdim=True))\n",
    "    dbnbias = dhpreact.sum(0, keepdim=True)\n",
    "    dembcat = dhprebn @ W1.T\n",
    "    dW1 = embcat.T @ dhprebn\n",
    "    db1 = dhprebn.sum(0)\n",
    "    demb = dembcat.view(emb.shape)\n",
    "    dC = torch.zeros_like(C)\n",
    "    for k in range(Xb.shape[0]):\n",
    "        for j in range(Xb.shape[1]):\n",
    "            ix = Xb[k, j]\n",
    "            dC[ix] += demb[k, j]\n",
    "\n",
    "    grads = [dC, dW1, db1, dW2, db2, dbngain, dbnbias]\n",
    "\n",
    "    # update\n",
    "    lr = 0.1 if i < 100000 else 0.01 # step learning rate decay\n",
    "    param = 0\n",
    "    for p, grad in zip(parameters, grads):\n",
    "        #p.data += -lr * p.grad # old way of cheems doge (using PyTorch grad from .backward())\n",
    "        p.data += -lr * grad # new way of swole doge TODO: enable\n",
    "        param += 1\n",
    "      \n",
    "    # track stats\n",
    "    if i % 10000 == 0: # print every once in a while\n",
    "        print(f'{i:7d}/{max_steps:7d}: {loss.item():.4f}')\n",
    "    lossi.append(loss.log10().item())\n",
    "\n",
    "    # if i >= 100: # TODO: delete early breaking when you're ready to train the full net\n",
    "    #     break"
   ]
  },
  {
   "cell_type": "code",
   "execution_count": 212,
   "id": "5ef44304-8462-4f93-8e7e-ef4f732f541a",
   "metadata": {},
   "outputs": [
    {
     "ename": "TypeError",
     "evalue": "all() received an invalid combination of arguments - got (bool), but expected one of:\n * (Tensor input, *, Tensor out = None)\n * (Tensor input, tuple of ints dim = None, bool keepdim = False, *, Tensor out = None)\n * (Tensor input, int dim, bool keepdim = False, *, Tensor out = None)\n * (Tensor input, name dim, bool keepdim = False, *, Tensor out = None)\n",
     "output_type": "error",
     "traceback": [
      "\u001b[0;31m---------------------------------------------------------------------------\u001b[0m",
      "\u001b[0;31mTypeError\u001b[0m                                 Traceback (most recent call last)",
      "Cell \u001b[0;32mIn[212], line 3\u001b[0m\n\u001b[1;32m      1\u001b[0m \u001b[38;5;66;03m# useful for checking your gradients\u001b[39;00m\n\u001b[1;32m      2\u001b[0m \u001b[38;5;28;01mfor\u001b[39;00m p,g \u001b[38;5;129;01min\u001b[39;00m \u001b[38;5;28mzip\u001b[39m(parameters, grads):\n\u001b[0;32m----> 3\u001b[0m   \u001b[43mcmp\u001b[49m\u001b[43m(\u001b[49m\u001b[38;5;28;43mstr\u001b[39;49m\u001b[43m(\u001b[49m\u001b[38;5;28;43mtuple\u001b[39;49m\u001b[43m(\u001b[49m\u001b[43mp\u001b[49m\u001b[38;5;241;43m.\u001b[39;49m\u001b[43mshape\u001b[49m\u001b[43m)\u001b[49m\u001b[43m)\u001b[49m\u001b[43m,\u001b[49m\u001b[43m \u001b[49m\u001b[43mg\u001b[49m\u001b[43m,\u001b[49m\u001b[43m \u001b[49m\u001b[43mp\u001b[49m\u001b[43m)\u001b[49m\n",
      "Cell \u001b[0;32mIn[6], line 3\u001b[0m, in \u001b[0;36mcmp\u001b[0;34m(s, dt, t)\u001b[0m\n\u001b[1;32m      2\u001b[0m \u001b[38;5;28;01mdef\u001b[39;00m\u001b[38;5;250m \u001b[39m\u001b[38;5;21mcmp\u001b[39m(s, dt, t):\n\u001b[0;32m----> 3\u001b[0m     ex \u001b[38;5;241m=\u001b[39m \u001b[43mtorch\u001b[49m\u001b[38;5;241;43m.\u001b[39;49m\u001b[43mall\u001b[49m\u001b[43m(\u001b[49m\u001b[43mdt\u001b[49m\u001b[43m \u001b[49m\u001b[38;5;241;43m==\u001b[39;49m\u001b[43m \u001b[49m\u001b[43mt\u001b[49m\u001b[38;5;241;43m.\u001b[39;49m\u001b[43mgrad\u001b[49m\u001b[43m)\u001b[49m\u001b[38;5;241m.\u001b[39mitem()\n\u001b[1;32m      4\u001b[0m     app \u001b[38;5;241m=\u001b[39m torch\u001b[38;5;241m.\u001b[39mallclose(dt, t\u001b[38;5;241m.\u001b[39mgrad)\n\u001b[1;32m      5\u001b[0m     maxdiff \u001b[38;5;241m=\u001b[39m (dt \u001b[38;5;241m-\u001b[39m t\u001b[38;5;241m.\u001b[39mgrad)\u001b[38;5;241m.\u001b[39mabs()\u001b[38;5;241m.\u001b[39mmax()\u001b[38;5;241m.\u001b[39mitem()\n",
      "\u001b[0;31mTypeError\u001b[0m: all() received an invalid combination of arguments - got (bool), but expected one of:\n * (Tensor input, *, Tensor out = None)\n * (Tensor input, tuple of ints dim = None, bool keepdim = False, *, Tensor out = None)\n * (Tensor input, int dim, bool keepdim = False, *, Tensor out = None)\n * (Tensor input, name dim, bool keepdim = False, *, Tensor out = None)\n"
     ]
    }
   ],
   "source": [
    "# useful for checking your gradients\n",
    "for p,g in zip(parameters, grads):\n",
    "  cmp(str(tuple(p.shape)), g, p)"
   ]
  },
  {
   "cell_type": "code",
   "execution_count": 213,
   "id": "4a28114c-5646-45e4-8631-fc0cd292d110",
   "metadata": {},
   "outputs": [],
   "source": [
    "# calibrate the batch norm at the end of training\n",
    "\n",
    "with torch.no_grad():\n",
    "  # pass the training set through\n",
    "  emb = C[Xtr]\n",
    "  embcat = emb.view(emb.shape[0], -1)\n",
    "  hpreact = embcat @ W1 + b1\n",
    "  # measure the mean/std over the entire training set\n",
    "  bnmean = hpreact.mean(0, keepdim=True)\n",
    "  bnvar = hpreact.var(0, keepdim=True, unbiased=True)"
   ]
  },
  {
   "cell_type": "code",
   "execution_count": 214,
   "id": "9f1c908a-6be5-451a-b32e-dba303d64f44",
   "metadata": {},
   "outputs": [
    {
     "name": "stdout",
     "output_type": "stream",
     "text": [
      "train 2.0727713108062744\n",
      "val 2.110630750656128\n"
     ]
    }
   ],
   "source": [
    "# evaluate train and val loss\n",
    "\n",
    "@torch.no_grad() # this decorator disables gradient tracking\n",
    "def split_loss(split):\n",
    "  x,y = {\n",
    "    'train': (Xtr, Ytr),\n",
    "    'val': (Xdev, Ydev),\n",
    "    'test': (Xte, Yte),\n",
    "  }[split]\n",
    "  emb = C[x] # (N, block_size, n_embd)\n",
    "  embcat = emb.view(emb.shape[0], -1) # concat into (N, block_size * n_embd)\n",
    "  hpreact = embcat @ W1 + b1\n",
    "  hpreact = bngain * (hpreact - bnmean) * (bnvar + 1e-5)**-0.5 + bnbias\n",
    "  h = torch.tanh(hpreact) # (N, n_hidden)\n",
    "  logits = h @ W2 + b2 # (N, vocab_size)\n",
    "  loss = F.cross_entropy(logits, y)\n",
    "  print(split, loss.item())\n",
    "\n",
    "split_loss('train')\n",
    "split_loss('val')"
   ]
  },
  {
   "cell_type": "code",
   "execution_count": null,
   "id": "de3c434b-2451-43c1-9866-e431395a2728",
   "metadata": {},
   "outputs": [],
   "source": [
    "# I achieved:\n",
    "# train 2.0727713108062744\n",
    "# val 2.110630750656128"
   ]
  },
  {
   "cell_type": "code",
   "execution_count": 215,
   "id": "508abb35-2fc0-44f9-83e1-ad2a1d6c37d1",
   "metadata": {},
   "outputs": [
    {
     "name": "stdout",
     "output_type": "stream",
     "text": [
      "carmahza.\n",
      "jahleigh.\n",
      "mri.\n",
      "reety.\n",
      "skanden.\n",
      "jazhuel.\n",
      "delynn.\n",
      "jareei.\n",
      "nellara.\n",
      "chaiiv.\n",
      "kaleigh.\n",
      "ham.\n",
      "joce.\n",
      "quint.\n",
      "shois.\n",
      "alianni.\n",
      "waterri.\n",
      "jarisi.\n",
      "jace.\n",
      "pirra.\n"
     ]
    }
   ],
   "source": [
    "# sample from the model\n",
    "g = torch.Generator().manual_seed(2147483647 + 10)\n",
    "\n",
    "for _ in range(20):\n",
    "    \n",
    "    out = []\n",
    "    context = [0] * block_size # initialize with all ...\n",
    "    while True:\n",
    "      # ------------\n",
    "      # forward pass:\n",
    "      # Embedding\n",
    "      emb = C[torch.tensor([context])] # (1,block_size,d)      \n",
    "      embcat = emb.view(emb.shape[0], -1) # concat into (N, block_size * n_embd)\n",
    "      hpreact = embcat @ W1 + b1\n",
    "      hpreact = bngain * (hpreact - bnmean) * (bnvar + 1e-5)**-0.5 + bnbias\n",
    "      h = torch.tanh(hpreact) # (N, n_hidden)\n",
    "      logits = h @ W2 + b2 # (N, vocab_size)\n",
    "      # ------------\n",
    "      # Sample\n",
    "      probs = F.softmax(logits, dim=1)\n",
    "      ix = torch.multinomial(probs, num_samples=1, generator=g).item()\n",
    "      context = context[1:] + [ix]\n",
    "      out.append(ix)\n",
    "      if ix == 0:\n",
    "        break\n",
    "    \n",
    "    print(''.join(itos[i] for i in out))"
   ]
  },
  {
   "cell_type": "code",
   "execution_count": null,
   "id": "b6b5b594-eb9a-489b-9b53-405862f010aa",
   "metadata": {},
   "outputs": [],
   "source": []
  }
 ],
 "metadata": {
  "kernelspec": {
   "display_name": "Python 3 (ipykernel)",
   "language": "python",
   "name": "python3"
  },
  "language_info": {
   "codemirror_mode": {
    "name": "ipython",
    "version": 3
   },
   "file_extension": ".py",
   "mimetype": "text/x-python",
   "name": "python",
   "nbconvert_exporter": "python",
   "pygments_lexer": "ipython3",
   "version": "3.13.2"
  }
 },
 "nbformat": 4,
 "nbformat_minor": 5
}
